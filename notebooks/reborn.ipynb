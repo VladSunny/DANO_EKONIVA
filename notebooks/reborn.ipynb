{
 "cells": [
  {
   "cell_type": "code",
   "execution_count": 78,
   "metadata": {},
   "outputs": [],
   "source": [
    "import pandas as pd\n",
    "import seaborn as sns\n",
    "import matplotlib.pyplot as plt\n",
    "import numpy as np"
   ]
  },
  {
   "cell_type": "code",
   "execution_count": 79,
   "metadata": {},
   "outputs": [],
   "source": [
    "df_fields = pd.read_csv('../data/fields.csv', delimiter=';', decimal=',', skiprows=[0, 2])\n",
    "df_value = pd.read_csv('../data/value.csv', delimiter=';', decimal=',', skiprows=[0, 1], parse_dates=['inv_item_date'], date_format={'inv_item_date': '%d.%m.%Y'})\n",
    "df_works = pd.read_csv('../data/works.csv', delimiter=';', decimal=',', skiprows=[0, 1], parse_dates=['start_date', 'end_date'], date_format={'start_date': '%d.%m.%Y', 'end_date': '%d.%m.%Y'})\n",
    "\n",
    "df_works['area'] = df_works['area'].str.replace(',', '.').astype(float)"
   ]
  },
  {
   "cell_type": "markdown",
   "metadata": {},
   "source": [
    "# Формирование таблицы с полями и их yield_plan, yield_fact"
   ]
  },
  {
   "cell_type": "code",
   "execution_count": 80,
   "metadata": {},
   "outputs": [
    {
     "data": {
      "text/html": [
       "<div>\n",
       "<style scoped>\n",
       "    .dataframe tbody tr th:only-of-type {\n",
       "        vertical-align: middle;\n",
       "    }\n",
       "\n",
       "    .dataframe tbody tr th {\n",
       "        vertical-align: top;\n",
       "    }\n",
       "\n",
       "    .dataframe thead th {\n",
       "        text-align: right;\n",
       "    }\n",
       "</style>\n",
       "<table border=\"1\" class=\"dataframe\">\n",
       "  <thead>\n",
       "    <tr style=\"text-align: right;\">\n",
       "      <th></th>\n",
       "      <th>field</th>\n",
       "      <th>season</th>\n",
       "      <th>yield_fact</th>\n",
       "    </tr>\n",
       "  </thead>\n",
       "  <tbody>\n",
       "    <tr>\n",
       "      <th>0</th>\n",
       "      <td>02.09.02.002.01</td>\n",
       "      <td>2023</td>\n",
       "      <td>1.568170</td>\n",
       "    </tr>\n",
       "    <tr>\n",
       "      <th>1</th>\n",
       "      <td>02.09.02.002.01</td>\n",
       "      <td>2024</td>\n",
       "      <td>0.000000</td>\n",
       "    </tr>\n",
       "    <tr>\n",
       "      <th>2</th>\n",
       "      <td>02.09.02.015.00</td>\n",
       "      <td>2023</td>\n",
       "      <td>1.223696</td>\n",
       "    </tr>\n",
       "    <tr>\n",
       "      <th>3</th>\n",
       "      <td>02.09.02.019.00</td>\n",
       "      <td>2023</td>\n",
       "      <td>2.150000</td>\n",
       "    </tr>\n",
       "    <tr>\n",
       "      <th>4</th>\n",
       "      <td>02.09.03.032.00</td>\n",
       "      <td>2023</td>\n",
       "      <td>268.696209</td>\n",
       "    </tr>\n",
       "  </tbody>\n",
       "</table>\n",
       "</div>"
      ],
      "text/plain": [
       "             field  season  yield_fact\n",
       "0  02.09.02.002.01    2023    1.568170\n",
       "1  02.09.02.002.01    2024    0.000000\n",
       "2  02.09.02.015.00    2023    1.223696\n",
       "3  02.09.02.019.00    2023    2.150000\n",
       "4  02.09.03.032.00    2023  268.696209"
      ]
     },
     "execution_count": 80,
     "metadata": {},
     "output_type": "execute_result"
    }
   ],
   "source": [
    "valid_work_subtypes = ['Прямое комбайнирование', 'Подбор и обмолот', 'Заготовка сенажа', 'Уборка силос/карнаж', 'Подбор (корм)', 'Вывоз', 'Прессование']\n",
    "valid_work_types = ['Обработка почвы', 'Уборка']\n",
    "\n",
    "df_yield_fact_works = df_works.query(\n",
    "    f\"work_type in {valid_work_types} and work_subtype in {valid_work_subtypes}\"\n",
    ")[['season', 'field', 'yield_fact', 'area', 'work_type']]\n",
    "\n",
    "df_yield_fact = (\n",
    "    df_yield_fact_works\n",
    "    .assign(weighted_yield=lambda x: x['yield_fact'] * x['area'])\n",
    "    .groupby(['field', 'season'])\n",
    "    .agg(weighted_yield=('weighted_yield', 'sum'), total_area=('area', 'sum'))\n",
    "    .assign(weighted_mean=lambda x: x['weighted_yield'] / x['total_area'])\n",
    "    .reset_index()[['field', 'season', 'weighted_mean']]\n",
    ")\n",
    "\n",
    "df_yield_fact = df_yield_fact.rename(columns={'weighted_mean': 'yield_fact'})\n",
    "\n",
    "df_yield_fact.head()"
   ]
  },
  {
   "cell_type": "code",
   "execution_count": 81,
   "metadata": {},
   "outputs": [
    {
     "data": {
      "text/html": [
       "<div>\n",
       "<style scoped>\n",
       "    .dataframe tbody tr th:only-of-type {\n",
       "        vertical-align: middle;\n",
       "    }\n",
       "\n",
       "    .dataframe tbody tr th {\n",
       "        vertical-align: top;\n",
       "    }\n",
       "\n",
       "    .dataframe thead th {\n",
       "        text-align: right;\n",
       "    }\n",
       "</style>\n",
       "<table border=\"1\" class=\"dataframe\">\n",
       "  <thead>\n",
       "    <tr style=\"text-align: right;\">\n",
       "      <th></th>\n",
       "      <th>season</th>\n",
       "      <th>field</th>\n",
       "      <th>p2o5</th>\n",
       "      <th>k2o</th>\n",
       "      <th>humus</th>\n",
       "      <th>ph</th>\n",
       "      <th>crop</th>\n",
       "      <th>region</th>\n",
       "      <th>yield_plan</th>\n",
       "      <th>yield_fact</th>\n",
       "    </tr>\n",
       "  </thead>\n",
       "  <tbody>\n",
       "    <tr>\n",
       "      <th>0</th>\n",
       "      <td>2023</td>\n",
       "      <td>22.47.01.001.01</td>\n",
       "      <td>221.05</td>\n",
       "      <td>206.3</td>\n",
       "      <td>4.05</td>\n",
       "      <td>5.25</td>\n",
       "      <td>Оз.пшеница мягкая</td>\n",
       "      <td>Алтай</td>\n",
       "      <td>3.8</td>\n",
       "      <td>190.592405</td>\n",
       "    </tr>\n",
       "    <tr>\n",
       "      <th>3</th>\n",
       "      <td>2023</td>\n",
       "      <td>22.47.01.003.00</td>\n",
       "      <td>186.50</td>\n",
       "      <td>174.8</td>\n",
       "      <td>5.90</td>\n",
       "      <td>5.40</td>\n",
       "      <td>Оз.пшеница мягкая</td>\n",
       "      <td>Алтай</td>\n",
       "      <td>3.8</td>\n",
       "      <td>1.851617</td>\n",
       "    </tr>\n",
       "    <tr>\n",
       "      <th>4</th>\n",
       "      <td>2023</td>\n",
       "      <td>22.47.01.004.00</td>\n",
       "      <td>166.60</td>\n",
       "      <td>147.9</td>\n",
       "      <td>5.60</td>\n",
       "      <td>5.40</td>\n",
       "      <td>Оз.пшеница мягкая</td>\n",
       "      <td>Алтай</td>\n",
       "      <td>3.8</td>\n",
       "      <td>1.418186</td>\n",
       "    </tr>\n",
       "    <tr>\n",
       "      <th>7</th>\n",
       "      <td>2023</td>\n",
       "      <td>22.47.01.006.02</td>\n",
       "      <td>194.70</td>\n",
       "      <td>195.9</td>\n",
       "      <td>4.00</td>\n",
       "      <td>5.15</td>\n",
       "      <td>Оз.пшеница мягкая</td>\n",
       "      <td>Алтай</td>\n",
       "      <td>3.8</td>\n",
       "      <td>2.187347</td>\n",
       "    </tr>\n",
       "    <tr>\n",
       "      <th>9</th>\n",
       "      <td>2023</td>\n",
       "      <td>22.47.01.007.02</td>\n",
       "      <td>184.20</td>\n",
       "      <td>171.4</td>\n",
       "      <td>4.40</td>\n",
       "      <td>5.05</td>\n",
       "      <td>Оз.пшеница мягкая</td>\n",
       "      <td>Алтай</td>\n",
       "      <td>3.8</td>\n",
       "      <td>2.109071</td>\n",
       "    </tr>\n",
       "  </tbody>\n",
       "</table>\n",
       "</div>"
      ],
      "text/plain": [
       "   season            field    p2o5    k2o  humus    ph               crop  \\\n",
       "0    2023  22.47.01.001.01  221.05  206.3   4.05  5.25  Оз.пшеница мягкая   \n",
       "3    2023  22.47.01.003.00  186.50  174.8   5.90  5.40  Оз.пшеница мягкая   \n",
       "4    2023  22.47.01.004.00  166.60  147.9   5.60  5.40  Оз.пшеница мягкая   \n",
       "7    2023  22.47.01.006.02  194.70  195.9   4.00  5.15  Оз.пшеница мягкая   \n",
       "9    2023  22.47.01.007.02  184.20  171.4   4.40  5.05  Оз.пшеница мягкая   \n",
       "\n",
       "  region  yield_plan  yield_fact  \n",
       "0  Алтай         3.8  190.592405  \n",
       "3  Алтай         3.8    1.851617  \n",
       "4  Алтай         3.8    1.418186  \n",
       "7  Алтай         3.8    2.187347  \n",
       "9  Алтай         3.8    2.109071  "
      ]
     },
     "execution_count": 81,
     "metadata": {},
     "output_type": "execute_result"
    }
   ],
   "source": [
    "df_fields_tmp = df_fields[['season', 'field', 'p2o5', 'k2o', 'humus', 'ph', 'crop', 'region', 'yield_plan']]\n",
    "\n",
    "df_yield = df_fields_tmp.merge(df_yield_fact, how='left', on=['field', 'season'])\n",
    "\n",
    "df_yield = df_yield.dropna()\n",
    "\n",
    "df_yield.head()"
   ]
  },
  {
   "cell_type": "markdown",
   "metadata": {},
   "source": [
    "# Добавление информации о товарно-материальных ценностях"
   ]
  },
  {
   "cell_type": "code",
   "execution_count": 82,
   "metadata": {},
   "outputs": [
    {
     "data": {
      "text/html": [
       "<div>\n",
       "<style scoped>\n",
       "    .dataframe tbody tr th:only-of-type {\n",
       "        vertical-align: middle;\n",
       "    }\n",
       "\n",
       "    .dataframe tbody tr th {\n",
       "        vertical-align: top;\n",
       "    }\n",
       "\n",
       "    .dataframe thead th {\n",
       "        text-align: right;\n",
       "    }\n",
       "</style>\n",
       "<table border=\"1\" class=\"dataframe\">\n",
       "  <thead>\n",
       "    <tr style=\"text-align: right;\">\n",
       "      <th></th>\n",
       "      <th>field</th>\n",
       "      <th>inv_item_type</th>\n",
       "      <th>inv_item_name</th>\n",
       "      <th>inv_item_weight</th>\n",
       "      <th>inv_item_unit</th>\n",
       "      <th>inv_item_dose</th>\n",
       "      <th>inv_item_date</th>\n",
       "      <th>work_id</th>\n",
       "    </tr>\n",
       "  </thead>\n",
       "  <tbody>\n",
       "    <tr>\n",
       "      <th>0</th>\n",
       "      <td>36.01.21.025.01</td>\n",
       "      <td>Удобрения</td>\n",
       "      <td>Удобрение 31</td>\n",
       "      <td>15017.6</td>\n",
       "      <td>кг</td>\n",
       "      <td>260.0</td>\n",
       "      <td>2024-10-28</td>\n",
       "      <td>E3A7DAEB-D124-4685-ADE1-199818C77361</td>\n",
       "    </tr>\n",
       "    <tr>\n",
       "      <th>1</th>\n",
       "      <td>36.14.12.064.00</td>\n",
       "      <td>Удобрения</td>\n",
       "      <td>Удобрение 31</td>\n",
       "      <td>6500.0</td>\n",
       "      <td>м3</td>\n",
       "      <td>65.0</td>\n",
       "      <td>2024-10-28</td>\n",
       "      <td>0AB8C8D7-04BD-4483-98B2-3E062CDD7E3E</td>\n",
       "    </tr>\n",
       "    <tr>\n",
       "      <th>2</th>\n",
       "      <td>36.14.16.008.00</td>\n",
       "      <td>Удобрения</td>\n",
       "      <td>Удобрение 49</td>\n",
       "      <td>7865.0</td>\n",
       "      <td>т</td>\n",
       "      <td>65.0</td>\n",
       "      <td>2024-10-28</td>\n",
       "      <td>00E51F81-0A4F-4983-B068-877A089FFD33</td>\n",
       "    </tr>\n",
       "    <tr>\n",
       "      <th>3</th>\n",
       "      <td>36.14.16.008.00</td>\n",
       "      <td>Удобрения</td>\n",
       "      <td>Удобрение 49</td>\n",
       "      <td>10985.0</td>\n",
       "      <td>т</td>\n",
       "      <td>65.0</td>\n",
       "      <td>2024-10-28</td>\n",
       "      <td>150F0150-8061-4CE9-9570-B112CBAD7C51</td>\n",
       "    </tr>\n",
       "    <tr>\n",
       "      <th>4</th>\n",
       "      <td>36.14.16.008.00</td>\n",
       "      <td>Удобрения</td>\n",
       "      <td>Удобрение 49</td>\n",
       "      <td>10985.0</td>\n",
       "      <td>т</td>\n",
       "      <td>65.0</td>\n",
       "      <td>2024-10-28</td>\n",
       "      <td>D5D1EADB-D159-4CF8-8C2A-171517ACD403</td>\n",
       "    </tr>\n",
       "  </tbody>\n",
       "</table>\n",
       "</div>"
      ],
      "text/plain": [
       "             field inv_item_type inv_item_name  inv_item_weight inv_item_unit  \\\n",
       "0  36.01.21.025.01     Удобрения  Удобрение 31          15017.6            кг   \n",
       "1  36.14.12.064.00     Удобрения  Удобрение 31           6500.0            м3   \n",
       "2  36.14.16.008.00     Удобрения  Удобрение 49           7865.0             т   \n",
       "3  36.14.16.008.00     Удобрения  Удобрение 49          10985.0             т   \n",
       "4  36.14.16.008.00     Удобрения  Удобрение 49          10985.0             т   \n",
       "\n",
       "   inv_item_dose inv_item_date                               work_id  \n",
       "0          260.0    2024-10-28  E3A7DAEB-D124-4685-ADE1-199818C77361  \n",
       "1           65.0    2024-10-28  0AB8C8D7-04BD-4483-98B2-3E062CDD7E3E  \n",
       "2           65.0    2024-10-28  00E51F81-0A4F-4983-B068-877A089FFD33  \n",
       "3           65.0    2024-10-28  150F0150-8061-4CE9-9570-B112CBAD7C51  \n",
       "4           65.0    2024-10-28  D5D1EADB-D159-4CF8-8C2A-171517ACD403  "
      ]
     },
     "execution_count": 82,
     "metadata": {},
     "output_type": "execute_result"
    }
   ],
   "source": [
    "df_value.head()"
   ]
  },
  {
   "cell_type": "code",
   "execution_count": 83,
   "metadata": {},
   "outputs": [
    {
     "data": {
      "text/plain": [
       "inv_item_type\n",
       "СЗР          100115\n",
       "Удобрения     43008\n",
       "Семена        27690\n",
       "Name: count, dtype: int64"
      ]
     },
     "execution_count": 83,
     "metadata": {},
     "output_type": "execute_result"
    }
   ],
   "source": [
    "df_value['inv_item_type'].value_counts()"
   ]
  },
  {
   "cell_type": "code",
   "execution_count": 84,
   "metadata": {},
   "outputs": [],
   "source": [
    "df_fert = df_value[df_value['inv_item_type'] == 'Удобрения']"
   ]
  },
  {
   "cell_type": "code",
   "execution_count": 85,
   "metadata": {},
   "outputs": [
    {
     "data": {
      "text/plain": [
       "field              0\n",
       "inv_item_type      0\n",
       "inv_item_name      0\n",
       "inv_item_weight    0\n",
       "inv_item_unit      2\n",
       "inv_item_dose      0\n",
       "inv_item_date      0\n",
       "work_id            0\n",
       "dtype: int64"
      ]
     },
     "execution_count": 85,
     "metadata": {},
     "output_type": "execute_result"
    }
   ],
   "source": [
    "df_fert.isnull().sum()"
   ]
  },
  {
   "cell_type": "code",
   "execution_count": 86,
   "metadata": {},
   "outputs": [
    {
     "data": {
      "text/plain": [
       "array(['кг', 'м3', 'т', 'л', nan, 'шт'], dtype=object)"
      ]
     },
     "execution_count": 86,
     "metadata": {},
     "output_type": "execute_result"
    }
   ],
   "source": [
    "df_fert['inv_item_unit'].unique()"
   ]
  },
  {
   "cell_type": "code",
   "execution_count": 87,
   "metadata": {},
   "outputs": [
    {
     "data": {
      "text/plain": [
       "(43008, 8)"
      ]
     },
     "execution_count": 87,
     "metadata": {},
     "output_type": "execute_result"
    }
   ],
   "source": [
    "df_fert.shape"
   ]
  },
  {
   "cell_type": "markdown",
   "metadata": {},
   "source": [
    "## В итоге стоит превести всё к общим размерностям:\n",
    "кг, м3, п.е., п. ед., упак, шт"
   ]
  },
  {
   "cell_type": "code",
   "execution_count": 88,
   "metadata": {},
   "outputs": [],
   "source": [
    "df_fert = df_fert.dropna()"
   ]
  },
  {
   "cell_type": "code",
   "execution_count": 89,
   "metadata": {},
   "outputs": [
    {
     "data": {
      "text/plain": [
       "inv_item_unit\n",
       "кг    31047\n",
       "т      7862\n",
       "л      3097\n",
       "м3      999\n",
       "шт        1\n",
       "Name: count, dtype: int64"
      ]
     },
     "execution_count": 89,
     "metadata": {},
     "output_type": "execute_result"
    }
   ],
   "source": [
    "df_fert['inv_item_unit'].value_counts()"
   ]
  },
  {
   "cell_type": "code",
   "execution_count": 90,
   "metadata": {},
   "outputs": [
    {
     "data": {
      "text/html": [
       "<div>\n",
       "<style scoped>\n",
       "    .dataframe tbody tr th:only-of-type {\n",
       "        vertical-align: middle;\n",
       "    }\n",
       "\n",
       "    .dataframe tbody tr th {\n",
       "        vertical-align: top;\n",
       "    }\n",
       "\n",
       "    .dataframe thead th {\n",
       "        text-align: right;\n",
       "    }\n",
       "</style>\n",
       "<table border=\"1\" class=\"dataframe\">\n",
       "  <thead>\n",
       "    <tr style=\"text-align: right;\">\n",
       "      <th></th>\n",
       "      <th>field</th>\n",
       "      <th>inv_item_type</th>\n",
       "      <th>inv_item_name</th>\n",
       "      <th>inv_item_weight</th>\n",
       "      <th>inv_item_unit</th>\n",
       "      <th>inv_item_dose</th>\n",
       "      <th>inv_item_date</th>\n",
       "      <th>work_id</th>\n",
       "    </tr>\n",
       "  </thead>\n",
       "  <tbody>\n",
       "    <tr>\n",
       "      <th>0</th>\n",
       "      <td>36.01.21.025.01</td>\n",
       "      <td>Удобрения</td>\n",
       "      <td>Удобрение 31</td>\n",
       "      <td>15017.6</td>\n",
       "      <td>кг</td>\n",
       "      <td>260.0</td>\n",
       "      <td>2024-10-28</td>\n",
       "      <td>E3A7DAEB-D124-4685-ADE1-199818C77361</td>\n",
       "    </tr>\n",
       "    <tr>\n",
       "      <th>1</th>\n",
       "      <td>36.14.12.064.00</td>\n",
       "      <td>Удобрения</td>\n",
       "      <td>Удобрение 31</td>\n",
       "      <td>6500.0</td>\n",
       "      <td>м3</td>\n",
       "      <td>65.0</td>\n",
       "      <td>2024-10-28</td>\n",
       "      <td>0AB8C8D7-04BD-4483-98B2-3E062CDD7E3E</td>\n",
       "    </tr>\n",
       "    <tr>\n",
       "      <th>2</th>\n",
       "      <td>36.14.16.008.00</td>\n",
       "      <td>Удобрения</td>\n",
       "      <td>Удобрение 49</td>\n",
       "      <td>7865.0</td>\n",
       "      <td>кг</td>\n",
       "      <td>65000.0</td>\n",
       "      <td>2024-10-28</td>\n",
       "      <td>00E51F81-0A4F-4983-B068-877A089FFD33</td>\n",
       "    </tr>\n",
       "    <tr>\n",
       "      <th>3</th>\n",
       "      <td>36.14.16.008.00</td>\n",
       "      <td>Удобрения</td>\n",
       "      <td>Удобрение 49</td>\n",
       "      <td>10985.0</td>\n",
       "      <td>кг</td>\n",
       "      <td>65000.0</td>\n",
       "      <td>2024-10-28</td>\n",
       "      <td>150F0150-8061-4CE9-9570-B112CBAD7C51</td>\n",
       "    </tr>\n",
       "    <tr>\n",
       "      <th>4</th>\n",
       "      <td>36.14.16.008.00</td>\n",
       "      <td>Удобрения</td>\n",
       "      <td>Удобрение 49</td>\n",
       "      <td>10985.0</td>\n",
       "      <td>кг</td>\n",
       "      <td>65000.0</td>\n",
       "      <td>2024-10-28</td>\n",
       "      <td>D5D1EADB-D159-4CF8-8C2A-171517ACD403</td>\n",
       "    </tr>\n",
       "  </tbody>\n",
       "</table>\n",
       "</div>"
      ],
      "text/plain": [
       "             field inv_item_type inv_item_name  inv_item_weight inv_item_unit  \\\n",
       "0  36.01.21.025.01     Удобрения  Удобрение 31          15017.6            кг   \n",
       "1  36.14.12.064.00     Удобрения  Удобрение 31           6500.0            м3   \n",
       "2  36.14.16.008.00     Удобрения  Удобрение 49           7865.0            кг   \n",
       "3  36.14.16.008.00     Удобрения  Удобрение 49          10985.0            кг   \n",
       "4  36.14.16.008.00     Удобрения  Удобрение 49          10985.0            кг   \n",
       "\n",
       "   inv_item_dose inv_item_date                               work_id  \n",
       "0          260.0    2024-10-28  E3A7DAEB-D124-4685-ADE1-199818C77361  \n",
       "1           65.0    2024-10-28  0AB8C8D7-04BD-4483-98B2-3E062CDD7E3E  \n",
       "2        65000.0    2024-10-28  00E51F81-0A4F-4983-B068-877A089FFD33  \n",
       "3        65000.0    2024-10-28  150F0150-8061-4CE9-9570-B112CBAD7C51  \n",
       "4        65000.0    2024-10-28  D5D1EADB-D159-4CF8-8C2A-171517ACD403  "
      ]
     },
     "execution_count": 90,
     "metadata": {},
     "output_type": "execute_result"
    }
   ],
   "source": [
    "df_fert.loc[df_fert['inv_item_unit'] == 'т', 'inv_item_dose'] *= 1000\n",
    "df_fert.loc[df_fert['inv_item_unit'] == 'т', 'inv_item_unit'] = 'кг'\n",
    "df_fert.head()"
   ]
  },
  {
   "cell_type": "code",
   "execution_count": 91,
   "metadata": {},
   "outputs": [
    {
     "data": {
      "text/html": [
       "<div>\n",
       "<style scoped>\n",
       "    .dataframe tbody tr th:only-of-type {\n",
       "        vertical-align: middle;\n",
       "    }\n",
       "\n",
       "    .dataframe tbody tr th {\n",
       "        vertical-align: top;\n",
       "    }\n",
       "\n",
       "    .dataframe thead th {\n",
       "        text-align: right;\n",
       "    }\n",
       "</style>\n",
       "<table border=\"1\" class=\"dataframe\">\n",
       "  <thead>\n",
       "    <tr style=\"text-align: right;\">\n",
       "      <th></th>\n",
       "      <th>field</th>\n",
       "      <th>inv_item_type</th>\n",
       "      <th>inv_item_name</th>\n",
       "      <th>inv_item_weight</th>\n",
       "      <th>inv_item_unit</th>\n",
       "      <th>inv_item_dose</th>\n",
       "      <th>inv_item_date</th>\n",
       "      <th>work_id</th>\n",
       "    </tr>\n",
       "  </thead>\n",
       "  <tbody>\n",
       "    <tr>\n",
       "      <th>0</th>\n",
       "      <td>36.01.21.025.01</td>\n",
       "      <td>Удобрения</td>\n",
       "      <td>Удобрение 31</td>\n",
       "      <td>15017.6</td>\n",
       "      <td>кг</td>\n",
       "      <td>260.0</td>\n",
       "      <td>2024-10-28</td>\n",
       "      <td>E3A7DAEB-D124-4685-ADE1-199818C77361</td>\n",
       "    </tr>\n",
       "    <tr>\n",
       "      <th>1</th>\n",
       "      <td>36.14.12.064.00</td>\n",
       "      <td>Удобрения</td>\n",
       "      <td>Удобрение 31</td>\n",
       "      <td>6500.0</td>\n",
       "      <td>л</td>\n",
       "      <td>65000.0</td>\n",
       "      <td>2024-10-28</td>\n",
       "      <td>0AB8C8D7-04BD-4483-98B2-3E062CDD7E3E</td>\n",
       "    </tr>\n",
       "    <tr>\n",
       "      <th>2</th>\n",
       "      <td>36.14.16.008.00</td>\n",
       "      <td>Удобрения</td>\n",
       "      <td>Удобрение 49</td>\n",
       "      <td>7865.0</td>\n",
       "      <td>кг</td>\n",
       "      <td>65000.0</td>\n",
       "      <td>2024-10-28</td>\n",
       "      <td>00E51F81-0A4F-4983-B068-877A089FFD33</td>\n",
       "    </tr>\n",
       "    <tr>\n",
       "      <th>3</th>\n",
       "      <td>36.14.16.008.00</td>\n",
       "      <td>Удобрения</td>\n",
       "      <td>Удобрение 49</td>\n",
       "      <td>10985.0</td>\n",
       "      <td>кг</td>\n",
       "      <td>65000.0</td>\n",
       "      <td>2024-10-28</td>\n",
       "      <td>150F0150-8061-4CE9-9570-B112CBAD7C51</td>\n",
       "    </tr>\n",
       "    <tr>\n",
       "      <th>4</th>\n",
       "      <td>36.14.16.008.00</td>\n",
       "      <td>Удобрения</td>\n",
       "      <td>Удобрение 49</td>\n",
       "      <td>10985.0</td>\n",
       "      <td>кг</td>\n",
       "      <td>65000.0</td>\n",
       "      <td>2024-10-28</td>\n",
       "      <td>D5D1EADB-D159-4CF8-8C2A-171517ACD403</td>\n",
       "    </tr>\n",
       "  </tbody>\n",
       "</table>\n",
       "</div>"
      ],
      "text/plain": [
       "             field inv_item_type inv_item_name  inv_item_weight inv_item_unit  \\\n",
       "0  36.01.21.025.01     Удобрения  Удобрение 31          15017.6            кг   \n",
       "1  36.14.12.064.00     Удобрения  Удобрение 31           6500.0             л   \n",
       "2  36.14.16.008.00     Удобрения  Удобрение 49           7865.0            кг   \n",
       "3  36.14.16.008.00     Удобрения  Удобрение 49          10985.0            кг   \n",
       "4  36.14.16.008.00     Удобрения  Удобрение 49          10985.0            кг   \n",
       "\n",
       "   inv_item_dose inv_item_date                               work_id  \n",
       "0          260.0    2024-10-28  E3A7DAEB-D124-4685-ADE1-199818C77361  \n",
       "1        65000.0    2024-10-28  0AB8C8D7-04BD-4483-98B2-3E062CDD7E3E  \n",
       "2        65000.0    2024-10-28  00E51F81-0A4F-4983-B068-877A089FFD33  \n",
       "3        65000.0    2024-10-28  150F0150-8061-4CE9-9570-B112CBAD7C51  \n",
       "4        65000.0    2024-10-28  D5D1EADB-D159-4CF8-8C2A-171517ACD403  "
      ]
     },
     "execution_count": 91,
     "metadata": {},
     "output_type": "execute_result"
    }
   ],
   "source": [
    "df_fert.loc[df_fert['inv_item_unit'] == 'м3', 'inv_item_dose'] *= 1000\n",
    "df_fert.loc[df_fert['inv_item_unit'] == 'м3', 'inv_item_unit'] = 'л'\n",
    "df_fert.head()"
   ]
  },
  {
   "cell_type": "code",
   "execution_count": 92,
   "metadata": {},
   "outputs": [
    {
     "data": {
      "text/plain": [
       "inv_item_unit\n",
       "кг    38909\n",
       "л      4096\n",
       "шт        1\n",
       "Name: count, dtype: int64"
      ]
     },
     "execution_count": 92,
     "metadata": {},
     "output_type": "execute_result"
    }
   ],
   "source": [
    "df_fert['inv_item_unit'].value_counts()"
   ]
  },
  {
   "cell_type": "code",
   "execution_count": 93,
   "metadata": {},
   "outputs": [
    {
     "data": {
      "text/plain": [
       "inv_item_unit\n",
       "кг    38909\n",
       "л      4096\n",
       "Name: count, dtype: int64"
      ]
     },
     "execution_count": 93,
     "metadata": {},
     "output_type": "execute_result"
    }
   ],
   "source": [
    "r_to_drop = df_fert[df_fert['inv_item_unit'] == 'шт'].index\n",
    "\n",
    "df_fert = df_fert.drop(r_to_drop)\n",
    "\n",
    "df_fert['inv_item_unit'].value_counts()"
   ]
  },
  {
   "cell_type": "markdown",
   "metadata": {},
   "source": [
    "## Добавление сезона"
   ]
  },
  {
   "cell_type": "code",
   "execution_count": 94,
   "metadata": {},
   "outputs": [
    {
     "data": {
      "text/html": [
       "<div>\n",
       "<style scoped>\n",
       "    .dataframe tbody tr th:only-of-type {\n",
       "        vertical-align: middle;\n",
       "    }\n",
       "\n",
       "    .dataframe tbody tr th {\n",
       "        vertical-align: top;\n",
       "    }\n",
       "\n",
       "    .dataframe thead th {\n",
       "        text-align: right;\n",
       "    }\n",
       "</style>\n",
       "<table border=\"1\" class=\"dataframe\">\n",
       "  <thead>\n",
       "    <tr style=\"text-align: right;\">\n",
       "      <th></th>\n",
       "      <th>season</th>\n",
       "      <th>work_id</th>\n",
       "    </tr>\n",
       "  </thead>\n",
       "  <tbody>\n",
       "    <tr>\n",
       "      <th>28762</th>\n",
       "      <td>2023</td>\n",
       "      <td>0000709B-EDB8-4A6F-A2C2-448AD1A70316</td>\n",
       "    </tr>\n",
       "    <tr>\n",
       "      <th>31143</th>\n",
       "      <td>2023</td>\n",
       "      <td>0000ACB9-08B0-483E-BAFD-C45570C2DA70</td>\n",
       "    </tr>\n",
       "    <tr>\n",
       "      <th>107954</th>\n",
       "      <td>2024</td>\n",
       "      <td>0000BD48-61E4-4F77-8C53-0CC5535655ED</td>\n",
       "    </tr>\n",
       "    <tr>\n",
       "      <th>144756</th>\n",
       "      <td>2024</td>\n",
       "      <td>0000D2BE-1620-4C00-88ED-10CA7C60BCCF</td>\n",
       "    </tr>\n",
       "    <tr>\n",
       "      <th>19142</th>\n",
       "      <td>2023</td>\n",
       "      <td>0000F83C-937B-49B7-AF69-0A573B099D1B</td>\n",
       "    </tr>\n",
       "  </tbody>\n",
       "</table>\n",
       "</div>"
      ],
      "text/plain": [
       "        season                               work_id\n",
       "28762     2023  0000709B-EDB8-4A6F-A2C2-448AD1A70316\n",
       "31143     2023  0000ACB9-08B0-483E-BAFD-C45570C2DA70\n",
       "107954    2024  0000BD48-61E4-4F77-8C53-0CC5535655ED\n",
       "144756    2024  0000D2BE-1620-4C00-88ED-10CA7C60BCCF\n",
       "19142     2023  0000F83C-937B-49B7-AF69-0A573B099D1B"
      ]
     },
     "execution_count": 94,
     "metadata": {},
     "output_type": "execute_result"
    }
   ],
   "source": [
    "df_works_tmp = df_works[['season', 'work_id']].sort_values(by='work_id')\n",
    "df_works_tmp.head(5)"
   ]
  },
  {
   "cell_type": "code",
   "execution_count": 95,
   "metadata": {},
   "outputs": [
    {
     "data": {
      "text/html": [
       "<div>\n",
       "<style scoped>\n",
       "    .dataframe tbody tr th:only-of-type {\n",
       "        vertical-align: middle;\n",
       "    }\n",
       "\n",
       "    .dataframe tbody tr th {\n",
       "        vertical-align: top;\n",
       "    }\n",
       "\n",
       "    .dataframe thead th {\n",
       "        text-align: right;\n",
       "    }\n",
       "</style>\n",
       "<table border=\"1\" class=\"dataframe\">\n",
       "  <thead>\n",
       "    <tr style=\"text-align: right;\">\n",
       "      <th></th>\n",
       "      <th>field</th>\n",
       "      <th>inv_item_name</th>\n",
       "      <th>inv_item_weight</th>\n",
       "      <th>inv_item_unit</th>\n",
       "      <th>work_id</th>\n",
       "    </tr>\n",
       "  </thead>\n",
       "  <tbody>\n",
       "    <tr>\n",
       "      <th>113923</th>\n",
       "      <td>36.14.06.025.00</td>\n",
       "      <td>Удобрение 10</td>\n",
       "      <td>44252.33</td>\n",
       "      <td>кг</td>\n",
       "      <td>0000F83C-937B-49B7-AF69-0A573B099D1B</td>\n",
       "    </tr>\n",
       "    <tr>\n",
       "      <th>143945</th>\n",
       "      <td>47.22.06.036.02</td>\n",
       "      <td>Удобрение 31</td>\n",
       "      <td>10296.00</td>\n",
       "      <td>л</td>\n",
       "      <td>00022E46-3B96-4FD2-A9F2-10FC62AF4D5E</td>\n",
       "    </tr>\n",
       "    <tr>\n",
       "      <th>127023</th>\n",
       "      <td>54.17.12.038.00</td>\n",
       "      <td>Удобрение 49</td>\n",
       "      <td>2293.20</td>\n",
       "      <td>кг</td>\n",
       "      <td>0002E9E7-7E9F-49D3-B189-B4EBD7011E4E</td>\n",
       "    </tr>\n",
       "    <tr>\n",
       "      <th>3667</th>\n",
       "      <td>56.28.06.035.02</td>\n",
       "      <td>Удобрение 57</td>\n",
       "      <td>210085.20</td>\n",
       "      <td>кг</td>\n",
       "      <td>00038C65-2CB9-42C3-B51A-95A2A9081B60</td>\n",
       "    </tr>\n",
       "    <tr>\n",
       "      <th>44122</th>\n",
       "      <td>16.13.12.055.00</td>\n",
       "      <td>Удобрение 57</td>\n",
       "      <td>914.06</td>\n",
       "      <td>кг</td>\n",
       "      <td>0003C1B2-B2A1-47E8-A43A-3B738A33CB9B</td>\n",
       "    </tr>\n",
       "  </tbody>\n",
       "</table>\n",
       "</div>"
      ],
      "text/plain": [
       "                  field inv_item_name  inv_item_weight inv_item_unit  \\\n",
       "113923  36.14.06.025.00  Удобрение 10         44252.33            кг   \n",
       "143945  47.22.06.036.02  Удобрение 31         10296.00             л   \n",
       "127023  54.17.12.038.00  Удобрение 49          2293.20            кг   \n",
       "3667    56.28.06.035.02  Удобрение 57        210085.20            кг   \n",
       "44122   16.13.12.055.00  Удобрение 57           914.06            кг   \n",
       "\n",
       "                                     work_id  \n",
       "113923  0000F83C-937B-49B7-AF69-0A573B099D1B  \n",
       "143945  00022E46-3B96-4FD2-A9F2-10FC62AF4D5E  \n",
       "127023  0002E9E7-7E9F-49D3-B189-B4EBD7011E4E  \n",
       "3667    00038C65-2CB9-42C3-B51A-95A2A9081B60  \n",
       "44122   0003C1B2-B2A1-47E8-A43A-3B738A33CB9B  "
      ]
     },
     "execution_count": 95,
     "metadata": {},
     "output_type": "execute_result"
    }
   ],
   "source": [
    "df_fert = df_fert[['field', 'inv_item_name', 'inv_item_weight', 'inv_item_unit', 'work_id']].sort_values(by='work_id')\n",
    "\n",
    "df_fert.head(5)"
   ]
  },
  {
   "cell_type": "code",
   "execution_count": 96,
   "metadata": {},
   "outputs": [
    {
     "data": {
      "text/html": [
       "<div>\n",
       "<style scoped>\n",
       "    .dataframe tbody tr th:only-of-type {\n",
       "        vertical-align: middle;\n",
       "    }\n",
       "\n",
       "    .dataframe tbody tr th {\n",
       "        vertical-align: top;\n",
       "    }\n",
       "\n",
       "    .dataframe thead th {\n",
       "        text-align: right;\n",
       "    }\n",
       "</style>\n",
       "<table border=\"1\" class=\"dataframe\">\n",
       "  <thead>\n",
       "    <tr style=\"text-align: right;\">\n",
       "      <th></th>\n",
       "      <th>field</th>\n",
       "      <th>inv_item_name</th>\n",
       "      <th>inv_item_weight</th>\n",
       "      <th>inv_item_unit</th>\n",
       "      <th>work_id</th>\n",
       "      <th>season</th>\n",
       "    </tr>\n",
       "  </thead>\n",
       "  <tbody>\n",
       "    <tr>\n",
       "      <th>0</th>\n",
       "      <td>36.14.06.025.00</td>\n",
       "      <td>Удобрение 10</td>\n",
       "      <td>44252.33</td>\n",
       "      <td>кг</td>\n",
       "      <td>0000F83C-937B-49B7-AF69-0A573B099D1B</td>\n",
       "      <td>2023</td>\n",
       "    </tr>\n",
       "    <tr>\n",
       "      <th>4</th>\n",
       "      <td>16.13.12.055.00</td>\n",
       "      <td>Удобрение 57</td>\n",
       "      <td>914.06</td>\n",
       "      <td>кг</td>\n",
       "      <td>0003C1B2-B2A1-47E8-A43A-3B738A33CB9B</td>\n",
       "      <td>2024</td>\n",
       "    </tr>\n",
       "    <tr>\n",
       "      <th>5</th>\n",
       "      <td>54.17.04.019.01</td>\n",
       "      <td>Удобрение 10</td>\n",
       "      <td>673920.00</td>\n",
       "      <td>кг</td>\n",
       "      <td>00050012-77E6-46C5-905A-00DB2DD97297</td>\n",
       "      <td>2024</td>\n",
       "    </tr>\n",
       "    <tr>\n",
       "      <th>9</th>\n",
       "      <td>40.10.13.004.00</td>\n",
       "      <td>Удобрение 14</td>\n",
       "      <td>540749.74</td>\n",
       "      <td>кг</td>\n",
       "      <td>000ABF02-B7CF-47BF-A07C-7C0AE76131F4</td>\n",
       "      <td>2024</td>\n",
       "    </tr>\n",
       "    <tr>\n",
       "      <th>11</th>\n",
       "      <td>54.17.02.002.02</td>\n",
       "      <td>Удобрение 23</td>\n",
       "      <td>9921.45</td>\n",
       "      <td>л</td>\n",
       "      <td>000CEDAF-47DA-4EF7-BF04-EB6AE99B905A</td>\n",
       "      <td>2023</td>\n",
       "    </tr>\n",
       "  </tbody>\n",
       "</table>\n",
       "</div>"
      ],
      "text/plain": [
       "              field inv_item_name  inv_item_weight inv_item_unit  \\\n",
       "0   36.14.06.025.00  Удобрение 10         44252.33            кг   \n",
       "4   16.13.12.055.00  Удобрение 57           914.06            кг   \n",
       "5   54.17.04.019.01  Удобрение 10        673920.00            кг   \n",
       "9   40.10.13.004.00  Удобрение 14        540749.74            кг   \n",
       "11  54.17.02.002.02  Удобрение 23          9921.45             л   \n",
       "\n",
       "                                 work_id  season  \n",
       "0   0000F83C-937B-49B7-AF69-0A573B099D1B    2023  \n",
       "4   0003C1B2-B2A1-47E8-A43A-3B738A33CB9B    2024  \n",
       "5   00050012-77E6-46C5-905A-00DB2DD97297    2024  \n",
       "9   000ABF02-B7CF-47BF-A07C-7C0AE76131F4    2024  \n",
       "11  000CEDAF-47DA-4EF7-BF04-EB6AE99B905A    2023  "
      ]
     },
     "execution_count": 96,
     "metadata": {},
     "output_type": "execute_result"
    }
   ],
   "source": [
    "df_fert = df_fert.merge(df_works_tmp, how='left', on=['work_id']).dropna()\n",
    "df_fert['season'] = df_fert['season'].astype(int)\n",
    "\n",
    "df_fert.head()"
   ]
  },
  {
   "cell_type": "code",
   "execution_count": 97,
   "metadata": {},
   "outputs": [
    {
     "data": {
      "text/html": [
       "<div>\n",
       "<style scoped>\n",
       "    .dataframe tbody tr th:only-of-type {\n",
       "        vertical-align: middle;\n",
       "    }\n",
       "\n",
       "    .dataframe tbody tr th {\n",
       "        vertical-align: top;\n",
       "    }\n",
       "\n",
       "    .dataframe thead th {\n",
       "        text-align: right;\n",
       "    }\n",
       "</style>\n",
       "<table border=\"1\" class=\"dataframe\">\n",
       "  <thead>\n",
       "    <tr style=\"text-align: right;\">\n",
       "      <th></th>\n",
       "      <th>field</th>\n",
       "      <th>inv_item_name</th>\n",
       "      <th>inv_item_weight</th>\n",
       "      <th>inv_item_unit</th>\n",
       "      <th>season</th>\n",
       "    </tr>\n",
       "  </thead>\n",
       "  <tbody>\n",
       "    <tr>\n",
       "      <th>0</th>\n",
       "      <td>36.14.06.025.00</td>\n",
       "      <td>Удобрение 10</td>\n",
       "      <td>44252.33</td>\n",
       "      <td>кг</td>\n",
       "      <td>2023</td>\n",
       "    </tr>\n",
       "    <tr>\n",
       "      <th>4</th>\n",
       "      <td>16.13.12.055.00</td>\n",
       "      <td>Удобрение 57</td>\n",
       "      <td>914.06</td>\n",
       "      <td>кг</td>\n",
       "      <td>2024</td>\n",
       "    </tr>\n",
       "    <tr>\n",
       "      <th>5</th>\n",
       "      <td>54.17.04.019.01</td>\n",
       "      <td>Удобрение 10</td>\n",
       "      <td>673920.00</td>\n",
       "      <td>кг</td>\n",
       "      <td>2024</td>\n",
       "    </tr>\n",
       "    <tr>\n",
       "      <th>9</th>\n",
       "      <td>40.10.13.004.00</td>\n",
       "      <td>Удобрение 14</td>\n",
       "      <td>540749.74</td>\n",
       "      <td>кг</td>\n",
       "      <td>2024</td>\n",
       "    </tr>\n",
       "    <tr>\n",
       "      <th>11</th>\n",
       "      <td>54.17.02.002.02</td>\n",
       "      <td>Удобрение 23</td>\n",
       "      <td>9921.45</td>\n",
       "      <td>л</td>\n",
       "      <td>2023</td>\n",
       "    </tr>\n",
       "  </tbody>\n",
       "</table>\n",
       "</div>"
      ],
      "text/plain": [
       "              field inv_item_name  inv_item_weight inv_item_unit  season\n",
       "0   36.14.06.025.00  Удобрение 10         44252.33            кг    2023\n",
       "4   16.13.12.055.00  Удобрение 57           914.06            кг    2024\n",
       "5   54.17.04.019.01  Удобрение 10        673920.00            кг    2024\n",
       "9   40.10.13.004.00  Удобрение 14        540749.74            кг    2024\n",
       "11  54.17.02.002.02  Удобрение 23          9921.45             л    2023"
      ]
     },
     "execution_count": 97,
     "metadata": {},
     "output_type": "execute_result"
    }
   ],
   "source": [
    "df_fert = df_fert.drop('work_id', axis=1)\n",
    "df_fert.head()"
   ]
  },
  {
   "cell_type": "markdown",
   "metadata": {},
   "source": [
    "## Умная группировка"
   ]
  },
  {
   "cell_type": "code",
   "execution_count": 98,
   "metadata": {},
   "outputs": [
    {
     "data": {
      "text/html": [
       "<div>\n",
       "<style scoped>\n",
       "    .dataframe tbody tr th:only-of-type {\n",
       "        vertical-align: middle;\n",
       "    }\n",
       "\n",
       "    .dataframe tbody tr th {\n",
       "        vertical-align: top;\n",
       "    }\n",
       "\n",
       "    .dataframe thead th {\n",
       "        text-align: right;\n",
       "    }\n",
       "</style>\n",
       "<table border=\"1\" class=\"dataframe\">\n",
       "  <thead>\n",
       "    <tr style=\"text-align: right;\">\n",
       "      <th></th>\n",
       "      <th>field</th>\n",
       "      <th>season</th>\n",
       "      <th>inv_item_unit</th>\n",
       "      <th>inv_item_weight</th>\n",
       "    </tr>\n",
       "  </thead>\n",
       "  <tbody>\n",
       "    <tr>\n",
       "      <th>0</th>\n",
       "      <td>02.09.02.002.01</td>\n",
       "      <td>2023</td>\n",
       "      <td>кг</td>\n",
       "      <td>1879808.13</td>\n",
       "    </tr>\n",
       "    <tr>\n",
       "      <th>1</th>\n",
       "      <td>02.09.02.002.01</td>\n",
       "      <td>2024</td>\n",
       "      <td>кг</td>\n",
       "      <td>819987.19</td>\n",
       "    </tr>\n",
       "    <tr>\n",
       "      <th>2</th>\n",
       "      <td>02.09.02.003.00</td>\n",
       "      <td>2024</td>\n",
       "      <td>кг</td>\n",
       "      <td>1095063.89</td>\n",
       "    </tr>\n",
       "    <tr>\n",
       "      <th>3</th>\n",
       "      <td>02.09.02.013.00</td>\n",
       "      <td>2024</td>\n",
       "      <td>кг</td>\n",
       "      <td>81640.47</td>\n",
       "    </tr>\n",
       "    <tr>\n",
       "      <th>4</th>\n",
       "      <td>02.09.02.015.00</td>\n",
       "      <td>2023</td>\n",
       "      <td>кг</td>\n",
       "      <td>171677.43</td>\n",
       "    </tr>\n",
       "  </tbody>\n",
       "</table>\n",
       "</div>"
      ],
      "text/plain": [
       "             field  season inv_item_unit  inv_item_weight\n",
       "0  02.09.02.002.01    2023            кг       1879808.13\n",
       "1  02.09.02.002.01    2024            кг        819987.19\n",
       "2  02.09.02.003.00    2024            кг       1095063.89\n",
       "3  02.09.02.013.00    2024            кг         81640.47\n",
       "4  02.09.02.015.00    2023            кг        171677.43"
      ]
     },
     "execution_count": 98,
     "metadata": {},
     "output_type": "execute_result"
    }
   ],
   "source": [
    "df_fert = df_fert.groupby(by=['field', 'season', 'inv_item_name', 'inv_item_unit']).agg({\n",
    "    'inv_item_weight' : 'sum'\n",
    "}).reset_index()\n",
    "\n",
    "df_fert = df_fert.groupby(by=['field', 'season', 'inv_item_unit']).agg({\n",
    "    'inv_item_weight': 'mean'\n",
    "}).reset_index().sort_values(by='field')\n",
    "\n",
    "df_fert.head()"
   ]
  },
  {
   "cell_type": "code",
   "execution_count": 99,
   "metadata": {},
   "outputs": [],
   "source": [
    "df_fert = df_fert.pivot(index=[\"field\", \"season\"], columns=\"inv_item_unit\", values=\"inv_item_weight\").reset_index().fillna(value=0)"
   ]
  },
  {
   "cell_type": "code",
   "execution_count": 100,
   "metadata": {},
   "outputs": [],
   "source": [
    "df_fert.columns.name = None"
   ]
  },
  {
   "cell_type": "code",
   "execution_count": 101,
   "metadata": {},
   "outputs": [
    {
     "data": {
      "text/html": [
       "<div>\n",
       "<style scoped>\n",
       "    .dataframe tbody tr th:only-of-type {\n",
       "        vertical-align: middle;\n",
       "    }\n",
       "\n",
       "    .dataframe tbody tr th {\n",
       "        vertical-align: top;\n",
       "    }\n",
       "\n",
       "    .dataframe thead th {\n",
       "        text-align: right;\n",
       "    }\n",
       "</style>\n",
       "<table border=\"1\" class=\"dataframe\">\n",
       "  <thead>\n",
       "    <tr style=\"text-align: right;\">\n",
       "      <th></th>\n",
       "      <th>field</th>\n",
       "      <th>season</th>\n",
       "      <th>кг</th>\n",
       "      <th>л</th>\n",
       "    </tr>\n",
       "  </thead>\n",
       "  <tbody>\n",
       "    <tr>\n",
       "      <th>0</th>\n",
       "      <td>02.09.02.002.01</td>\n",
       "      <td>2023</td>\n",
       "      <td>1879808.13</td>\n",
       "      <td>0.0</td>\n",
       "    </tr>\n",
       "    <tr>\n",
       "      <th>1</th>\n",
       "      <td>02.09.02.002.01</td>\n",
       "      <td>2024</td>\n",
       "      <td>819987.19</td>\n",
       "      <td>0.0</td>\n",
       "    </tr>\n",
       "    <tr>\n",
       "      <th>2</th>\n",
       "      <td>02.09.02.003.00</td>\n",
       "      <td>2024</td>\n",
       "      <td>1095063.89</td>\n",
       "      <td>0.0</td>\n",
       "    </tr>\n",
       "    <tr>\n",
       "      <th>3</th>\n",
       "      <td>02.09.02.013.00</td>\n",
       "      <td>2024</td>\n",
       "      <td>81640.47</td>\n",
       "      <td>0.0</td>\n",
       "    </tr>\n",
       "    <tr>\n",
       "      <th>4</th>\n",
       "      <td>02.09.02.015.00</td>\n",
       "      <td>2023</td>\n",
       "      <td>171677.43</td>\n",
       "      <td>0.0</td>\n",
       "    </tr>\n",
       "  </tbody>\n",
       "</table>\n",
       "</div>"
      ],
      "text/plain": [
       "             field  season          кг    л\n",
       "0  02.09.02.002.01    2023  1879808.13  0.0\n",
       "1  02.09.02.002.01    2024   819987.19  0.0\n",
       "2  02.09.02.003.00    2024  1095063.89  0.0\n",
       "3  02.09.02.013.00    2024    81640.47  0.0\n",
       "4  02.09.02.015.00    2023   171677.43  0.0"
      ]
     },
     "execution_count": 101,
     "metadata": {},
     "output_type": "execute_result"
    }
   ],
   "source": [
    "df_fert.head()"
   ]
  },
  {
   "cell_type": "markdown",
   "metadata": {},
   "source": [
    "# СЗР + препараты"
   ]
  },
  {
   "cell_type": "code",
   "execution_count": 102,
   "metadata": {},
   "outputs": [
    {
     "data": {
      "text/plain": [
       "inv_item_type\n",
       "СЗР          100115\n",
       "Удобрения     43008\n",
       "Семена        27690\n",
       "Name: count, dtype: int64"
      ]
     },
     "execution_count": 102,
     "metadata": {},
     "output_type": "execute_result"
    }
   ],
   "source": [
    "df_value['inv_item_type'].value_counts()"
   ]
  },
  {
   "cell_type": "code",
   "execution_count": 103,
   "metadata": {},
   "outputs": [
    {
     "data": {
      "text/html": [
       "<div>\n",
       "<style scoped>\n",
       "    .dataframe tbody tr th:only-of-type {\n",
       "        vertical-align: middle;\n",
       "    }\n",
       "\n",
       "    .dataframe tbody tr th {\n",
       "        vertical-align: top;\n",
       "    }\n",
       "\n",
       "    .dataframe thead th {\n",
       "        text-align: right;\n",
       "    }\n",
       "</style>\n",
       "<table border=\"1\" class=\"dataframe\">\n",
       "  <thead>\n",
       "    <tr style=\"text-align: right;\">\n",
       "      <th></th>\n",
       "      <th>field</th>\n",
       "      <th>inv_item_type</th>\n",
       "      <th>inv_item_name</th>\n",
       "      <th>inv_item_weight</th>\n",
       "      <th>inv_item_unit</th>\n",
       "      <th>inv_item_dose</th>\n",
       "      <th>inv_item_date</th>\n",
       "      <th>work_id</th>\n",
       "    </tr>\n",
       "  </thead>\n",
       "  <tbody>\n",
       "    <tr>\n",
       "      <th>0</th>\n",
       "      <td>36.01.21.025.01</td>\n",
       "      <td>Удобрения</td>\n",
       "      <td>Удобрение 31</td>\n",
       "      <td>15017.6</td>\n",
       "      <td>кг</td>\n",
       "      <td>260.0</td>\n",
       "      <td>2024-10-28</td>\n",
       "      <td>E3A7DAEB-D124-4685-ADE1-199818C77361</td>\n",
       "    </tr>\n",
       "    <tr>\n",
       "      <th>1</th>\n",
       "      <td>36.14.12.064.00</td>\n",
       "      <td>Удобрения</td>\n",
       "      <td>Удобрение 31</td>\n",
       "      <td>6500.0</td>\n",
       "      <td>м3</td>\n",
       "      <td>65.0</td>\n",
       "      <td>2024-10-28</td>\n",
       "      <td>0AB8C8D7-04BD-4483-98B2-3E062CDD7E3E</td>\n",
       "    </tr>\n",
       "    <tr>\n",
       "      <th>2</th>\n",
       "      <td>36.14.16.008.00</td>\n",
       "      <td>Удобрения</td>\n",
       "      <td>Удобрение 49</td>\n",
       "      <td>7865.0</td>\n",
       "      <td>т</td>\n",
       "      <td>65.0</td>\n",
       "      <td>2024-10-28</td>\n",
       "      <td>00E51F81-0A4F-4983-B068-877A089FFD33</td>\n",
       "    </tr>\n",
       "    <tr>\n",
       "      <th>3</th>\n",
       "      <td>36.14.16.008.00</td>\n",
       "      <td>Удобрения</td>\n",
       "      <td>Удобрение 49</td>\n",
       "      <td>10985.0</td>\n",
       "      <td>т</td>\n",
       "      <td>65.0</td>\n",
       "      <td>2024-10-28</td>\n",
       "      <td>150F0150-8061-4CE9-9570-B112CBAD7C51</td>\n",
       "    </tr>\n",
       "    <tr>\n",
       "      <th>4</th>\n",
       "      <td>36.14.16.008.00</td>\n",
       "      <td>Удобрения</td>\n",
       "      <td>Удобрение 49</td>\n",
       "      <td>10985.0</td>\n",
       "      <td>т</td>\n",
       "      <td>65.0</td>\n",
       "      <td>2024-10-28</td>\n",
       "      <td>D5D1EADB-D159-4CF8-8C2A-171517ACD403</td>\n",
       "    </tr>\n",
       "  </tbody>\n",
       "</table>\n",
       "</div>"
      ],
      "text/plain": [
       "             field inv_item_type inv_item_name  inv_item_weight inv_item_unit  \\\n",
       "0  36.01.21.025.01     Удобрения  Удобрение 31          15017.6            кг   \n",
       "1  36.14.12.064.00     Удобрения  Удобрение 31           6500.0            м3   \n",
       "2  36.14.16.008.00     Удобрения  Удобрение 49           7865.0             т   \n",
       "3  36.14.16.008.00     Удобрения  Удобрение 49          10985.0             т   \n",
       "4  36.14.16.008.00     Удобрения  Удобрение 49          10985.0             т   \n",
       "\n",
       "   inv_item_dose inv_item_date                               work_id  \n",
       "0          260.0    2024-10-28  E3A7DAEB-D124-4685-ADE1-199818C77361  \n",
       "1           65.0    2024-10-28  0AB8C8D7-04BD-4483-98B2-3E062CDD7E3E  \n",
       "2           65.0    2024-10-28  00E51F81-0A4F-4983-B068-877A089FFD33  \n",
       "3           65.0    2024-10-28  150F0150-8061-4CE9-9570-B112CBAD7C51  \n",
       "4           65.0    2024-10-28  D5D1EADB-D159-4CF8-8C2A-171517ACD403  "
      ]
     },
     "execution_count": 103,
     "metadata": {},
     "output_type": "execute_result"
    }
   ],
   "source": [
    "df_value.head()"
   ]
  },
  {
   "cell_type": "code",
   "execution_count": 104,
   "metadata": {},
   "outputs": [
    {
     "data": {
      "text/html": [
       "<div>\n",
       "<style scoped>\n",
       "    .dataframe tbody tr th:only-of-type {\n",
       "        vertical-align: middle;\n",
       "    }\n",
       "\n",
       "    .dataframe tbody tr th {\n",
       "        vertical-align: top;\n",
       "    }\n",
       "\n",
       "    .dataframe thead th {\n",
       "        text-align: right;\n",
       "    }\n",
       "</style>\n",
       "<table border=\"1\" class=\"dataframe\">\n",
       "  <thead>\n",
       "    <tr style=\"text-align: right;\">\n",
       "      <th></th>\n",
       "      <th>field</th>\n",
       "      <th>inv_item_name</th>\n",
       "      <th>inv_item_weight</th>\n",
       "      <th>inv_item_unit</th>\n",
       "      <th>work_id</th>\n",
       "    </tr>\n",
       "  </thead>\n",
       "  <tbody>\n",
       "    <tr>\n",
       "      <th>291</th>\n",
       "      <td>02.09.06.074.00</td>\n",
       "      <td>Препарат 23</td>\n",
       "      <td>39.10</td>\n",
       "      <td>л</td>\n",
       "      <td>27A8B4B1-C74B-457C-8EE5-116B1CA95A0F</td>\n",
       "    </tr>\n",
       "    <tr>\n",
       "      <th>292</th>\n",
       "      <td>02.09.06.074.00</td>\n",
       "      <td>Препарат 487</td>\n",
       "      <td>109.49</td>\n",
       "      <td>л</td>\n",
       "      <td>27A8B4B1-C74B-457C-8EE5-116B1CA95A0F</td>\n",
       "    </tr>\n",
       "    <tr>\n",
       "      <th>293</th>\n",
       "      <td>02.09.06.074.00</td>\n",
       "      <td>Препарат 376</td>\n",
       "      <td>195.52</td>\n",
       "      <td>л</td>\n",
       "      <td>27A8B4B1-C74B-457C-8EE5-116B1CA95A0F</td>\n",
       "    </tr>\n",
       "    <tr>\n",
       "      <th>294</th>\n",
       "      <td>02.09.06.075.00</td>\n",
       "      <td>Препарат 23</td>\n",
       "      <td>116.90</td>\n",
       "      <td>л</td>\n",
       "      <td>EE985EF3-7F94-47D4-85D9-8659BA79CCAF</td>\n",
       "    </tr>\n",
       "    <tr>\n",
       "      <th>295</th>\n",
       "      <td>02.09.06.075.00</td>\n",
       "      <td>Препарат 376</td>\n",
       "      <td>584.48</td>\n",
       "      <td>л</td>\n",
       "      <td>EE985EF3-7F94-47D4-85D9-8659BA79CCAF</td>\n",
       "    </tr>\n",
       "  </tbody>\n",
       "</table>\n",
       "</div>"
      ],
      "text/plain": [
       "               field inv_item_name  inv_item_weight inv_item_unit  \\\n",
       "291  02.09.06.074.00   Препарат 23            39.10             л   \n",
       "292  02.09.06.074.00  Препарат 487           109.49             л   \n",
       "293  02.09.06.074.00  Препарат 376           195.52             л   \n",
       "294  02.09.06.075.00   Препарат 23           116.90             л   \n",
       "295  02.09.06.075.00  Препарат 376           584.48             л   \n",
       "\n",
       "                                  work_id  \n",
       "291  27A8B4B1-C74B-457C-8EE5-116B1CA95A0F  \n",
       "292  27A8B4B1-C74B-457C-8EE5-116B1CA95A0F  \n",
       "293  27A8B4B1-C74B-457C-8EE5-116B1CA95A0F  \n",
       "294  EE985EF3-7F94-47D4-85D9-8659BA79CCAF  \n",
       "295  EE985EF3-7F94-47D4-85D9-8659BA79CCAF  "
      ]
     },
     "execution_count": 104,
     "metadata": {},
     "output_type": "execute_result"
    }
   ],
   "source": [
    "df_plant_protect = df_value[df_value['inv_item_type'] == \"СЗР\"][['field', 'inv_item_name', 'inv_item_weight', 'inv_item_unit', 'work_id']]\n",
    "\n",
    "df_plant_protect.head()"
   ]
  },
  {
   "cell_type": "code",
   "execution_count": 105,
   "metadata": {},
   "outputs": [
    {
     "data": {
      "text/html": [
       "<div>\n",
       "<style scoped>\n",
       "    .dataframe tbody tr th:only-of-type {\n",
       "        vertical-align: middle;\n",
       "    }\n",
       "\n",
       "    .dataframe tbody tr th {\n",
       "        vertical-align: top;\n",
       "    }\n",
       "\n",
       "    .dataframe thead th {\n",
       "        text-align: right;\n",
       "    }\n",
       "</style>\n",
       "<table border=\"1\" class=\"dataframe\">\n",
       "  <thead>\n",
       "    <tr style=\"text-align: right;\">\n",
       "      <th></th>\n",
       "      <th>season</th>\n",
       "      <th>work_id</th>\n",
       "    </tr>\n",
       "  </thead>\n",
       "  <tbody>\n",
       "    <tr>\n",
       "      <th>28762</th>\n",
       "      <td>2023</td>\n",
       "      <td>0000709B-EDB8-4A6F-A2C2-448AD1A70316</td>\n",
       "    </tr>\n",
       "    <tr>\n",
       "      <th>31143</th>\n",
       "      <td>2023</td>\n",
       "      <td>0000ACB9-08B0-483E-BAFD-C45570C2DA70</td>\n",
       "    </tr>\n",
       "    <tr>\n",
       "      <th>107954</th>\n",
       "      <td>2024</td>\n",
       "      <td>0000BD48-61E4-4F77-8C53-0CC5535655ED</td>\n",
       "    </tr>\n",
       "    <tr>\n",
       "      <th>144756</th>\n",
       "      <td>2024</td>\n",
       "      <td>0000D2BE-1620-4C00-88ED-10CA7C60BCCF</td>\n",
       "    </tr>\n",
       "    <tr>\n",
       "      <th>19142</th>\n",
       "      <td>2023</td>\n",
       "      <td>0000F83C-937B-49B7-AF69-0A573B099D1B</td>\n",
       "    </tr>\n",
       "  </tbody>\n",
       "</table>\n",
       "</div>"
      ],
      "text/plain": [
       "        season                               work_id\n",
       "28762     2023  0000709B-EDB8-4A6F-A2C2-448AD1A70316\n",
       "31143     2023  0000ACB9-08B0-483E-BAFD-C45570C2DA70\n",
       "107954    2024  0000BD48-61E4-4F77-8C53-0CC5535655ED\n",
       "144756    2024  0000D2BE-1620-4C00-88ED-10CA7C60BCCF\n",
       "19142     2023  0000F83C-937B-49B7-AF69-0A573B099D1B"
      ]
     },
     "execution_count": 105,
     "metadata": {},
     "output_type": "execute_result"
    }
   ],
   "source": [
    "df_works_tmp.head()"
   ]
  },
  {
   "cell_type": "code",
   "execution_count": 106,
   "metadata": {},
   "outputs": [
    {
     "data": {
      "text/html": [
       "<div>\n",
       "<style scoped>\n",
       "    .dataframe tbody tr th:only-of-type {\n",
       "        vertical-align: middle;\n",
       "    }\n",
       "\n",
       "    .dataframe tbody tr th {\n",
       "        vertical-align: top;\n",
       "    }\n",
       "\n",
       "    .dataframe thead th {\n",
       "        text-align: right;\n",
       "    }\n",
       "</style>\n",
       "<table border=\"1\" class=\"dataframe\">\n",
       "  <thead>\n",
       "    <tr style=\"text-align: right;\">\n",
       "      <th></th>\n",
       "      <th>field</th>\n",
       "      <th>inv_item_name</th>\n",
       "      <th>inv_item_weight</th>\n",
       "      <th>inv_item_unit</th>\n",
       "      <th>work_id</th>\n",
       "      <th>season</th>\n",
       "    </tr>\n",
       "  </thead>\n",
       "  <tbody>\n",
       "    <tr>\n",
       "      <th>0</th>\n",
       "      <td>02.09.06.074.00</td>\n",
       "      <td>Препарат 23</td>\n",
       "      <td>39.10</td>\n",
       "      <td>л</td>\n",
       "      <td>27A8B4B1-C74B-457C-8EE5-116B1CA95A0F</td>\n",
       "      <td>2024</td>\n",
       "    </tr>\n",
       "    <tr>\n",
       "      <th>1</th>\n",
       "      <td>02.09.06.074.00</td>\n",
       "      <td>Препарат 487</td>\n",
       "      <td>109.49</td>\n",
       "      <td>л</td>\n",
       "      <td>27A8B4B1-C74B-457C-8EE5-116B1CA95A0F</td>\n",
       "      <td>2024</td>\n",
       "    </tr>\n",
       "    <tr>\n",
       "      <th>2</th>\n",
       "      <td>02.09.06.074.00</td>\n",
       "      <td>Препарат 376</td>\n",
       "      <td>195.52</td>\n",
       "      <td>л</td>\n",
       "      <td>27A8B4B1-C74B-457C-8EE5-116B1CA95A0F</td>\n",
       "      <td>2024</td>\n",
       "    </tr>\n",
       "    <tr>\n",
       "      <th>3</th>\n",
       "      <td>02.09.06.075.00</td>\n",
       "      <td>Препарат 23</td>\n",
       "      <td>116.90</td>\n",
       "      <td>л</td>\n",
       "      <td>EE985EF3-7F94-47D4-85D9-8659BA79CCAF</td>\n",
       "      <td>2024</td>\n",
       "    </tr>\n",
       "    <tr>\n",
       "      <th>4</th>\n",
       "      <td>02.09.06.075.00</td>\n",
       "      <td>Препарат 376</td>\n",
       "      <td>584.48</td>\n",
       "      <td>л</td>\n",
       "      <td>EE985EF3-7F94-47D4-85D9-8659BA79CCAF</td>\n",
       "      <td>2024</td>\n",
       "    </tr>\n",
       "  </tbody>\n",
       "</table>\n",
       "</div>"
      ],
      "text/plain": [
       "             field inv_item_name  inv_item_weight inv_item_unit  \\\n",
       "0  02.09.06.074.00   Препарат 23            39.10             л   \n",
       "1  02.09.06.074.00  Препарат 487           109.49             л   \n",
       "2  02.09.06.074.00  Препарат 376           195.52             л   \n",
       "3  02.09.06.075.00   Препарат 23           116.90             л   \n",
       "4  02.09.06.075.00  Препарат 376           584.48             л   \n",
       "\n",
       "                                work_id  season  \n",
       "0  27A8B4B1-C74B-457C-8EE5-116B1CA95A0F    2024  \n",
       "1  27A8B4B1-C74B-457C-8EE5-116B1CA95A0F    2024  \n",
       "2  27A8B4B1-C74B-457C-8EE5-116B1CA95A0F    2024  \n",
       "3  EE985EF3-7F94-47D4-85D9-8659BA79CCAF    2024  \n",
       "4  EE985EF3-7F94-47D4-85D9-8659BA79CCAF    2024  "
      ]
     },
     "execution_count": 106,
     "metadata": {},
     "output_type": "execute_result"
    }
   ],
   "source": [
    "df_plant_protect = df_plant_protect.merge(df_works_tmp, how='left', on=['work_id']).dropna()\n",
    "df_plant_protect['season'] = df_plant_protect['season'].astype(int)\n",
    "\n",
    "df_plant_protect.head()"
   ]
  },
  {
   "cell_type": "code",
   "execution_count": 107,
   "metadata": {},
   "outputs": [],
   "source": [
    "df_plant_protect = df_plant_protect.drop('work_id', axis=1)"
   ]
  },
  {
   "cell_type": "code",
   "execution_count": 108,
   "metadata": {},
   "outputs": [
    {
     "data": {
      "text/html": [
       "<div>\n",
       "<style scoped>\n",
       "    .dataframe tbody tr th:only-of-type {\n",
       "        vertical-align: middle;\n",
       "    }\n",
       "\n",
       "    .dataframe tbody tr th {\n",
       "        vertical-align: top;\n",
       "    }\n",
       "\n",
       "    .dataframe thead th {\n",
       "        text-align: right;\n",
       "    }\n",
       "</style>\n",
       "<table border=\"1\" class=\"dataframe\">\n",
       "  <thead>\n",
       "    <tr style=\"text-align: right;\">\n",
       "      <th></th>\n",
       "      <th>field</th>\n",
       "      <th>inv_item_name</th>\n",
       "      <th>inv_item_weight</th>\n",
       "      <th>inv_item_unit</th>\n",
       "      <th>season</th>\n",
       "    </tr>\n",
       "  </thead>\n",
       "  <tbody>\n",
       "    <tr>\n",
       "      <th>0</th>\n",
       "      <td>02.09.06.074.00</td>\n",
       "      <td>Препарат 23</td>\n",
       "      <td>39.10</td>\n",
       "      <td>л</td>\n",
       "      <td>2024</td>\n",
       "    </tr>\n",
       "    <tr>\n",
       "      <th>1</th>\n",
       "      <td>02.09.06.074.00</td>\n",
       "      <td>Препарат 487</td>\n",
       "      <td>109.49</td>\n",
       "      <td>л</td>\n",
       "      <td>2024</td>\n",
       "    </tr>\n",
       "    <tr>\n",
       "      <th>2</th>\n",
       "      <td>02.09.06.074.00</td>\n",
       "      <td>Препарат 376</td>\n",
       "      <td>195.52</td>\n",
       "      <td>л</td>\n",
       "      <td>2024</td>\n",
       "    </tr>\n",
       "    <tr>\n",
       "      <th>3</th>\n",
       "      <td>02.09.06.075.00</td>\n",
       "      <td>Препарат 23</td>\n",
       "      <td>116.90</td>\n",
       "      <td>л</td>\n",
       "      <td>2024</td>\n",
       "    </tr>\n",
       "    <tr>\n",
       "      <th>4</th>\n",
       "      <td>02.09.06.075.00</td>\n",
       "      <td>Препарат 376</td>\n",
       "      <td>584.48</td>\n",
       "      <td>л</td>\n",
       "      <td>2024</td>\n",
       "    </tr>\n",
       "  </tbody>\n",
       "</table>\n",
       "</div>"
      ],
      "text/plain": [
       "             field inv_item_name  inv_item_weight inv_item_unit  season\n",
       "0  02.09.06.074.00   Препарат 23            39.10             л    2024\n",
       "1  02.09.06.074.00  Препарат 487           109.49             л    2024\n",
       "2  02.09.06.074.00  Препарат 376           195.52             л    2024\n",
       "3  02.09.06.075.00   Препарат 23           116.90             л    2024\n",
       "4  02.09.06.075.00  Препарат 376           584.48             л    2024"
      ]
     },
     "execution_count": 108,
     "metadata": {},
     "output_type": "execute_result"
    }
   ],
   "source": [
    "df_plant_protect.head()"
   ]
  },
  {
   "cell_type": "code",
   "execution_count": 109,
   "metadata": {},
   "outputs": [
    {
     "data": {
      "text/plain": [
       "inv_item_unit\n",
       "л       58460\n",
       "кг       9335\n",
       "упак        5\n",
       "Name: count, dtype: int64"
      ]
     },
     "execution_count": 109,
     "metadata": {},
     "output_type": "execute_result"
    }
   ],
   "source": [
    "df_plant_protect['inv_item_unit'].value_counts()"
   ]
  },
  {
   "cell_type": "code",
   "execution_count": 110,
   "metadata": {},
   "outputs": [
    {
     "data": {
      "text/plain": [
       "inv_item_unit\n",
       "л     58460\n",
       "кг     9335\n",
       "Name: count, dtype: int64"
      ]
     },
     "execution_count": 110,
     "metadata": {},
     "output_type": "execute_result"
    }
   ],
   "source": [
    "r_to_drop = df_plant_protect[df_plant_protect['inv_item_unit'] == 'упак'].index\n",
    "\n",
    "df_plant_protect = df_plant_protect.drop(r_to_drop)\n",
    "\n",
    "df_plant_protect['inv_item_unit'].value_counts()"
   ]
  },
  {
   "cell_type": "code",
   "execution_count": 111,
   "metadata": {},
   "outputs": [
    {
     "data": {
      "text/html": [
       "<div>\n",
       "<style scoped>\n",
       "    .dataframe tbody tr th:only-of-type {\n",
       "        vertical-align: middle;\n",
       "    }\n",
       "\n",
       "    .dataframe tbody tr th {\n",
       "        vertical-align: top;\n",
       "    }\n",
       "\n",
       "    .dataframe thead th {\n",
       "        text-align: right;\n",
       "    }\n",
       "</style>\n",
       "<table border=\"1\" class=\"dataframe\">\n",
       "  <thead>\n",
       "    <tr style=\"text-align: right;\">\n",
       "      <th></th>\n",
       "      <th>field</th>\n",
       "      <th>inv_item_name</th>\n",
       "      <th>inv_item_weight</th>\n",
       "      <th>inv_item_unit</th>\n",
       "      <th>season</th>\n",
       "    </tr>\n",
       "  </thead>\n",
       "  <tbody>\n",
       "    <tr>\n",
       "      <th>0</th>\n",
       "      <td>02.09.06.074.00</td>\n",
       "      <td>Препарат 23</td>\n",
       "      <td>39.10</td>\n",
       "      <td>л</td>\n",
       "      <td>2024</td>\n",
       "    </tr>\n",
       "    <tr>\n",
       "      <th>1</th>\n",
       "      <td>02.09.06.074.00</td>\n",
       "      <td>Препарат 487</td>\n",
       "      <td>109.49</td>\n",
       "      <td>л</td>\n",
       "      <td>2024</td>\n",
       "    </tr>\n",
       "    <tr>\n",
       "      <th>2</th>\n",
       "      <td>02.09.06.074.00</td>\n",
       "      <td>Препарат 376</td>\n",
       "      <td>195.52</td>\n",
       "      <td>л</td>\n",
       "      <td>2024</td>\n",
       "    </tr>\n",
       "    <tr>\n",
       "      <th>3</th>\n",
       "      <td>02.09.06.075.00</td>\n",
       "      <td>Препарат 23</td>\n",
       "      <td>116.90</td>\n",
       "      <td>л</td>\n",
       "      <td>2024</td>\n",
       "    </tr>\n",
       "    <tr>\n",
       "      <th>4</th>\n",
       "      <td>02.09.06.075.00</td>\n",
       "      <td>Препарат 376</td>\n",
       "      <td>584.48</td>\n",
       "      <td>л</td>\n",
       "      <td>2024</td>\n",
       "    </tr>\n",
       "  </tbody>\n",
       "</table>\n",
       "</div>"
      ],
      "text/plain": [
       "             field inv_item_name  inv_item_weight inv_item_unit  season\n",
       "0  02.09.06.074.00   Препарат 23            39.10             л    2024\n",
       "1  02.09.06.074.00  Препарат 487           109.49             л    2024\n",
       "2  02.09.06.074.00  Препарат 376           195.52             л    2024\n",
       "3  02.09.06.075.00   Препарат 23           116.90             л    2024\n",
       "4  02.09.06.075.00  Препарат 376           584.48             л    2024"
      ]
     },
     "execution_count": 111,
     "metadata": {},
     "output_type": "execute_result"
    }
   ],
   "source": [
    "df_plant_protect.head()"
   ]
  },
  {
   "cell_type": "code",
   "execution_count": 112,
   "metadata": {},
   "outputs": [
    {
     "data": {
      "text/html": [
       "<div>\n",
       "<style scoped>\n",
       "    .dataframe tbody tr th:only-of-type {\n",
       "        vertical-align: middle;\n",
       "    }\n",
       "\n",
       "    .dataframe tbody tr th {\n",
       "        vertical-align: top;\n",
       "    }\n",
       "\n",
       "    .dataframe thead th {\n",
       "        text-align: right;\n",
       "    }\n",
       "</style>\n",
       "<table border=\"1\" class=\"dataframe\">\n",
       "  <thead>\n",
       "    <tr style=\"text-align: right;\">\n",
       "      <th></th>\n",
       "      <th>field</th>\n",
       "      <th>season</th>\n",
       "      <th>inv_item_unit</th>\n",
       "      <th>inv_item_weight</th>\n",
       "    </tr>\n",
       "  </thead>\n",
       "  <tbody>\n",
       "    <tr>\n",
       "      <th>0</th>\n",
       "      <td>02.09.02.002.01</td>\n",
       "      <td>2023</td>\n",
       "      <td>кг</td>\n",
       "      <td>6.250</td>\n",
       "    </tr>\n",
       "    <tr>\n",
       "      <th>1</th>\n",
       "      <td>02.09.02.002.01</td>\n",
       "      <td>2023</td>\n",
       "      <td>л</td>\n",
       "      <td>157.892</td>\n",
       "    </tr>\n",
       "    <tr>\n",
       "      <th>2</th>\n",
       "      <td>02.09.02.002.01</td>\n",
       "      <td>2024</td>\n",
       "      <td>кг</td>\n",
       "      <td>7.810</td>\n",
       "    </tr>\n",
       "    <tr>\n",
       "      <th>3</th>\n",
       "      <td>02.09.02.002.01</td>\n",
       "      <td>2024</td>\n",
       "      <td>л</td>\n",
       "      <td>198.535</td>\n",
       "    </tr>\n",
       "    <tr>\n",
       "      <th>4</th>\n",
       "      <td>02.09.02.003.00</td>\n",
       "      <td>2024</td>\n",
       "      <td>кг</td>\n",
       "      <td>4.290</td>\n",
       "    </tr>\n",
       "  </tbody>\n",
       "</table>\n",
       "</div>"
      ],
      "text/plain": [
       "             field  season inv_item_unit  inv_item_weight\n",
       "0  02.09.02.002.01    2023            кг            6.250\n",
       "1  02.09.02.002.01    2023             л          157.892\n",
       "2  02.09.02.002.01    2024            кг            7.810\n",
       "3  02.09.02.002.01    2024             л          198.535\n",
       "4  02.09.02.003.00    2024            кг            4.290"
      ]
     },
     "execution_count": 112,
     "metadata": {},
     "output_type": "execute_result"
    }
   ],
   "source": [
    "df_plant_protect = df_plant_protect.groupby(by=['field', 'season', 'inv_item_name', 'inv_item_unit']).agg({\n",
    "    'inv_item_weight' : 'sum'\n",
    "}).reset_index()\n",
    "\n",
    "df_plant_protect = df_plant_protect.groupby(by=['field', 'season', 'inv_item_unit']).agg({\n",
    "    'inv_item_weight': 'mean'\n",
    "}).reset_index().sort_values(by='field')\n",
    "\n",
    "df_plant_protect.head()"
   ]
  },
  {
   "cell_type": "code",
   "execution_count": 113,
   "metadata": {},
   "outputs": [],
   "source": [
    "df_plant_protect = df_plant_protect.pivot(index=[\"field\", \"season\"], columns=\"inv_item_unit\", values=\"inv_item_weight\").reset_index().fillna(value=0)"
   ]
  },
  {
   "cell_type": "code",
   "execution_count": 114,
   "metadata": {},
   "outputs": [],
   "source": [
    "df_plant_protect.columns.name = None"
   ]
  },
  {
   "cell_type": "code",
   "execution_count": 115,
   "metadata": {},
   "outputs": [
    {
     "data": {
      "text/html": [
       "<div>\n",
       "<style scoped>\n",
       "    .dataframe tbody tr th:only-of-type {\n",
       "        vertical-align: middle;\n",
       "    }\n",
       "\n",
       "    .dataframe tbody tr th {\n",
       "        vertical-align: top;\n",
       "    }\n",
       "\n",
       "    .dataframe thead th {\n",
       "        text-align: right;\n",
       "    }\n",
       "</style>\n",
       "<table border=\"1\" class=\"dataframe\">\n",
       "  <thead>\n",
       "    <tr style=\"text-align: right;\">\n",
       "      <th></th>\n",
       "      <th>field</th>\n",
       "      <th>season</th>\n",
       "      <th>кг</th>\n",
       "      <th>л</th>\n",
       "    </tr>\n",
       "  </thead>\n",
       "  <tbody>\n",
       "    <tr>\n",
       "      <th>0</th>\n",
       "      <td>02.09.02.002.01</td>\n",
       "      <td>2023</td>\n",
       "      <td>6.25</td>\n",
       "      <td>157.892000</td>\n",
       "    </tr>\n",
       "    <tr>\n",
       "      <th>1</th>\n",
       "      <td>02.09.02.002.01</td>\n",
       "      <td>2024</td>\n",
       "      <td>7.81</td>\n",
       "      <td>198.535000</td>\n",
       "    </tr>\n",
       "    <tr>\n",
       "      <th>2</th>\n",
       "      <td>02.09.02.003.00</td>\n",
       "      <td>2024</td>\n",
       "      <td>4.29</td>\n",
       "      <td>88.293333</td>\n",
       "    </tr>\n",
       "    <tr>\n",
       "      <th>3</th>\n",
       "      <td>02.09.02.013.00</td>\n",
       "      <td>2024</td>\n",
       "      <td>1.17</td>\n",
       "      <td>24.110000</td>\n",
       "    </tr>\n",
       "    <tr>\n",
       "      <th>4</th>\n",
       "      <td>02.09.02.015.00</td>\n",
       "      <td>2023</td>\n",
       "      <td>1.89</td>\n",
       "      <td>47.716000</td>\n",
       "    </tr>\n",
       "  </tbody>\n",
       "</table>\n",
       "</div>"
      ],
      "text/plain": [
       "             field  season    кг           л\n",
       "0  02.09.02.002.01    2023  6.25  157.892000\n",
       "1  02.09.02.002.01    2024  7.81  198.535000\n",
       "2  02.09.02.003.00    2024  4.29   88.293333\n",
       "3  02.09.02.013.00    2024  1.17   24.110000\n",
       "4  02.09.02.015.00    2023  1.89   47.716000"
      ]
     },
     "execution_count": 115,
     "metadata": {},
     "output_type": "execute_result"
    }
   ],
   "source": [
    "df_plant_protect.head()"
   ]
  },
  {
   "cell_type": "markdown",
   "metadata": {},
   "source": [
    "# Формирование основной таблицы"
   ]
  },
  {
   "cell_type": "code",
   "execution_count": 116,
   "metadata": {},
   "outputs": [
    {
     "data": {
      "text/html": [
       "<div>\n",
       "<style scoped>\n",
       "    .dataframe tbody tr th:only-of-type {\n",
       "        vertical-align: middle;\n",
       "    }\n",
       "\n",
       "    .dataframe tbody tr th {\n",
       "        vertical-align: top;\n",
       "    }\n",
       "\n",
       "    .dataframe thead th {\n",
       "        text-align: right;\n",
       "    }\n",
       "</style>\n",
       "<table border=\"1\" class=\"dataframe\">\n",
       "  <thead>\n",
       "    <tr style=\"text-align: right;\">\n",
       "      <th></th>\n",
       "      <th>season</th>\n",
       "      <th>field</th>\n",
       "      <th>p2o5</th>\n",
       "      <th>k2o</th>\n",
       "      <th>humus</th>\n",
       "      <th>ph</th>\n",
       "      <th>crop</th>\n",
       "      <th>region</th>\n",
       "      <th>yield_plan</th>\n",
       "      <th>yield_fact</th>\n",
       "    </tr>\n",
       "  </thead>\n",
       "  <tbody>\n",
       "    <tr>\n",
       "      <th>0</th>\n",
       "      <td>2023</td>\n",
       "      <td>22.47.01.001.01</td>\n",
       "      <td>221.05</td>\n",
       "      <td>206.3</td>\n",
       "      <td>4.05</td>\n",
       "      <td>5.25</td>\n",
       "      <td>Оз.пшеница мягкая</td>\n",
       "      <td>Алтай</td>\n",
       "      <td>3.8</td>\n",
       "      <td>190.592405</td>\n",
       "    </tr>\n",
       "    <tr>\n",
       "      <th>3</th>\n",
       "      <td>2023</td>\n",
       "      <td>22.47.01.003.00</td>\n",
       "      <td>186.50</td>\n",
       "      <td>174.8</td>\n",
       "      <td>5.90</td>\n",
       "      <td>5.40</td>\n",
       "      <td>Оз.пшеница мягкая</td>\n",
       "      <td>Алтай</td>\n",
       "      <td>3.8</td>\n",
       "      <td>1.851617</td>\n",
       "    </tr>\n",
       "    <tr>\n",
       "      <th>4</th>\n",
       "      <td>2023</td>\n",
       "      <td>22.47.01.004.00</td>\n",
       "      <td>166.60</td>\n",
       "      <td>147.9</td>\n",
       "      <td>5.60</td>\n",
       "      <td>5.40</td>\n",
       "      <td>Оз.пшеница мягкая</td>\n",
       "      <td>Алтай</td>\n",
       "      <td>3.8</td>\n",
       "      <td>1.418186</td>\n",
       "    </tr>\n",
       "    <tr>\n",
       "      <th>7</th>\n",
       "      <td>2023</td>\n",
       "      <td>22.47.01.006.02</td>\n",
       "      <td>194.70</td>\n",
       "      <td>195.9</td>\n",
       "      <td>4.00</td>\n",
       "      <td>5.15</td>\n",
       "      <td>Оз.пшеница мягкая</td>\n",
       "      <td>Алтай</td>\n",
       "      <td>3.8</td>\n",
       "      <td>2.187347</td>\n",
       "    </tr>\n",
       "    <tr>\n",
       "      <th>9</th>\n",
       "      <td>2023</td>\n",
       "      <td>22.47.01.007.02</td>\n",
       "      <td>184.20</td>\n",
       "      <td>171.4</td>\n",
       "      <td>4.40</td>\n",
       "      <td>5.05</td>\n",
       "      <td>Оз.пшеница мягкая</td>\n",
       "      <td>Алтай</td>\n",
       "      <td>3.8</td>\n",
       "      <td>2.109071</td>\n",
       "    </tr>\n",
       "  </tbody>\n",
       "</table>\n",
       "</div>"
      ],
      "text/plain": [
       "   season            field    p2o5    k2o  humus    ph               crop  \\\n",
       "0    2023  22.47.01.001.01  221.05  206.3   4.05  5.25  Оз.пшеница мягкая   \n",
       "3    2023  22.47.01.003.00  186.50  174.8   5.90  5.40  Оз.пшеница мягкая   \n",
       "4    2023  22.47.01.004.00  166.60  147.9   5.60  5.40  Оз.пшеница мягкая   \n",
       "7    2023  22.47.01.006.02  194.70  195.9   4.00  5.15  Оз.пшеница мягкая   \n",
       "9    2023  22.47.01.007.02  184.20  171.4   4.40  5.05  Оз.пшеница мягкая   \n",
       "\n",
       "  region  yield_plan  yield_fact  \n",
       "0  Алтай         3.8  190.592405  \n",
       "3  Алтай         3.8    1.851617  \n",
       "4  Алтай         3.8    1.418186  \n",
       "7  Алтай         3.8    2.187347  \n",
       "9  Алтай         3.8    2.109071  "
      ]
     },
     "execution_count": 116,
     "metadata": {},
     "output_type": "execute_result"
    }
   ],
   "source": [
    "df_yield.head()"
   ]
  },
  {
   "cell_type": "code",
   "execution_count": 117,
   "metadata": {},
   "outputs": [
    {
     "data": {
      "text/html": [
       "<div>\n",
       "<style scoped>\n",
       "    .dataframe tbody tr th:only-of-type {\n",
       "        vertical-align: middle;\n",
       "    }\n",
       "\n",
       "    .dataframe tbody tr th {\n",
       "        vertical-align: top;\n",
       "    }\n",
       "\n",
       "    .dataframe thead th {\n",
       "        text-align: right;\n",
       "    }\n",
       "</style>\n",
       "<table border=\"1\" class=\"dataframe\">\n",
       "  <thead>\n",
       "    <tr style=\"text-align: right;\">\n",
       "      <th></th>\n",
       "      <th>field</th>\n",
       "      <th>season</th>\n",
       "      <th>кг</th>\n",
       "      <th>л</th>\n",
       "    </tr>\n",
       "  </thead>\n",
       "  <tbody>\n",
       "    <tr>\n",
       "      <th>0</th>\n",
       "      <td>02.09.02.002.01</td>\n",
       "      <td>2023</td>\n",
       "      <td>1879808.13</td>\n",
       "      <td>0.0</td>\n",
       "    </tr>\n",
       "    <tr>\n",
       "      <th>1</th>\n",
       "      <td>02.09.02.002.01</td>\n",
       "      <td>2024</td>\n",
       "      <td>819987.19</td>\n",
       "      <td>0.0</td>\n",
       "    </tr>\n",
       "    <tr>\n",
       "      <th>2</th>\n",
       "      <td>02.09.02.003.00</td>\n",
       "      <td>2024</td>\n",
       "      <td>1095063.89</td>\n",
       "      <td>0.0</td>\n",
       "    </tr>\n",
       "    <tr>\n",
       "      <th>3</th>\n",
       "      <td>02.09.02.013.00</td>\n",
       "      <td>2024</td>\n",
       "      <td>81640.47</td>\n",
       "      <td>0.0</td>\n",
       "    </tr>\n",
       "    <tr>\n",
       "      <th>4</th>\n",
       "      <td>02.09.02.015.00</td>\n",
       "      <td>2023</td>\n",
       "      <td>171677.43</td>\n",
       "      <td>0.0</td>\n",
       "    </tr>\n",
       "  </tbody>\n",
       "</table>\n",
       "</div>"
      ],
      "text/plain": [
       "             field  season          кг    л\n",
       "0  02.09.02.002.01    2023  1879808.13  0.0\n",
       "1  02.09.02.002.01    2024   819987.19  0.0\n",
       "2  02.09.02.003.00    2024  1095063.89  0.0\n",
       "3  02.09.02.013.00    2024    81640.47  0.0\n",
       "4  02.09.02.015.00    2023   171677.43  0.0"
      ]
     },
     "execution_count": 117,
     "metadata": {},
     "output_type": "execute_result"
    }
   ],
   "source": [
    "df_fert.head()"
   ]
  },
  {
   "cell_type": "code",
   "execution_count": 118,
   "metadata": {},
   "outputs": [
    {
     "data": {
      "text/html": [
       "<div>\n",
       "<style scoped>\n",
       "    .dataframe tbody tr th:only-of-type {\n",
       "        vertical-align: middle;\n",
       "    }\n",
       "\n",
       "    .dataframe tbody tr th {\n",
       "        vertical-align: top;\n",
       "    }\n",
       "\n",
       "    .dataframe thead th {\n",
       "        text-align: right;\n",
       "    }\n",
       "</style>\n",
       "<table border=\"1\" class=\"dataframe\">\n",
       "  <thead>\n",
       "    <tr style=\"text-align: right;\">\n",
       "      <th></th>\n",
       "      <th>field</th>\n",
       "      <th>season</th>\n",
       "      <th>кг</th>\n",
       "      <th>л</th>\n",
       "    </tr>\n",
       "  </thead>\n",
       "  <tbody>\n",
       "    <tr>\n",
       "      <th>0</th>\n",
       "      <td>02.09.02.002.01</td>\n",
       "      <td>2023</td>\n",
       "      <td>6.25</td>\n",
       "      <td>157.892000</td>\n",
       "    </tr>\n",
       "    <tr>\n",
       "      <th>1</th>\n",
       "      <td>02.09.02.002.01</td>\n",
       "      <td>2024</td>\n",
       "      <td>7.81</td>\n",
       "      <td>198.535000</td>\n",
       "    </tr>\n",
       "    <tr>\n",
       "      <th>2</th>\n",
       "      <td>02.09.02.003.00</td>\n",
       "      <td>2024</td>\n",
       "      <td>4.29</td>\n",
       "      <td>88.293333</td>\n",
       "    </tr>\n",
       "    <tr>\n",
       "      <th>3</th>\n",
       "      <td>02.09.02.013.00</td>\n",
       "      <td>2024</td>\n",
       "      <td>1.17</td>\n",
       "      <td>24.110000</td>\n",
       "    </tr>\n",
       "    <tr>\n",
       "      <th>4</th>\n",
       "      <td>02.09.02.015.00</td>\n",
       "      <td>2023</td>\n",
       "      <td>1.89</td>\n",
       "      <td>47.716000</td>\n",
       "    </tr>\n",
       "  </tbody>\n",
       "</table>\n",
       "</div>"
      ],
      "text/plain": [
       "             field  season    кг           л\n",
       "0  02.09.02.002.01    2023  6.25  157.892000\n",
       "1  02.09.02.002.01    2024  7.81  198.535000\n",
       "2  02.09.02.003.00    2024  4.29   88.293333\n",
       "3  02.09.02.013.00    2024  1.17   24.110000\n",
       "4  02.09.02.015.00    2023  1.89   47.716000"
      ]
     },
     "execution_count": 118,
     "metadata": {},
     "output_type": "execute_result"
    }
   ],
   "source": [
    "df_plant_protect.head()"
   ]
  },
  {
   "cell_type": "code",
   "execution_count": 119,
   "metadata": {},
   "outputs": [],
   "source": [
    "df_main = df_yield.merge(df_fert, how='left', on=['field', 'season']).merge(df_plant_protect, how='left', on=['field', 'season'], suffixes=('_fert', '_pp'))"
   ]
  },
  {
   "cell_type": "code",
   "execution_count": 120,
   "metadata": {},
   "outputs": [
    {
     "data": {
      "text/html": [
       "<div>\n",
       "<style scoped>\n",
       "    .dataframe tbody tr th:only-of-type {\n",
       "        vertical-align: middle;\n",
       "    }\n",
       "\n",
       "    .dataframe tbody tr th {\n",
       "        vertical-align: top;\n",
       "    }\n",
       "\n",
       "    .dataframe thead th {\n",
       "        text-align: right;\n",
       "    }\n",
       "</style>\n",
       "<table border=\"1\" class=\"dataframe\">\n",
       "  <thead>\n",
       "    <tr style=\"text-align: right;\">\n",
       "      <th></th>\n",
       "      <th>season</th>\n",
       "      <th>field</th>\n",
       "      <th>p2o5</th>\n",
       "      <th>k2o</th>\n",
       "      <th>humus</th>\n",
       "      <th>ph</th>\n",
       "      <th>crop</th>\n",
       "      <th>region</th>\n",
       "      <th>yield_plan</th>\n",
       "      <th>yield_fact</th>\n",
       "      <th>кг_fert</th>\n",
       "      <th>л_fert</th>\n",
       "      <th>кг_pp</th>\n",
       "      <th>л_pp</th>\n",
       "    </tr>\n",
       "  </thead>\n",
       "  <tbody>\n",
       "    <tr>\n",
       "      <th>0</th>\n",
       "      <td>2023</td>\n",
       "      <td>22.47.01.001.01</td>\n",
       "      <td>221.05</td>\n",
       "      <td>206.3</td>\n",
       "      <td>4.05</td>\n",
       "      <td>5.25</td>\n",
       "      <td>Оз.пшеница мягкая</td>\n",
       "      <td>Алтай</td>\n",
       "      <td>3.8</td>\n",
       "      <td>190.592405</td>\n",
       "      <td>4457166.035</td>\n",
       "      <td>0.0</td>\n",
       "      <td>13.94</td>\n",
       "      <td>127.390</td>\n",
       "    </tr>\n",
       "    <tr>\n",
       "      <th>1</th>\n",
       "      <td>2023</td>\n",
       "      <td>22.47.01.003.00</td>\n",
       "      <td>186.50</td>\n",
       "      <td>174.8</td>\n",
       "      <td>5.90</td>\n",
       "      <td>5.40</td>\n",
       "      <td>Оз.пшеница мягкая</td>\n",
       "      <td>Алтай</td>\n",
       "      <td>3.8</td>\n",
       "      <td>1.851617</td>\n",
       "      <td>8226128.065</td>\n",
       "      <td>0.0</td>\n",
       "      <td>20.58</td>\n",
       "      <td>182.256</td>\n",
       "    </tr>\n",
       "    <tr>\n",
       "      <th>2</th>\n",
       "      <td>2023</td>\n",
       "      <td>22.47.01.004.00</td>\n",
       "      <td>166.60</td>\n",
       "      <td>147.9</td>\n",
       "      <td>5.60</td>\n",
       "      <td>5.40</td>\n",
       "      <td>Оз.пшеница мягкая</td>\n",
       "      <td>Алтай</td>\n",
       "      <td>3.8</td>\n",
       "      <td>1.418186</td>\n",
       "      <td>4386226.595</td>\n",
       "      <td>0.0</td>\n",
       "      <td>12.27</td>\n",
       "      <td>108.668</td>\n",
       "    </tr>\n",
       "    <tr>\n",
       "      <th>3</th>\n",
       "      <td>2023</td>\n",
       "      <td>22.47.01.006.02</td>\n",
       "      <td>194.70</td>\n",
       "      <td>195.9</td>\n",
       "      <td>4.00</td>\n",
       "      <td>5.15</td>\n",
       "      <td>Оз.пшеница мягкая</td>\n",
       "      <td>Алтай</td>\n",
       "      <td>3.8</td>\n",
       "      <td>2.187347</td>\n",
       "      <td>586686.335</td>\n",
       "      <td>0.0</td>\n",
       "      <td>2.89</td>\n",
       "      <td>26.346</td>\n",
       "    </tr>\n",
       "    <tr>\n",
       "      <th>4</th>\n",
       "      <td>2023</td>\n",
       "      <td>22.47.01.007.02</td>\n",
       "      <td>184.20</td>\n",
       "      <td>171.4</td>\n",
       "      <td>4.40</td>\n",
       "      <td>5.05</td>\n",
       "      <td>Оз.пшеница мягкая</td>\n",
       "      <td>Алтай</td>\n",
       "      <td>3.8</td>\n",
       "      <td>2.109071</td>\n",
       "      <td>1013707.990</td>\n",
       "      <td>0.0</td>\n",
       "      <td>3.89</td>\n",
       "      <td>35.592</td>\n",
       "    </tr>\n",
       "  </tbody>\n",
       "</table>\n",
       "</div>"
      ],
      "text/plain": [
       "   season            field    p2o5    k2o  humus    ph               crop  \\\n",
       "0    2023  22.47.01.001.01  221.05  206.3   4.05  5.25  Оз.пшеница мягкая   \n",
       "1    2023  22.47.01.003.00  186.50  174.8   5.90  5.40  Оз.пшеница мягкая   \n",
       "2    2023  22.47.01.004.00  166.60  147.9   5.60  5.40  Оз.пшеница мягкая   \n",
       "3    2023  22.47.01.006.02  194.70  195.9   4.00  5.15  Оз.пшеница мягкая   \n",
       "4    2023  22.47.01.007.02  184.20  171.4   4.40  5.05  Оз.пшеница мягкая   \n",
       "\n",
       "  region  yield_plan  yield_fact      кг_fert  л_fert  кг_pp     л_pp  \n",
       "0  Алтай         3.8  190.592405  4457166.035     0.0  13.94  127.390  \n",
       "1  Алтай         3.8    1.851617  8226128.065     0.0  20.58  182.256  \n",
       "2  Алтай         3.8    1.418186  4386226.595     0.0  12.27  108.668  \n",
       "3  Алтай         3.8    2.187347   586686.335     0.0   2.89   26.346  \n",
       "4  Алтай         3.8    2.109071  1013707.990     0.0   3.89   35.592  "
      ]
     },
     "execution_count": 120,
     "metadata": {},
     "output_type": "execute_result"
    }
   ],
   "source": [
    "df_main.head()"
   ]
  },
  {
   "cell_type": "code",
   "execution_count": 121,
   "metadata": {},
   "outputs": [
    {
     "data": {
      "text/plain": [
       "season           0\n",
       "field            0\n",
       "p2o5             0\n",
       "k2o              0\n",
       "humus            0\n",
       "ph               0\n",
       "crop             0\n",
       "region           0\n",
       "yield_plan       0\n",
       "yield_fact       0\n",
       "кг_fert       2337\n",
       "л_fert        2337\n",
       "кг_pp         1759\n",
       "л_pp          1759\n",
       "dtype: int64"
      ]
     },
     "execution_count": 121,
     "metadata": {},
     "output_type": "execute_result"
    }
   ],
   "source": [
    "df_main.isna().sum()"
   ]
  },
  {
   "cell_type": "code",
   "execution_count": 122,
   "metadata": {},
   "outputs": [],
   "source": [
    "df_main = df_main.fillna(value=0)"
   ]
  },
  {
   "cell_type": "code",
   "execution_count": 123,
   "metadata": {},
   "outputs": [],
   "source": [
    "df_main['fact_plan_diff'] = df_main['yield_fact'] - df_main['yield_plan']"
   ]
  },
  {
   "cell_type": "code",
   "execution_count": 124,
   "metadata": {},
   "outputs": [
    {
     "data": {
      "text/html": [
       "<div>\n",
       "<style scoped>\n",
       "    .dataframe tbody tr th:only-of-type {\n",
       "        vertical-align: middle;\n",
       "    }\n",
       "\n",
       "    .dataframe tbody tr th {\n",
       "        vertical-align: top;\n",
       "    }\n",
       "\n",
       "    .dataframe thead th {\n",
       "        text-align: right;\n",
       "    }\n",
       "</style>\n",
       "<table border=\"1\" class=\"dataframe\">\n",
       "  <thead>\n",
       "    <tr style=\"text-align: right;\">\n",
       "      <th></th>\n",
       "      <th>season</th>\n",
       "      <th>field</th>\n",
       "      <th>p2o5</th>\n",
       "      <th>k2o</th>\n",
       "      <th>humus</th>\n",
       "      <th>ph</th>\n",
       "      <th>crop</th>\n",
       "      <th>region</th>\n",
       "      <th>yield_plan</th>\n",
       "      <th>yield_fact</th>\n",
       "      <th>кг_fert</th>\n",
       "      <th>л_fert</th>\n",
       "      <th>кг_pp</th>\n",
       "      <th>л_pp</th>\n",
       "      <th>fact_plan_diff</th>\n",
       "    </tr>\n",
       "  </thead>\n",
       "  <tbody>\n",
       "    <tr>\n",
       "      <th>0</th>\n",
       "      <td>2023</td>\n",
       "      <td>22.47.01.001.01</td>\n",
       "      <td>221.05</td>\n",
       "      <td>206.3</td>\n",
       "      <td>4.05</td>\n",
       "      <td>5.25</td>\n",
       "      <td>Оз.пшеница мягкая</td>\n",
       "      <td>Алтай</td>\n",
       "      <td>3.8</td>\n",
       "      <td>190.592405</td>\n",
       "      <td>4457166.035</td>\n",
       "      <td>0.0</td>\n",
       "      <td>13.94</td>\n",
       "      <td>127.390</td>\n",
       "      <td>186.792405</td>\n",
       "    </tr>\n",
       "    <tr>\n",
       "      <th>1</th>\n",
       "      <td>2023</td>\n",
       "      <td>22.47.01.003.00</td>\n",
       "      <td>186.50</td>\n",
       "      <td>174.8</td>\n",
       "      <td>5.90</td>\n",
       "      <td>5.40</td>\n",
       "      <td>Оз.пшеница мягкая</td>\n",
       "      <td>Алтай</td>\n",
       "      <td>3.8</td>\n",
       "      <td>1.851617</td>\n",
       "      <td>8226128.065</td>\n",
       "      <td>0.0</td>\n",
       "      <td>20.58</td>\n",
       "      <td>182.256</td>\n",
       "      <td>-1.948383</td>\n",
       "    </tr>\n",
       "    <tr>\n",
       "      <th>2</th>\n",
       "      <td>2023</td>\n",
       "      <td>22.47.01.004.00</td>\n",
       "      <td>166.60</td>\n",
       "      <td>147.9</td>\n",
       "      <td>5.60</td>\n",
       "      <td>5.40</td>\n",
       "      <td>Оз.пшеница мягкая</td>\n",
       "      <td>Алтай</td>\n",
       "      <td>3.8</td>\n",
       "      <td>1.418186</td>\n",
       "      <td>4386226.595</td>\n",
       "      <td>0.0</td>\n",
       "      <td>12.27</td>\n",
       "      <td>108.668</td>\n",
       "      <td>-2.381814</td>\n",
       "    </tr>\n",
       "    <tr>\n",
       "      <th>3</th>\n",
       "      <td>2023</td>\n",
       "      <td>22.47.01.006.02</td>\n",
       "      <td>194.70</td>\n",
       "      <td>195.9</td>\n",
       "      <td>4.00</td>\n",
       "      <td>5.15</td>\n",
       "      <td>Оз.пшеница мягкая</td>\n",
       "      <td>Алтай</td>\n",
       "      <td>3.8</td>\n",
       "      <td>2.187347</td>\n",
       "      <td>586686.335</td>\n",
       "      <td>0.0</td>\n",
       "      <td>2.89</td>\n",
       "      <td>26.346</td>\n",
       "      <td>-1.612653</td>\n",
       "    </tr>\n",
       "    <tr>\n",
       "      <th>4</th>\n",
       "      <td>2023</td>\n",
       "      <td>22.47.01.007.02</td>\n",
       "      <td>184.20</td>\n",
       "      <td>171.4</td>\n",
       "      <td>4.40</td>\n",
       "      <td>5.05</td>\n",
       "      <td>Оз.пшеница мягкая</td>\n",
       "      <td>Алтай</td>\n",
       "      <td>3.8</td>\n",
       "      <td>2.109071</td>\n",
       "      <td>1013707.990</td>\n",
       "      <td>0.0</td>\n",
       "      <td>3.89</td>\n",
       "      <td>35.592</td>\n",
       "      <td>-1.690929</td>\n",
       "    </tr>\n",
       "  </tbody>\n",
       "</table>\n",
       "</div>"
      ],
      "text/plain": [
       "   season            field    p2o5    k2o  humus    ph               crop  \\\n",
       "0    2023  22.47.01.001.01  221.05  206.3   4.05  5.25  Оз.пшеница мягкая   \n",
       "1    2023  22.47.01.003.00  186.50  174.8   5.90  5.40  Оз.пшеница мягкая   \n",
       "2    2023  22.47.01.004.00  166.60  147.9   5.60  5.40  Оз.пшеница мягкая   \n",
       "3    2023  22.47.01.006.02  194.70  195.9   4.00  5.15  Оз.пшеница мягкая   \n",
       "4    2023  22.47.01.007.02  184.20  171.4   4.40  5.05  Оз.пшеница мягкая   \n",
       "\n",
       "  region  yield_plan  yield_fact      кг_fert  л_fert  кг_pp     л_pp  \\\n",
       "0  Алтай         3.8  190.592405  4457166.035     0.0  13.94  127.390   \n",
       "1  Алтай         3.8    1.851617  8226128.065     0.0  20.58  182.256   \n",
       "2  Алтай         3.8    1.418186  4386226.595     0.0  12.27  108.668   \n",
       "3  Алтай         3.8    2.187347   586686.335     0.0   2.89   26.346   \n",
       "4  Алтай         3.8    2.109071  1013707.990     0.0   3.89   35.592   \n",
       "\n",
       "   fact_plan_diff  \n",
       "0      186.792405  \n",
       "1       -1.948383  \n",
       "2       -2.381814  \n",
       "3       -1.612653  \n",
       "4       -1.690929  "
      ]
     },
     "execution_count": 124,
     "metadata": {},
     "output_type": "execute_result"
    }
   ],
   "source": [
    "df_main.head()"
   ]
  },
  {
   "cell_type": "code",
   "execution_count": 125,
   "metadata": {},
   "outputs": [],
   "source": [
    "df_main.to_csv('../data/df_main.csv')"
   ]
  },
  {
   "cell_type": "markdown",
   "metadata": {},
   "source": [
    "# Распределение и чистка"
   ]
  },
  {
   "cell_type": "code",
   "execution_count": 126,
   "metadata": {},
   "outputs": [
    {
     "data": {
      "text/html": [
       "<div>\n",
       "<style scoped>\n",
       "    .dataframe tbody tr th:only-of-type {\n",
       "        vertical-align: middle;\n",
       "    }\n",
       "\n",
       "    .dataframe tbody tr th {\n",
       "        vertical-align: top;\n",
       "    }\n",
       "\n",
       "    .dataframe thead th {\n",
       "        text-align: right;\n",
       "    }\n",
       "</style>\n",
       "<table border=\"1\" class=\"dataframe\">\n",
       "  <thead>\n",
       "    <tr style=\"text-align: right;\">\n",
       "      <th></th>\n",
       "      <th>season</th>\n",
       "      <th>field</th>\n",
       "      <th>p2o5</th>\n",
       "      <th>k2o</th>\n",
       "      <th>humus</th>\n",
       "      <th>ph</th>\n",
       "      <th>crop</th>\n",
       "      <th>region</th>\n",
       "      <th>yield_plan</th>\n",
       "      <th>yield_fact</th>\n",
       "      <th>кг_fert</th>\n",
       "      <th>л_fert</th>\n",
       "      <th>кг_pp</th>\n",
       "      <th>л_pp</th>\n",
       "      <th>fact_plan_diff</th>\n",
       "    </tr>\n",
       "  </thead>\n",
       "  <tbody>\n",
       "    <tr>\n",
       "      <th>0</th>\n",
       "      <td>2023</td>\n",
       "      <td>22.47.01.001.01</td>\n",
       "      <td>221.05</td>\n",
       "      <td>206.3</td>\n",
       "      <td>4.05</td>\n",
       "      <td>5.25</td>\n",
       "      <td>Оз.пшеница мягкая</td>\n",
       "      <td>Алтай</td>\n",
       "      <td>3.8</td>\n",
       "      <td>190.592405</td>\n",
       "      <td>4457166.035</td>\n",
       "      <td>0.0</td>\n",
       "      <td>13.94</td>\n",
       "      <td>127.390</td>\n",
       "      <td>186.792405</td>\n",
       "    </tr>\n",
       "    <tr>\n",
       "      <th>1</th>\n",
       "      <td>2023</td>\n",
       "      <td>22.47.01.003.00</td>\n",
       "      <td>186.50</td>\n",
       "      <td>174.8</td>\n",
       "      <td>5.90</td>\n",
       "      <td>5.40</td>\n",
       "      <td>Оз.пшеница мягкая</td>\n",
       "      <td>Алтай</td>\n",
       "      <td>3.8</td>\n",
       "      <td>1.851617</td>\n",
       "      <td>8226128.065</td>\n",
       "      <td>0.0</td>\n",
       "      <td>20.58</td>\n",
       "      <td>182.256</td>\n",
       "      <td>-1.948383</td>\n",
       "    </tr>\n",
       "    <tr>\n",
       "      <th>2</th>\n",
       "      <td>2023</td>\n",
       "      <td>22.47.01.004.00</td>\n",
       "      <td>166.60</td>\n",
       "      <td>147.9</td>\n",
       "      <td>5.60</td>\n",
       "      <td>5.40</td>\n",
       "      <td>Оз.пшеница мягкая</td>\n",
       "      <td>Алтай</td>\n",
       "      <td>3.8</td>\n",
       "      <td>1.418186</td>\n",
       "      <td>4386226.595</td>\n",
       "      <td>0.0</td>\n",
       "      <td>12.27</td>\n",
       "      <td>108.668</td>\n",
       "      <td>-2.381814</td>\n",
       "    </tr>\n",
       "    <tr>\n",
       "      <th>3</th>\n",
       "      <td>2023</td>\n",
       "      <td>22.47.01.006.02</td>\n",
       "      <td>194.70</td>\n",
       "      <td>195.9</td>\n",
       "      <td>4.00</td>\n",
       "      <td>5.15</td>\n",
       "      <td>Оз.пшеница мягкая</td>\n",
       "      <td>Алтай</td>\n",
       "      <td>3.8</td>\n",
       "      <td>2.187347</td>\n",
       "      <td>586686.335</td>\n",
       "      <td>0.0</td>\n",
       "      <td>2.89</td>\n",
       "      <td>26.346</td>\n",
       "      <td>-1.612653</td>\n",
       "    </tr>\n",
       "    <tr>\n",
       "      <th>4</th>\n",
       "      <td>2023</td>\n",
       "      <td>22.47.01.007.02</td>\n",
       "      <td>184.20</td>\n",
       "      <td>171.4</td>\n",
       "      <td>4.40</td>\n",
       "      <td>5.05</td>\n",
       "      <td>Оз.пшеница мягкая</td>\n",
       "      <td>Алтай</td>\n",
       "      <td>3.8</td>\n",
       "      <td>2.109071</td>\n",
       "      <td>1013707.990</td>\n",
       "      <td>0.0</td>\n",
       "      <td>3.89</td>\n",
       "      <td>35.592</td>\n",
       "      <td>-1.690929</td>\n",
       "    </tr>\n",
       "  </tbody>\n",
       "</table>\n",
       "</div>"
      ],
      "text/plain": [
       "   season            field    p2o5    k2o  humus    ph               crop  \\\n",
       "0    2023  22.47.01.001.01  221.05  206.3   4.05  5.25  Оз.пшеница мягкая   \n",
       "1    2023  22.47.01.003.00  186.50  174.8   5.90  5.40  Оз.пшеница мягкая   \n",
       "2    2023  22.47.01.004.00  166.60  147.9   5.60  5.40  Оз.пшеница мягкая   \n",
       "3    2023  22.47.01.006.02  194.70  195.9   4.00  5.15  Оз.пшеница мягкая   \n",
       "4    2023  22.47.01.007.02  184.20  171.4   4.40  5.05  Оз.пшеница мягкая   \n",
       "\n",
       "  region  yield_plan  yield_fact      кг_fert  л_fert  кг_pp     л_pp  \\\n",
       "0  Алтай         3.8  190.592405  4457166.035     0.0  13.94  127.390   \n",
       "1  Алтай         3.8    1.851617  8226128.065     0.0  20.58  182.256   \n",
       "2  Алтай         3.8    1.418186  4386226.595     0.0  12.27  108.668   \n",
       "3  Алтай         3.8    2.187347   586686.335     0.0   2.89   26.346   \n",
       "4  Алтай         3.8    2.109071  1013707.990     0.0   3.89   35.592   \n",
       "\n",
       "   fact_plan_diff  \n",
       "0      186.792405  \n",
       "1       -1.948383  \n",
       "2       -2.381814  \n",
       "3       -1.612653  \n",
       "4       -1.690929  "
      ]
     },
     "execution_count": 126,
     "metadata": {},
     "output_type": "execute_result"
    }
   ],
   "source": [
    "df_main.head()"
   ]
  },
  {
   "cell_type": "code",
   "execution_count": 127,
   "metadata": {},
   "outputs": [
    {
     "data": {
      "text/plain": [
       "(7324, 15)"
      ]
     },
     "execution_count": 127,
     "metadata": {},
     "output_type": "execute_result"
    }
   ],
   "source": [
    "df_main.shape"
   ]
  },
  {
   "cell_type": "markdown",
   "metadata": {},
   "source": [
    "## До чистки"
   ]
  },
  {
   "cell_type": "markdown",
   "metadata": {},
   "source": [
    "### Хим"
   ]
  },
  {
   "cell_type": "code",
   "execution_count": 128,
   "metadata": {},
   "outputs": [
    {
     "data": {
      "text/plain": [
       "array([[<Axes: title={'center': 'p2o5'}>,\n",
       "        <Axes: title={'center': 'k2o'}>],\n",
       "       [<Axes: title={'center': 'humus'}>,\n",
       "        <Axes: title={'center': 'ph'}>]], dtype=object)"
      ]
     },
     "execution_count": 128,
     "metadata": {},
     "output_type": "execute_result"
    },
    {
     "data": {
      "image/png": "[encoded data removed]",
      "text/plain": [
       "<Figure size 1000x600 with 4 Axes>"
      ]
     },
     "metadata": {},
     "output_type": "display_data"
    }
   ],
   "source": [
    "df_main[['p2o5', 'k2o', 'humus', 'ph']].hist(figsize=(10, 6))"
   ]
  },
  {
   "cell_type": "code",
   "execution_count": 129,
   "metadata": {},
   "outputs": [
    {
     "data": {
      "image/png": "[encoded data removed]",
      "text/plain": [
       "<Figure size 640x480 with 1 Axes>"
      ]
     },
     "metadata": {},
     "output_type": "display_data"
    },
    {
     "data": {
      "image/png": "[encoded data removed]",
      "text/plain": [
       "<Figure size 640x480 with 1 Axes>"
      ]
     },
     "metadata": {},
     "output_type": "display_data"
    },
    {
     "data": {
      "image/png": "[encoded data removed]",
      "text/plain": [
       "<Figure size 640x480 with 1 Axes>"
      ]
     },
     "metadata": {},
     "output_type": "display_data"
    },
    {
     "data": {
      "image/png": "[encoded data removed]",
      "text/plain": [
       "<Figure size 640x480 with 1 Axes>"
      ]
     },
     "metadata": {},
     "output_type": "display_data"
    }
   ],
   "source": [
    "# p2o5\n",
    "df_main['p2o5'].hist()\n",
    "\n",
    "plt.xlabel('p2o5 mg/kg')\n",
    "plt.ylabel('count')\n",
    "\n",
    "plt.show()\n",
    "\n",
    "# k2o\n",
    "df_main['k2o'].hist()\n",
    "\n",
    "plt.xlabel('k2o mg/kg')\n",
    "plt.ylabel('count')\n",
    "\n",
    "plt.show()\n",
    "\n",
    "# humus\n",
    "df_main['humus'].hist()\n",
    "\n",
    "plt.xlabel('humus %')\n",
    "plt.ylabel('count')\n",
    "\n",
    "plt.show()\n",
    "\n",
    "# ph\n",
    "df_main['ph'].hist()\n",
    "\n",
    "plt.xlabel('ph (no unit)')\n",
    "plt.ylabel('count')\n",
    "\n",
    "plt.show()\n"
   ]
  },
  {
   "cell_type": "markdown",
   "metadata": {},
   "source": [
    "### Категориальные признаки"
   ]
  },
  {
   "cell_type": "code",
   "execution_count": 130,
   "metadata": {},
   "outputs": [],
   "source": [
    "top_crops = df_main['crop'].value_counts().head(10).index.to_list()"
   ]
  },
  {
   "cell_type": "code",
   "execution_count": 131,
   "metadata": {},
   "outputs": [
    {
     "data": {
      "image/png": "[encoded data removed]",
      "text/plain": [
       "<Figure size 1000x600 with 1 Axes>"
      ]
     },
     "metadata": {},
     "output_type": "display_data"
    },
    {
     "data": {
      "image/png": "[encoded data removed]",
      "text/plain": [
       "<Figure size 1000x600 with 1 Axes>"
      ]
     },
     "metadata": {},
     "output_type": "display_data"
    }
   ],
   "source": [
    "df_main['region'].hist(figsize=(10, 6), xrot=30)\n",
    "\n",
    "plt.ylabel('count')\n",
    "\n",
    "plt.show()\n",
    "\n",
    "df_main.query(f\"crop in {top_crops}\")['crop'].hist(figsize=(10, 6), xrot=30)\n",
    "\n",
    "plt.ylabel('count')\n",
    "\n",
    "plt.show()"
   ]
  },
  {
   "cell_type": "markdown",
   "metadata": {},
   "source": [
    "### Урожайности"
   ]
  },
  {
   "cell_type": "code",
   "execution_count": 132,
   "metadata": {},
   "outputs": [
    {
     "data": {
      "image/png": "[encoded data removed]",
      "text/plain": [
       "<Figure size 640x480 with 1 Axes>"
      ]
     },
     "metadata": {},
     "output_type": "display_data"
    }
   ],
   "source": [
    "plt.hist([df_main['yield_fact'], df_main['yield_plan']], bins=40)\n",
    "\n",
    "plt.yscale('log')\n",
    "\n",
    "plt.show()"
   ]
  },
  {
   "cell_type": "code",
   "execution_count": 133,
   "metadata": {},
   "outputs": [
    {
     "data": {
      "image/png": "[encoded data removed]",
      "text/plain": [
       "<Figure size 640x480 with 1 Axes>"
      ]
     },
     "metadata": {},
     "output_type": "display_data"
    }
   ],
   "source": [
    "plt.hist(df_main['yield_fact'], bins=40)\n",
    "\n",
    "plt.yscale('log')\n",
    "\n",
    "plt.xlabel('Фактическая урожайность')\n",
    "plt.ylabel('count')\n",
    "\n",
    "plt.show()"
   ]
  },
  {
   "cell_type": "code",
   "execution_count": 134,
   "metadata": {},
   "outputs": [
    {
     "data": {
      "image/png": "[encoded data removed]",
      "text/plain": [
       "<Figure size 640x480 with 1 Axes>"
      ]
     },
     "metadata": {},
     "output_type": "display_data"
    }
   ],
   "source": [
    "plt.hist(df_main['yield_plan'], bins=40)\n",
    "\n",
    "plt.yscale('log')\n",
    "\n",
    "plt.xlabel('Плановая урожайность')\n",
    "\n",
    "plt.show()"
   ]
  },
  {
   "cell_type": "code",
   "execution_count": 135,
   "metadata": {},
   "outputs": [
    {
     "data": {
      "image/png": "[encoded data removed]",
      "text/plain": [
       "<Figure size 640x480 with 1 Axes>"
      ]
     },
     "metadata": {},
     "output_type": "display_data"
    }
   ],
   "source": [
    "plt.hist(df_main['fact_plan_diff'], bins=40)\n",
    "\n",
    "plt.yscale('log')\n",
    "\n",
    "plt.xlabel('Разность между фактической и плановой урожайностью')\n",
    "\n",
    "plt.show()"
   ]
  },
  {
   "cell_type": "code",
   "execution_count": 136,
   "metadata": {},
   "outputs": [
    {
     "data": {
      "text/plain": [
       "{'whiskers': [<matplotlib.lines.Line2D at 0x71069c73bbe0>,\n",
       "  <matplotlib.lines.Line2D at 0x71069c7a75b0>],\n",
       " 'caps': [<matplotlib.lines.Line2D at 0x71069c7a6980>,\n",
       "  <matplotlib.lines.Line2D at 0x71069c7a6a10>],\n",
       " 'boxes': [<matplotlib.lines.Line2D at 0x71069ca4af80>],\n",
       " 'medians': [<matplotlib.lines.Line2D at 0x71069c7a7670>],\n",
       " 'fliers': [],\n",
       " 'means': []}"
      ]
     },
     "execution_count": 136,
     "metadata": {},
     "output_type": "execute_result"
    },
    {
     "data": {
      "image/png": "[encoded data removed]",
      "text/plain": [
       "<Figure size 640x480 with 1 Axes>"
      ]
     },
     "metadata": {},
     "output_type": "display_data"
    }
   ],
   "source": [
    "plt.boxplot(df_main[df_main['yield_fact'] > 1]['yield_fact'], showfliers=False)"
   ]
  },
  {
   "cell_type": "markdown",
   "metadata": {},
   "source": [
    "### ТМЦ и CЗР"
   ]
  },
  {
   "cell_type": "code",
   "execution_count": 137,
   "metadata": {},
   "outputs": [
    {
     "data": {
      "text/plain": [
       "np.float64(22969875109.48)"
      ]
     },
     "execution_count": 137,
     "metadata": {},
     "output_type": "execute_result"
    }
   ],
   "source": [
    "df_main['кг_fert'].max()"
   ]
  },
  {
   "cell_type": "code",
   "execution_count": 138,
   "metadata": {},
   "outputs": [
    {
     "data": {
      "image/png": "[encoded data removed]",
      "text/plain": [
       "<Figure size 1000x600 with 1 Axes>"
      ]
     },
     "metadata": {},
     "output_type": "display_data"
    }
   ],
   "source": [
    "plt.figure(figsize=(10, 6))\n",
    "\n",
    "# plt.yscale('log')\n",
    "\n",
    "plt.hist(df_main.query('кг_fert > 0. and кг_fert < 50000')['кг_fert'])\n",
    "\n",
    "plt.show()"
   ]
  },
  {
   "cell_type": "code",
   "execution_count": 139,
   "metadata": {},
   "outputs": [
    {
     "data": {
      "text/plain": [
       "{'whiskers': [<matplotlib.lines.Line2D at 0x71069c717f70>,\n",
       "  <matplotlib.lines.Line2D at 0x71069c717b80>],\n",
       " 'caps': [<matplotlib.lines.Line2D at 0x71069c715240>,\n",
       "  <matplotlib.lines.Line2D at 0x71069c717ca0>],\n",
       " 'boxes': [<matplotlib.lines.Line2D at 0x71069c716860>],\n",
       " 'medians': [<matplotlib.lines.Line2D at 0x71069c717eb0>],\n",
       " 'fliers': [],\n",
       " 'means': []}"
      ]
     },
     "execution_count": 139,
     "metadata": {},
     "output_type": "execute_result"
    },
    {
     "data": {
      "image/png": "[encoded data removed]",
      "text/plain": [
       "<Figure size 640x480 with 1 Axes>"
      ]
     },
     "metadata": {},
     "output_type": "display_data"
    }
   ],
   "source": [
    "plt.boxplot(df_main.query('кг_fert > 0')['кг_fert'], showfliers=False)"
   ]
  },
  {
   "cell_type": "code",
   "execution_count": null,
   "metadata": {},
   "outputs": [],
   "source": []
  },
  {
   "cell_type": "markdown",
   "metadata": {},
   "source": [
    "## Чистка"
   ]
  },
  {
   "cell_type": "code",
   "execution_count": 140,
   "metadata": {},
   "outputs": [
    {
     "data": {
      "text/html": [
       "<div>\n",
       "<style scoped>\n",
       "    .dataframe tbody tr th:only-of-type {\n",
       "        vertical-align: middle;\n",
       "    }\n",
       "\n",
       "    .dataframe tbody tr th {\n",
       "        vertical-align: top;\n",
       "    }\n",
       "\n",
       "    .dataframe thead th {\n",
       "        text-align: right;\n",
       "    }\n",
       "</style>\n",
       "<table border=\"1\" class=\"dataframe\">\n",
       "  <thead>\n",
       "    <tr style=\"text-align: right;\">\n",
       "      <th></th>\n",
       "      <th>season</th>\n",
       "      <th>field</th>\n",
       "      <th>p2o5</th>\n",
       "      <th>k2o</th>\n",
       "      <th>humus</th>\n",
       "      <th>ph</th>\n",
       "      <th>crop</th>\n",
       "      <th>region</th>\n",
       "      <th>yield_plan</th>\n",
       "      <th>yield_fact</th>\n",
       "      <th>кг_fert</th>\n",
       "      <th>л_fert</th>\n",
       "      <th>кг_pp</th>\n",
       "      <th>л_pp</th>\n",
       "      <th>fact_plan_diff</th>\n",
       "    </tr>\n",
       "  </thead>\n",
       "  <tbody>\n",
       "    <tr>\n",
       "      <th>0</th>\n",
       "      <td>2023</td>\n",
       "      <td>22.47.01.001.01</td>\n",
       "      <td>221.05</td>\n",
       "      <td>206.3</td>\n",
       "      <td>4.05</td>\n",
       "      <td>5.25</td>\n",
       "      <td>Оз.пшеница мягкая</td>\n",
       "      <td>Алтай</td>\n",
       "      <td>3.8</td>\n",
       "      <td>190.592405</td>\n",
       "      <td>4457166.035</td>\n",
       "      <td>0.0</td>\n",
       "      <td>13.94</td>\n",
       "      <td>127.390</td>\n",
       "      <td>186.792405</td>\n",
       "    </tr>\n",
       "    <tr>\n",
       "      <th>1</th>\n",
       "      <td>2023</td>\n",
       "      <td>22.47.01.003.00</td>\n",
       "      <td>186.50</td>\n",
       "      <td>174.8</td>\n",
       "      <td>5.90</td>\n",
       "      <td>5.40</td>\n",
       "      <td>Оз.пшеница мягкая</td>\n",
       "      <td>Алтай</td>\n",
       "      <td>3.8</td>\n",
       "      <td>1.851617</td>\n",
       "      <td>8226128.065</td>\n",
       "      <td>0.0</td>\n",
       "      <td>20.58</td>\n",
       "      <td>182.256</td>\n",
       "      <td>-1.948383</td>\n",
       "    </tr>\n",
       "    <tr>\n",
       "      <th>2</th>\n",
       "      <td>2023</td>\n",
       "      <td>22.47.01.004.00</td>\n",
       "      <td>166.60</td>\n",
       "      <td>147.9</td>\n",
       "      <td>5.60</td>\n",
       "      <td>5.40</td>\n",
       "      <td>Оз.пшеница мягкая</td>\n",
       "      <td>Алтай</td>\n",
       "      <td>3.8</td>\n",
       "      <td>1.418186</td>\n",
       "      <td>4386226.595</td>\n",
       "      <td>0.0</td>\n",
       "      <td>12.27</td>\n",
       "      <td>108.668</td>\n",
       "      <td>-2.381814</td>\n",
       "    </tr>\n",
       "    <tr>\n",
       "      <th>3</th>\n",
       "      <td>2023</td>\n",
       "      <td>22.47.01.006.02</td>\n",
       "      <td>194.70</td>\n",
       "      <td>195.9</td>\n",
       "      <td>4.00</td>\n",
       "      <td>5.15</td>\n",
       "      <td>Оз.пшеница мягкая</td>\n",
       "      <td>Алтай</td>\n",
       "      <td>3.8</td>\n",
       "      <td>2.187347</td>\n",
       "      <td>586686.335</td>\n",
       "      <td>0.0</td>\n",
       "      <td>2.89</td>\n",
       "      <td>26.346</td>\n",
       "      <td>-1.612653</td>\n",
       "    </tr>\n",
       "    <tr>\n",
       "      <th>4</th>\n",
       "      <td>2023</td>\n",
       "      <td>22.47.01.007.02</td>\n",
       "      <td>184.20</td>\n",
       "      <td>171.4</td>\n",
       "      <td>4.40</td>\n",
       "      <td>5.05</td>\n",
       "      <td>Оз.пшеница мягкая</td>\n",
       "      <td>Алтай</td>\n",
       "      <td>3.8</td>\n",
       "      <td>2.109071</td>\n",
       "      <td>1013707.990</td>\n",
       "      <td>0.0</td>\n",
       "      <td>3.89</td>\n",
       "      <td>35.592</td>\n",
       "      <td>-1.690929</td>\n",
       "    </tr>\n",
       "  </tbody>\n",
       "</table>\n",
       "</div>"
      ],
      "text/plain": [
       "   season            field    p2o5    k2o  humus    ph               crop  \\\n",
       "0    2023  22.47.01.001.01  221.05  206.3   4.05  5.25  Оз.пшеница мягкая   \n",
       "1    2023  22.47.01.003.00  186.50  174.8   5.90  5.40  Оз.пшеница мягкая   \n",
       "2    2023  22.47.01.004.00  166.60  147.9   5.60  5.40  Оз.пшеница мягкая   \n",
       "3    2023  22.47.01.006.02  194.70  195.9   4.00  5.15  Оз.пшеница мягкая   \n",
       "4    2023  22.47.01.007.02  184.20  171.4   4.40  5.05  Оз.пшеница мягкая   \n",
       "\n",
       "  region  yield_plan  yield_fact      кг_fert  л_fert  кг_pp     л_pp  \\\n",
       "0  Алтай         3.8  190.592405  4457166.035     0.0  13.94  127.390   \n",
       "1  Алтай         3.8    1.851617  8226128.065     0.0  20.58  182.256   \n",
       "2  Алтай         3.8    1.418186  4386226.595     0.0  12.27  108.668   \n",
       "3  Алтай         3.8    2.187347   586686.335     0.0   2.89   26.346   \n",
       "4  Алтай         3.8    2.109071  1013707.990     0.0   3.89   35.592   \n",
       "\n",
       "   fact_plan_diff  \n",
       "0      186.792405  \n",
       "1       -1.948383  \n",
       "2       -2.381814  \n",
       "3       -1.612653  \n",
       "4       -1.690929  "
      ]
     },
     "execution_count": 140,
     "metadata": {},
     "output_type": "execute_result"
    }
   ],
   "source": [
    "df_main.head()"
   ]
  },
  {
   "cell_type": "code",
   "execution_count": 141,
   "metadata": {},
   "outputs": [],
   "source": [
    "def remove_outliers_iqr(df, columns, k=1.5):\n",
    "    cleared = df.copy()\n",
    "    to_drop = []\n",
    "\n",
    "    for column in columns:\n",
    "        Q1 = cleared[column].quantile(0.25)\n",
    "        Q3 = cleared[column].quantile(0.75)\n",
    "        IQR = Q3 - Q1\n",
    "        \n",
    "        lower_bound = Q1 - k * IQR\n",
    "        upper_bound = Q3 + k * IQR\n",
    "\n",
    "        # Найти индексы выбросов для текущего столбца\n",
    "        outliers = cleared[(cleared[column] < lower_bound) | (cleared[column] > upper_bound)].index\n",
    "        to_drop.extend(outliers)\n",
    "\n",
    "        # Удалить выбросы для текущего столбца\n",
    "        cleared = cleared[(cleared[column] >= lower_bound) & (cleared[column] <= upper_bound)]\n",
    "\n",
    "    # Создать DataFrame с выбросами\n",
    "    to_drop = list(set(to_drop))  # Удалить дубликаты индексов\n",
    "    outliers_df = df.loc[to_drop]\n",
    "\n",
    "    return cleared, outliers_df\n"
   ]
  },
  {
   "cell_type": "code",
   "execution_count": 142,
   "metadata": {},
   "outputs": [],
   "source": [
    "df_main_clear, df_main_trash = remove_outliers_iqr(df_main, ['yield_fact', 'p2o5', 'k2o'], 1.5)"
   ]
  },
  {
   "cell_type": "code",
   "execution_count": 143,
   "metadata": {},
   "outputs": [
    {
     "data": {
      "text/plain": [
       "0.11810486073184057"
      ]
     },
     "execution_count": 143,
     "metadata": {},
     "output_type": "execute_result"
    }
   ],
   "source": [
    "1 - df_main_clear.shape[0] / df_main.shape[0]"
   ]
  },
  {
   "cell_type": "code",
   "execution_count": 144,
   "metadata": {},
   "outputs": [
    {
     "data": {
      "text/html": [
       "<div>\n",
       "<style scoped>\n",
       "    .dataframe tbody tr th:only-of-type {\n",
       "        vertical-align: middle;\n",
       "    }\n",
       "\n",
       "    .dataframe tbody tr th {\n",
       "        vertical-align: top;\n",
       "    }\n",
       "\n",
       "    .dataframe thead th {\n",
       "        text-align: right;\n",
       "    }\n",
       "</style>\n",
       "<table border=\"1\" class=\"dataframe\">\n",
       "  <thead>\n",
       "    <tr style=\"text-align: right;\">\n",
       "      <th></th>\n",
       "      <th>season</th>\n",
       "      <th>p2o5</th>\n",
       "      <th>k2o</th>\n",
       "      <th>humus</th>\n",
       "      <th>ph</th>\n",
       "      <th>yield_plan</th>\n",
       "      <th>yield_fact</th>\n",
       "      <th>кг_fert</th>\n",
       "      <th>л_fert</th>\n",
       "      <th>кг_pp</th>\n",
       "      <th>л_pp</th>\n",
       "      <th>fact_plan_diff</th>\n",
       "    </tr>\n",
       "  </thead>\n",
       "  <tbody>\n",
       "    <tr>\n",
       "      <th>count</th>\n",
       "      <td>865.000000</td>\n",
       "      <td>865.000000</td>\n",
       "      <td>865.000000</td>\n",
       "      <td>865.000000</td>\n",
       "      <td>865.000000</td>\n",
       "      <td>865.000000</td>\n",
       "      <td>865.000000</td>\n",
       "      <td>8.650000e+02</td>\n",
       "      <td>8.650000e+02</td>\n",
       "      <td>865.000000</td>\n",
       "      <td>865.000000</td>\n",
       "      <td>865.000000</td>\n",
       "    </tr>\n",
       "    <tr>\n",
       "      <th>mean</th>\n",
       "      <td>2023.456647</td>\n",
       "      <td>165.946520</td>\n",
       "      <td>164.006266</td>\n",
       "      <td>4.565572</td>\n",
       "      <td>5.429295</td>\n",
       "      <td>5.221329</td>\n",
       "      <td>1913.600992</td>\n",
       "      <td>2.916627e+07</td>\n",
       "      <td>5.839113e+04</td>\n",
       "      <td>17.321204</td>\n",
       "      <td>157.352470</td>\n",
       "      <td>1908.379662</td>\n",
       "    </tr>\n",
       "    <tr>\n",
       "      <th>std</th>\n",
       "      <td>0.498405</td>\n",
       "      <td>109.178462</td>\n",
       "      <td>103.436421</td>\n",
       "      <td>1.656501</td>\n",
       "      <td>0.620194</td>\n",
       "      <td>2.357648</td>\n",
       "      <td>3918.176432</td>\n",
       "      <td>7.810656e+08</td>\n",
       "      <td>1.460581e+06</td>\n",
       "      <td>50.074104</td>\n",
       "      <td>993.515486</td>\n",
       "      <td>3917.450600</td>\n",
       "    </tr>\n",
       "    <tr>\n",
       "      <th>min</th>\n",
       "      <td>2023.000000</td>\n",
       "      <td>11.000000</td>\n",
       "      <td>27.000000</td>\n",
       "      <td>0.800000</td>\n",
       "      <td>3.600000</td>\n",
       "      <td>0.000000</td>\n",
       "      <td>0.000000</td>\n",
       "      <td>0.000000e+00</td>\n",
       "      <td>0.000000e+00</td>\n",
       "      <td>0.000000</td>\n",
       "      <td>0.000000</td>\n",
       "      <td>-8.431687</td>\n",
       "    </tr>\n",
       "    <tr>\n",
       "      <th>25%</th>\n",
       "      <td>2023.000000</td>\n",
       "      <td>84.000000</td>\n",
       "      <td>90.000000</td>\n",
       "      <td>3.400000</td>\n",
       "      <td>5.000000</td>\n",
       "      <td>3.400000</td>\n",
       "      <td>3.180000</td>\n",
       "      <td>4.347810e+03</td>\n",
       "      <td>0.000000e+00</td>\n",
       "      <td>0.000000</td>\n",
       "      <td>9.280000</td>\n",
       "      <td>-0.767835</td>\n",
       "    </tr>\n",
       "    <tr>\n",
       "      <th>50%</th>\n",
       "      <td>2023.000000</td>\n",
       "      <td>127.000000</td>\n",
       "      <td>127.000000</td>\n",
       "      <td>4.900000</td>\n",
       "      <td>5.300000</td>\n",
       "      <td>5.000000</td>\n",
       "      <td>143.832601</td>\n",
       "      <td>2.672105e+05</td>\n",
       "      <td>0.000000e+00</td>\n",
       "      <td>0.510000</td>\n",
       "      <td>44.996000</td>\n",
       "      <td>137.945845</td>\n",
       "    </tr>\n",
       "    <tr>\n",
       "      <th>75%</th>\n",
       "      <td>2024.000000</td>\n",
       "      <td>244.200000</td>\n",
       "      <td>216.880000</td>\n",
       "      <td>5.800000</td>\n",
       "      <td>5.700000</td>\n",
       "      <td>7.500000</td>\n",
       "      <td>2820.410000</td>\n",
       "      <td>1.390173e+06</td>\n",
       "      <td>0.000000e+00</td>\n",
       "      <td>8.660000</td>\n",
       "      <td>115.040000</td>\n",
       "      <td>2814.910000</td>\n",
       "    </tr>\n",
       "    <tr>\n",
       "      <th>max</th>\n",
       "      <td>2024.000000</td>\n",
       "      <td>679.000000</td>\n",
       "      <td>586.000000</td>\n",
       "      <td>9.500000</td>\n",
       "      <td>8.000000</td>\n",
       "      <td>11.000000</td>\n",
       "      <td>78114.350000</td>\n",
       "      <td>2.296988e+10</td>\n",
       "      <td>4.293744e+07</td>\n",
       "      <td>562.080000</td>\n",
       "      <td>19129.770000</td>\n",
       "      <td>78106.850000</td>\n",
       "    </tr>\n",
       "  </tbody>\n",
       "</table>\n",
       "</div>"
      ],
      "text/plain": [
       "            season        p2o5         k2o       humus          ph  \\\n",
       "count   865.000000  865.000000  865.000000  865.000000  865.000000   \n",
       "mean   2023.456647  165.946520  164.006266    4.565572    5.429295   \n",
       "std       0.498405  109.178462  103.436421    1.656501    0.620194   \n",
       "min    2023.000000   11.000000   27.000000    0.800000    3.600000   \n",
       "25%    2023.000000   84.000000   90.000000    3.400000    5.000000   \n",
       "50%    2023.000000  127.000000  127.000000    4.900000    5.300000   \n",
       "75%    2024.000000  244.200000  216.880000    5.800000    5.700000   \n",
       "max    2024.000000  679.000000  586.000000    9.500000    8.000000   \n",
       "\n",
       "       yield_plan    yield_fact       кг_fert        л_fert       кг_pp  \\\n",
       "count  865.000000    865.000000  8.650000e+02  8.650000e+02  865.000000   \n",
       "mean     5.221329   1913.600992  2.916627e+07  5.839113e+04   17.321204   \n",
       "std      2.357648   3918.176432  7.810656e+08  1.460581e+06   50.074104   \n",
       "min      0.000000      0.000000  0.000000e+00  0.000000e+00    0.000000   \n",
       "25%      3.400000      3.180000  4.347810e+03  0.000000e+00    0.000000   \n",
       "50%      5.000000    143.832601  2.672105e+05  0.000000e+00    0.510000   \n",
       "75%      7.500000   2820.410000  1.390173e+06  0.000000e+00    8.660000   \n",
       "max     11.000000  78114.350000  2.296988e+10  4.293744e+07  562.080000   \n",
       "\n",
       "               л_pp  fact_plan_diff  \n",
       "count    865.000000      865.000000  \n",
       "mean     157.352470     1908.379662  \n",
       "std      993.515486     3917.450600  \n",
       "min        0.000000       -8.431687  \n",
       "25%        9.280000       -0.767835  \n",
       "50%       44.996000      137.945845  \n",
       "75%      115.040000     2814.910000  \n",
       "max    19129.770000    78106.850000  "
      ]
     },
     "execution_count": 144,
     "metadata": {},
     "output_type": "execute_result"
    }
   ],
   "source": [
    "df_main_trash.describe()"
   ]
  },
  {
   "cell_type": "code",
   "execution_count": 145,
   "metadata": {},
   "outputs": [],
   "source": [
    "df_main_clear.to_csv(\"../data/df_main_clear.csv\")\n",
    "df_main_trash.to_csv(\"../data/df_main_trash.csv\")"
   ]
  },
  {
   "cell_type": "markdown",
   "metadata": {},
   "source": [
    "## После чистки"
   ]
  },
  {
   "cell_type": "markdown",
   "metadata": {},
   "source": [
    "### Хим"
   ]
  },
  {
   "cell_type": "code",
   "execution_count": 146,
   "metadata": {},
   "outputs": [
    {
     "data": {
      "text/plain": [
       "array([[<Axes: title={'center': 'p2o5'}>,\n",
       "        <Axes: title={'center': 'k2o'}>],\n",
       "       [<Axes: title={'center': 'humus'}>,\n",
       "        <Axes: title={'center': 'ph'}>]], dtype=object)"
      ]
     },
     "execution_count": 146,
     "metadata": {},
     "output_type": "execute_result"
    },
    {
     "data": {
      "image/png": "[encoded data removed]",
      "text/plain": [
       "<Figure size 1000x600 with 4 Axes>"
      ]
     },
     "metadata": {},
     "output_type": "display_data"
    }
   ],
   "source": [
    "df_main_clear[['p2o5', 'k2o', 'humus', 'ph']].hist(figsize=(10, 6))"
   ]
  },
  {
   "cell_type": "code",
   "execution_count": 147,
   "metadata": {},
   "outputs": [
    {
     "data": {
      "image/png": "[encoded data removed]",
      "text/plain": [
       "<Figure size 640x480 with 1 Axes>"
      ]
     },
     "metadata": {},
     "output_type": "display_data"
    },
    {
     "data": {
      "image/png": "[encoded data removed]",
      "text/plain": [
       "<Figure size 640x480 with 1 Axes>"
      ]
     },
     "metadata": {},
     "output_type": "display_data"
    },
    {
     "data": {
      "image/png": "[encoded data removed]",
      "text/plain": [
       "<Figure size 640x480 with 1 Axes>"
      ]
     },
     "metadata": {},
     "output_type": "display_data"
    },
    {
     "data": {
      "image/png": "[encoded data removed]",
      "text/plain": [
       "<Figure size 640x480 with 1 Axes>"
      ]
     },
     "metadata": {},
     "output_type": "display_data"
    }
   ],
   "source": [
    "# p2o5\n",
    "df_main_clear['p2o5'].hist()\n",
    "\n",
    "plt.xlabel('p2o5 mg/kg')\n",
    "plt.ylabel('count')\n",
    "\n",
    "plt.show()\n",
    "\n",
    "# k2o\n",
    "df_main_clear['k2o'].hist()\n",
    "\n",
    "plt.xlabel('k2o mg/kg')\n",
    "plt.ylabel('count')\n",
    "\n",
    "plt.show()\n",
    "\n",
    "# humus\n",
    "df_main_clear['humus'].hist()\n",
    "\n",
    "plt.xlabel('humus %')\n",
    "plt.ylabel('count')\n",
    "\n",
    "plt.show()\n",
    "\n",
    "# ph\n",
    "df_main_clear['ph'].hist()\n",
    "\n",
    "plt.xlabel('ph (no unit)')\n",
    "plt.ylabel('count')\n",
    "\n",
    "plt.show()\n"
   ]
  },
  {
   "cell_type": "markdown",
   "metadata": {},
   "source": [
    "### Категориальные признаки"
   ]
  },
  {
   "cell_type": "code",
   "execution_count": 148,
   "metadata": {},
   "outputs": [
    {
     "data": {
      "image/png": "[encoded data removed]",
      "text/plain": [
       "<Figure size 1000x600 with 1 Axes>"
      ]
     },
     "metadata": {},
     "output_type": "display_data"
    },
    {
     "data": {
      "image/png": "[encoded data removed]",
      "text/plain": [
       "<Figure size 1000x600 with 1 Axes>"
      ]
     },
     "metadata": {},
     "output_type": "display_data"
    }
   ],
   "source": [
    "df_main_clear['region'].hist(figsize=(10, 6), xrot=30)\n",
    "\n",
    "plt.ylabel('count')\n",
    "\n",
    "plt.show()\n",
    "\n",
    "df_main_clear.query(f\"crop in {top_crops}\")['crop'].hist(figsize=(10, 6), xrot=30)\n",
    "\n",
    "plt.ylabel('count')\n",
    "\n",
    "plt.show()"
   ]
  },
  {
   "cell_type": "markdown",
   "metadata": {},
   "source": [
    "### Урожайности"
   ]
  },
  {
   "cell_type": "code",
   "execution_count": 163,
   "metadata": {},
   "outputs": [
    {
     "data": {
      "image/png": "[encoded data removed]",
      "text/plain": [
       "<Figure size 1000x600 with 1 Axes>"
      ]
     },
     "metadata": {},
     "output_type": "display_data"
    }
   ],
   "source": [
    "plt.figure(figsize=(10, 6))\n",
    "\n",
    "plt.hist([df_main_clear['yield_fact'], df_main_clear['yield_plan']], color=['blue', 'red'], label=['Фактическая', 'Плановая'])\n",
    "\n",
    "plt.yscale('log')\n",
    "\n",
    "plt.title(\"Распределение фактической и плановой урожайности\")\n",
    "plt.ylabel(\"Частота\")\n",
    "plt.xlabel(\"Урожайность\")\n",
    "\n",
    "plt.legend()\n",
    "\n",
    "plt.show()"
   ]
  },
  {
   "cell_type": "code",
   "execution_count": 150,
   "metadata": {},
   "outputs": [
    {
     "data": {
      "image/png": "[encoded data removed]",
      "text/plain": [
       "<Figure size 640x480 with 1 Axes>"
      ]
     },
     "metadata": {},
     "output_type": "display_data"
    }
   ],
   "source": [
    "plt.hist(df_main_clear['yield_fact'], bins=40)\n",
    "\n",
    "plt.yscale('log')\n",
    "\n",
    "plt.xlabel('Фактическая урожайность')\n",
    "plt.ylabel('count')\n",
    "\n",
    "plt.show()"
   ]
  },
  {
   "cell_type": "code",
   "execution_count": 151,
   "metadata": {},
   "outputs": [
    {
     "data": {
      "image/png": "[encoded data removed]",
      "text/plain": [
       "<Figure size 640x480 with 1 Axes>"
      ]
     },
     "metadata": {},
     "output_type": "display_data"
    }
   ],
   "source": [
    "plt.hist(df_main_clear['yield_plan'], bins=40)\n",
    "\n",
    "plt.yscale('log')\n",
    "\n",
    "plt.xlabel('Плановая урожайность')\n",
    "\n",
    "plt.show()"
   ]
  },
  {
   "cell_type": "code",
   "execution_count": 152,
   "metadata": {},
   "outputs": [
    {
     "data": {
      "image/png": "[encoded data removed]",
      "text/plain": [
       "<Figure size 640x480 with 1 Axes>"
      ]
     },
     "metadata": {},
     "output_type": "display_data"
    }
   ],
   "source": [
    "plt.hist(df_main_clear['fact_plan_diff'], bins=40)\n",
    "\n",
    "plt.yscale('log')\n",
    "\n",
    "plt.xlabel('Разность между фактической и плановой урожайностью')\n",
    "\n",
    "plt.show()"
   ]
  },
  {
   "cell_type": "code",
   "execution_count": 153,
   "metadata": {},
   "outputs": [
    {
     "data": {
      "text/plain": [
       "{'whiskers': [<matplotlib.lines.Line2D at 0x71069ba24790>,\n",
       "  <matplotlib.lines.Line2D at 0x71069ba25b10>],\n",
       " 'caps': [<matplotlib.lines.Line2D at 0x71069ba26920>,\n",
       "  <matplotlib.lines.Line2D at 0x71069ba24ca0>],\n",
       " 'boxes': [<matplotlib.lines.Line2D at 0x71069ba25e40>],\n",
       " 'medians': [<matplotlib.lines.Line2D at 0x71069ba252a0>],\n",
       " 'fliers': [],\n",
       " 'means': []}"
      ]
     },
     "execution_count": 153,
     "metadata": {},
     "output_type": "execute_result"
    },
    {
     "data": {
      "image/png": "[encoded data removed]",
      "text/plain": [
       "<Figure size 640x480 with 1 Axes>"
      ]
     },
     "metadata": {},
     "output_type": "display_data"
    }
   ],
   "source": [
    "plt.boxplot(df_main_clear[df_main_clear['yield_fact'] > 1]['yield_fact'], showfliers=False)"
   ]
  },
  {
   "cell_type": "markdown",
   "metadata": {},
   "source": [
    "### ТМЦ и CЗР"
   ]
  },
  {
   "cell_type": "code",
   "execution_count": 154,
   "metadata": {},
   "outputs": [
    {
     "data": {
      "text/plain": [
       "np.float64(1405217278.8)"
      ]
     },
     "execution_count": 154,
     "metadata": {},
     "output_type": "execute_result"
    }
   ],
   "source": [
    "df_main_clear['кг_fert'].max()"
   ]
  },
  {
   "cell_type": "code",
   "execution_count": 165,
   "metadata": {},
   "outputs": [
    {
     "data": {
      "image/png": "[encoded data removed]",
      "text/plain": [
       "<Figure size 1000x600 with 1 Axes>"
      ]
     },
     "metadata": {},
     "output_type": "display_data"
    }
   ],
   "source": [
    "plt.figure(figsize=(10, 6))\n",
    "\n",
    "# plt.yscale('log')\n",
    "\n",
    "plt.hist(df_main_clear.query('кг_fert > 0. and кг_fert < 50000')['кг_fert'])\n",
    "\n",
    "plt.show()"
   ]
  },
  {
   "cell_type": "code",
   "execution_count": null,
   "metadata": {},
   "outputs": [
    {
     "data": {
      "text/plain": [
       "{'whiskers': [<matplotlib.lines.Line2D at 0x71069d171270>,\n",
       "  <matplotlib.lines.Line2D at 0x71069d171510>],\n",
       " 'caps': [<matplotlib.lines.Line2D at 0x71069d1717b0>,\n",
       "  <matplotlib.lines.Line2D at 0x71069d171a50>],\n",
       " 'boxes': [<matplotlib.lines.Line2D at 0x71069d170fd0>],\n",
       " 'medians': [<matplotlib.lines.Line2D at 0x71069d329270>],\n",
       " 'fliers': [],\n",
       " 'means': []}"
      ]
     },
     "execution_count": 156,
     "metadata": {},
     "output_type": "execute_result"
    },
    {
     "data": {
      "image/png": "[encoded data removed]",
      "text/plain": [
       "<Figure size 640x480 with 1 Axes>"
      ]
     },
     "metadata": {},
     "output_type": "display_data"
    }
   ],
   "source": [
    "plt.boxplot(df_main_clear.query('кг_fert > 0')['кг_fert'], showfliers=True)"
   ]
  },
  {
   "cell_type": "code",
   "execution_count": null,
   "metadata": {},
   "outputs": [],
   "source": []
  }
 ],
 "metadata": {
  "kernelspec": {
   "display_name": ".venv",
   "language": "python",
   "name": "python3"
  },
  "language_info": {
   "codemirror_mode": {
    "name": "ipython",
    "version": 3
   },
   "file_extension": ".py",
   "mimetype": "text/x-python",
   "name": "python",
   "nbconvert_exporter": "python",
   "pygments_lexer": "ipython3",
   "version": "3.10.12"
  }
 },
 "nbformat": 4,
 "nbformat_minor": 2
}
