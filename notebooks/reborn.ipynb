{
 "cells": [
  {
   "cell_type": "code",
   "execution_count": 41,
   "metadata": {},
   "outputs": [],
   "source": [
    "import pandas as pd\n",
    "import seaborn as sns\n",
    "import matplotlib.pyplot as plt\n",
    "import numpy as np"
   ]
  },
  {
   "cell_type": "code",
   "execution_count": 42,
   "metadata": {},
   "outputs": [],
   "source": [
    "df_fields = pd.read_csv('../data/fields.csv', delimiter=';', decimal=',', skiprows=[0, 2])\n",
    "df_value = pd.read_csv('../data/value.csv', delimiter=';', decimal=',', skiprows=[0, 1], parse_dates=['inv_item_date'], date_format={'inv_item_date': '%d.%m.%Y'})\n",
    "df_works = pd.read_csv('../data/works.csv', delimiter=';', decimal=',', skiprows=[0, 1], parse_dates=['start_date', 'end_date'], date_format={'start_date': '%d.%m.%Y', 'end_date': '%d.%m.%Y'})\n",
    "\n",
    "df_works['area'] = df_works['area'].str.replace(',', '.').astype(float)"
   ]
  },
  {
   "cell_type": "markdown",
   "metadata": {},
   "source": [
    "# Формирование таблицы с полями и их yield_plan, yield_fact"
   ]
  },
  {
   "cell_type": "code",
   "execution_count": 43,
   "metadata": {},
   "outputs": [
    {
     "data": {
      "text/html": [
       "<div>\n",
       "<style scoped>\n",
       "    .dataframe tbody tr th:only-of-type {\n",
       "        vertical-align: middle;\n",
       "    }\n",
       "\n",
       "    .dataframe tbody tr th {\n",
       "        vertical-align: top;\n",
       "    }\n",
       "\n",
       "    .dataframe thead th {\n",
       "        text-align: right;\n",
       "    }\n",
       "</style>\n",
       "<table border=\"1\" class=\"dataframe\">\n",
       "  <thead>\n",
       "    <tr style=\"text-align: right;\">\n",
       "      <th></th>\n",
       "      <th>field</th>\n",
       "      <th>season</th>\n",
       "      <th>yield_fact</th>\n",
       "    </tr>\n",
       "  </thead>\n",
       "  <tbody>\n",
       "    <tr>\n",
       "      <th>0</th>\n",
       "      <td>02.09.02.002.01</td>\n",
       "      <td>2023</td>\n",
       "      <td>1.568170</td>\n",
       "    </tr>\n",
       "    <tr>\n",
       "      <th>1</th>\n",
       "      <td>02.09.02.002.01</td>\n",
       "      <td>2024</td>\n",
       "      <td>0.000000</td>\n",
       "    </tr>\n",
       "    <tr>\n",
       "      <th>2</th>\n",
       "      <td>02.09.02.015.00</td>\n",
       "      <td>2023</td>\n",
       "      <td>1.223696</td>\n",
       "    </tr>\n",
       "    <tr>\n",
       "      <th>3</th>\n",
       "      <td>02.09.02.019.00</td>\n",
       "      <td>2023</td>\n",
       "      <td>2.150000</td>\n",
       "    </tr>\n",
       "    <tr>\n",
       "      <th>4</th>\n",
       "      <td>02.09.03.032.00</td>\n",
       "      <td>2023</td>\n",
       "      <td>268.696209</td>\n",
       "    </tr>\n",
       "  </tbody>\n",
       "</table>\n",
       "</div>"
      ],
      "text/plain": [
       "             field  season  yield_fact\n",
       "0  02.09.02.002.01    2023    1.568170\n",
       "1  02.09.02.002.01    2024    0.000000\n",
       "2  02.09.02.015.00    2023    1.223696\n",
       "3  02.09.02.019.00    2023    2.150000\n",
       "4  02.09.03.032.00    2023  268.696209"
      ]
     },
     "execution_count": 43,
     "metadata": {},
     "output_type": "execute_result"
    }
   ],
   "source": [
    "valid_work_subtypes = ['Прямое комбайнирование', 'Подбор и обмолот', 'Заготовка сенажа', 'Уборка силос/карнаж', 'Подбор (корм)', 'Вывоз', 'Прессование']\n",
    "valid_work_types = ['Обработка почвы', 'Уборка']\n",
    "\n",
    "df_yield_fact_works = df_works.query(\n",
    "    f\"work_type in {valid_work_types} and work_subtype in {valid_work_subtypes}\"\n",
    ")[['season', 'field', 'yield_fact', 'area', 'work_type']]\n",
    "\n",
    "df_yield_fact = (\n",
    "    df_yield_fact_works\n",
    "    .assign(weighted_yield=lambda x: x['yield_fact'] * x['area'])\n",
    "    .groupby(['field', 'season'])\n",
    "    .agg(weighted_yield=('weighted_yield', 'sum'), total_area=('area', 'sum'))\n",
    "    .assign(weighted_mean=lambda x: x['weighted_yield'] / x['total_area'])\n",
    "    .reset_index()[['field', 'season', 'weighted_mean']]\n",
    ")\n",
    "\n",
    "df_yield_fact = df_yield_fact.rename(columns={'weighted_mean': 'yield_fact'})\n",
    "\n",
    "df_yield_fact.head()"
   ]
  },
  {
   "cell_type": "code",
   "execution_count": 44,
   "metadata": {},
   "outputs": [
    {
     "data": {
      "text/html": [
       "<div>\n",
       "<style scoped>\n",
       "    .dataframe tbody tr th:only-of-type {\n",
       "        vertical-align: middle;\n",
       "    }\n",
       "\n",
       "    .dataframe tbody tr th {\n",
       "        vertical-align: top;\n",
       "    }\n",
       "\n",
       "    .dataframe thead th {\n",
       "        text-align: right;\n",
       "    }\n",
       "</style>\n",
       "<table border=\"1\" class=\"dataframe\">\n",
       "  <thead>\n",
       "    <tr style=\"text-align: right;\">\n",
       "      <th></th>\n",
       "      <th>season</th>\n",
       "      <th>field</th>\n",
       "      <th>p2o5</th>\n",
       "      <th>k2o</th>\n",
       "      <th>humus</th>\n",
       "      <th>ph</th>\n",
       "      <th>crop</th>\n",
       "      <th>region</th>\n",
       "      <th>yield_plan</th>\n",
       "      <th>yield_fact</th>\n",
       "    </tr>\n",
       "  </thead>\n",
       "  <tbody>\n",
       "    <tr>\n",
       "      <th>0</th>\n",
       "      <td>2023</td>\n",
       "      <td>22.47.01.001.01</td>\n",
       "      <td>221.05</td>\n",
       "      <td>206.3</td>\n",
       "      <td>4.05</td>\n",
       "      <td>5.25</td>\n",
       "      <td>Оз.пшеница мягкая</td>\n",
       "      <td>Алтай</td>\n",
       "      <td>3.8</td>\n",
       "      <td>190.592405</td>\n",
       "    </tr>\n",
       "    <tr>\n",
       "      <th>3</th>\n",
       "      <td>2023</td>\n",
       "      <td>22.47.01.003.00</td>\n",
       "      <td>186.50</td>\n",
       "      <td>174.8</td>\n",
       "      <td>5.90</td>\n",
       "      <td>5.40</td>\n",
       "      <td>Оз.пшеница мягкая</td>\n",
       "      <td>Алтай</td>\n",
       "      <td>3.8</td>\n",
       "      <td>1.851617</td>\n",
       "    </tr>\n",
       "    <tr>\n",
       "      <th>4</th>\n",
       "      <td>2023</td>\n",
       "      <td>22.47.01.004.00</td>\n",
       "      <td>166.60</td>\n",
       "      <td>147.9</td>\n",
       "      <td>5.60</td>\n",
       "      <td>5.40</td>\n",
       "      <td>Оз.пшеница мягкая</td>\n",
       "      <td>Алтай</td>\n",
       "      <td>3.8</td>\n",
       "      <td>1.418186</td>\n",
       "    </tr>\n",
       "    <tr>\n",
       "      <th>7</th>\n",
       "      <td>2023</td>\n",
       "      <td>22.47.01.006.02</td>\n",
       "      <td>194.70</td>\n",
       "      <td>195.9</td>\n",
       "      <td>4.00</td>\n",
       "      <td>5.15</td>\n",
       "      <td>Оз.пшеница мягкая</td>\n",
       "      <td>Алтай</td>\n",
       "      <td>3.8</td>\n",
       "      <td>2.187347</td>\n",
       "    </tr>\n",
       "    <tr>\n",
       "      <th>9</th>\n",
       "      <td>2023</td>\n",
       "      <td>22.47.01.007.02</td>\n",
       "      <td>184.20</td>\n",
       "      <td>171.4</td>\n",
       "      <td>4.40</td>\n",
       "      <td>5.05</td>\n",
       "      <td>Оз.пшеница мягкая</td>\n",
       "      <td>Алтай</td>\n",
       "      <td>3.8</td>\n",
       "      <td>2.109071</td>\n",
       "    </tr>\n",
       "  </tbody>\n",
       "</table>\n",
       "</div>"
      ],
      "text/plain": [
       "   season            field    p2o5    k2o  humus    ph               crop  \\\n",
       "0    2023  22.47.01.001.01  221.05  206.3   4.05  5.25  Оз.пшеница мягкая   \n",
       "3    2023  22.47.01.003.00  186.50  174.8   5.90  5.40  Оз.пшеница мягкая   \n",
       "4    2023  22.47.01.004.00  166.60  147.9   5.60  5.40  Оз.пшеница мягкая   \n",
       "7    2023  22.47.01.006.02  194.70  195.9   4.00  5.15  Оз.пшеница мягкая   \n",
       "9    2023  22.47.01.007.02  184.20  171.4   4.40  5.05  Оз.пшеница мягкая   \n",
       "\n",
       "  region  yield_plan  yield_fact  \n",
       "0  Алтай         3.8  190.592405  \n",
       "3  Алтай         3.8    1.851617  \n",
       "4  Алтай         3.8    1.418186  \n",
       "7  Алтай         3.8    2.187347  \n",
       "9  Алтай         3.8    2.109071  "
      ]
     },
     "execution_count": 44,
     "metadata": {},
     "output_type": "execute_result"
    }
   ],
   "source": [
    "df_fields_tmp = df_fields[['season', 'field', 'p2o5', 'k2o', 'humus', 'ph', 'crop', 'region', 'yield_plan']]\n",
    "\n",
    "df_yield = df_fields_tmp.merge(df_yield_fact, how='left', on=['field', 'season'])\n",
    "\n",
    "df_yield = df_yield.dropna()\n",
    "\n",
    "df_yield.head()"
   ]
  },
  {
   "cell_type": "markdown",
   "metadata": {},
   "source": [
    "# Добавление информации о товарно-материальных ценностях"
   ]
  },
  {
   "cell_type": "code",
   "execution_count": 84,
   "metadata": {},
   "outputs": [
    {
     "data": {
      "text/html": [
       "<div>\n",
       "<style scoped>\n",
       "    .dataframe tbody tr th:only-of-type {\n",
       "        vertical-align: middle;\n",
       "    }\n",
       "\n",
       "    .dataframe tbody tr th {\n",
       "        vertical-align: top;\n",
       "    }\n",
       "\n",
       "    .dataframe thead th {\n",
       "        text-align: right;\n",
       "    }\n",
       "</style>\n",
       "<table border=\"1\" class=\"dataframe\">\n",
       "  <thead>\n",
       "    <tr style=\"text-align: right;\">\n",
       "      <th></th>\n",
       "      <th>field</th>\n",
       "      <th>inv_item_type</th>\n",
       "      <th>inv_item_name</th>\n",
       "      <th>inv_item_weight</th>\n",
       "      <th>inv_item_unit</th>\n",
       "      <th>inv_item_dose</th>\n",
       "      <th>inv_item_date</th>\n",
       "      <th>work_id</th>\n",
       "    </tr>\n",
       "  </thead>\n",
       "  <tbody>\n",
       "    <tr>\n",
       "      <th>0</th>\n",
       "      <td>36.01.21.025.01</td>\n",
       "      <td>Удобрения</td>\n",
       "      <td>Удобрение 31</td>\n",
       "      <td>15017.6</td>\n",
       "      <td>кг</td>\n",
       "      <td>260.0</td>\n",
       "      <td>2024-10-28</td>\n",
       "      <td>E3A7DAEB-D124-4685-ADE1-199818C77361</td>\n",
       "    </tr>\n",
       "    <tr>\n",
       "      <th>1</th>\n",
       "      <td>36.14.12.064.00</td>\n",
       "      <td>Удобрения</td>\n",
       "      <td>Удобрение 31</td>\n",
       "      <td>6500.0</td>\n",
       "      <td>м3</td>\n",
       "      <td>65.0</td>\n",
       "      <td>2024-10-28</td>\n",
       "      <td>0AB8C8D7-04BD-4483-98B2-3E062CDD7E3E</td>\n",
       "    </tr>\n",
       "    <tr>\n",
       "      <th>2</th>\n",
       "      <td>36.14.16.008.00</td>\n",
       "      <td>Удобрения</td>\n",
       "      <td>Удобрение 49</td>\n",
       "      <td>7865.0</td>\n",
       "      <td>т</td>\n",
       "      <td>65.0</td>\n",
       "      <td>2024-10-28</td>\n",
       "      <td>00E51F81-0A4F-4983-B068-877A089FFD33</td>\n",
       "    </tr>\n",
       "    <tr>\n",
       "      <th>3</th>\n",
       "      <td>36.14.16.008.00</td>\n",
       "      <td>Удобрения</td>\n",
       "      <td>Удобрение 49</td>\n",
       "      <td>10985.0</td>\n",
       "      <td>т</td>\n",
       "      <td>65.0</td>\n",
       "      <td>2024-10-28</td>\n",
       "      <td>150F0150-8061-4CE9-9570-B112CBAD7C51</td>\n",
       "    </tr>\n",
       "    <tr>\n",
       "      <th>4</th>\n",
       "      <td>36.14.16.008.00</td>\n",
       "      <td>Удобрения</td>\n",
       "      <td>Удобрение 49</td>\n",
       "      <td>10985.0</td>\n",
       "      <td>т</td>\n",
       "      <td>65.0</td>\n",
       "      <td>2024-10-28</td>\n",
       "      <td>D5D1EADB-D159-4CF8-8C2A-171517ACD403</td>\n",
       "    </tr>\n",
       "  </tbody>\n",
       "</table>\n",
       "</div>"
      ],
      "text/plain": [
       "             field inv_item_type inv_item_name  inv_item_weight inv_item_unit  \\\n",
       "0  36.01.21.025.01     Удобрения  Удобрение 31          15017.6            кг   \n",
       "1  36.14.12.064.00     Удобрения  Удобрение 31           6500.0            м3   \n",
       "2  36.14.16.008.00     Удобрения  Удобрение 49           7865.0             т   \n",
       "3  36.14.16.008.00     Удобрения  Удобрение 49          10985.0             т   \n",
       "4  36.14.16.008.00     Удобрения  Удобрение 49          10985.0             т   \n",
       "\n",
       "   inv_item_dose inv_item_date                               work_id  \n",
       "0          260.0    2024-10-28  E3A7DAEB-D124-4685-ADE1-199818C77361  \n",
       "1           65.0    2024-10-28  0AB8C8D7-04BD-4483-98B2-3E062CDD7E3E  \n",
       "2           65.0    2024-10-28  00E51F81-0A4F-4983-B068-877A089FFD33  \n",
       "3           65.0    2024-10-28  150F0150-8061-4CE9-9570-B112CBAD7C51  \n",
       "4           65.0    2024-10-28  D5D1EADB-D159-4CF8-8C2A-171517ACD403  "
      ]
     },
     "execution_count": 84,
     "metadata": {},
     "output_type": "execute_result"
    }
   ],
   "source": [
    "df_value.head()"
   ]
  },
  {
   "cell_type": "code",
   "execution_count": 85,
   "metadata": {},
   "outputs": [
    {
     "data": {
      "text/plain": [
       "inv_item_type\n",
       "СЗР          100115\n",
       "Удобрения     43008\n",
       "Семена        27690\n",
       "Name: count, dtype: int64"
      ]
     },
     "execution_count": 85,
     "metadata": {},
     "output_type": "execute_result"
    }
   ],
   "source": [
    "df_value['inv_item_type'].value_counts()"
   ]
  },
  {
   "cell_type": "code",
   "execution_count": 86,
   "metadata": {},
   "outputs": [],
   "source": [
    "df_fert = df_value[df_value['inv_item_type'] == 'Удобрения']"
   ]
  },
  {
   "cell_type": "code",
   "execution_count": 87,
   "metadata": {},
   "outputs": [
    {
     "data": {
      "text/plain": [
       "field              0\n",
       "inv_item_type      0\n",
       "inv_item_name      0\n",
       "inv_item_weight    0\n",
       "inv_item_unit      2\n",
       "inv_item_dose      0\n",
       "inv_item_date      0\n",
       "work_id            0\n",
       "dtype: int64"
      ]
     },
     "execution_count": 87,
     "metadata": {},
     "output_type": "execute_result"
    }
   ],
   "source": [
    "df_fert.isnull().sum()"
   ]
  },
  {
   "cell_type": "code",
   "execution_count": 88,
   "metadata": {},
   "outputs": [
    {
     "data": {
      "text/plain": [
       "array(['кг', 'м3', 'т', 'л', nan, 'шт'], dtype=object)"
      ]
     },
     "execution_count": 88,
     "metadata": {},
     "output_type": "execute_result"
    }
   ],
   "source": [
    "df_fert['inv_item_unit'].unique()"
   ]
  },
  {
   "cell_type": "code",
   "execution_count": 89,
   "metadata": {},
   "outputs": [
    {
     "data": {
      "text/plain": [
       "(43008, 8)"
      ]
     },
     "execution_count": 89,
     "metadata": {},
     "output_type": "execute_result"
    }
   ],
   "source": [
    "df_fert.shape"
   ]
  },
  {
   "cell_type": "markdown",
   "metadata": {},
   "source": [
    "## В итоге стоит превести всё к общим размерностям:\n",
    "кг, м3, п.е., п. ед., упак, шт"
   ]
  },
  {
   "cell_type": "code",
   "execution_count": 90,
   "metadata": {},
   "outputs": [],
   "source": [
    "df_fert = df_fert.dropna()"
   ]
  },
  {
   "cell_type": "code",
   "execution_count": 91,
   "metadata": {},
   "outputs": [
    {
     "data": {
      "text/plain": [
       "inv_item_unit\n",
       "кг    31047\n",
       "т      7862\n",
       "л      3097\n",
       "м3      999\n",
       "шт        1\n",
       "Name: count, dtype: int64"
      ]
     },
     "execution_count": 91,
     "metadata": {},
     "output_type": "execute_result"
    }
   ],
   "source": [
    "df_fert['inv_item_unit'].value_counts()"
   ]
  },
  {
   "cell_type": "code",
   "execution_count": null,
   "metadata": {},
   "outputs": [
    {
     "data": {
      "text/html": [
       "<div>\n",
       "<style scoped>\n",
       "    .dataframe tbody tr th:only-of-type {\n",
       "        vertical-align: middle;\n",
       "    }\n",
       "\n",
       "    .dataframe tbody tr th {\n",
       "        vertical-align: top;\n",
       "    }\n",
       "\n",
       "    .dataframe thead th {\n",
       "        text-align: right;\n",
       "    }\n",
       "</style>\n",
       "<table border=\"1\" class=\"dataframe\">\n",
       "  <thead>\n",
       "    <tr style=\"text-align: right;\">\n",
       "      <th></th>\n",
       "      <th>field</th>\n",
       "      <th>inv_item_type</th>\n",
       "      <th>inv_item_name</th>\n",
       "      <th>inv_item_weight</th>\n",
       "      <th>inv_item_unit</th>\n",
       "      <th>inv_item_dose</th>\n",
       "      <th>inv_item_date</th>\n",
       "      <th>work_id</th>\n",
       "    </tr>\n",
       "  </thead>\n",
       "  <tbody>\n",
       "    <tr>\n",
       "      <th>0</th>\n",
       "      <td>36.01.21.025.01</td>\n",
       "      <td>Удобрения</td>\n",
       "      <td>Удобрение 31</td>\n",
       "      <td>15017.6</td>\n",
       "      <td>кг</td>\n",
       "      <td>260.0</td>\n",
       "      <td>2024-10-28</td>\n",
       "      <td>E3A7DAEB-D124-4685-ADE1-199818C77361</td>\n",
       "    </tr>\n",
       "    <tr>\n",
       "      <th>1</th>\n",
       "      <td>36.14.12.064.00</td>\n",
       "      <td>Удобрения</td>\n",
       "      <td>Удобрение 31</td>\n",
       "      <td>6500.0</td>\n",
       "      <td>м3</td>\n",
       "      <td>65.0</td>\n",
       "      <td>2024-10-28</td>\n",
       "      <td>0AB8C8D7-04BD-4483-98B2-3E062CDD7E3E</td>\n",
       "    </tr>\n",
       "    <tr>\n",
       "      <th>2</th>\n",
       "      <td>36.14.16.008.00</td>\n",
       "      <td>Удобрения</td>\n",
       "      <td>Удобрение 49</td>\n",
       "      <td>7865.0</td>\n",
       "      <td>кг</td>\n",
       "      <td>65000.0</td>\n",
       "      <td>2024-10-28</td>\n",
       "      <td>00E51F81-0A4F-4983-B068-877A089FFD33</td>\n",
       "    </tr>\n",
       "    <tr>\n",
       "      <th>3</th>\n",
       "      <td>36.14.16.008.00</td>\n",
       "      <td>Удобрения</td>\n",
       "      <td>Удобрение 49</td>\n",
       "      <td>10985.0</td>\n",
       "      <td>кг</td>\n",
       "      <td>65000.0</td>\n",
       "      <td>2024-10-28</td>\n",
       "      <td>150F0150-8061-4CE9-9570-B112CBAD7C51</td>\n",
       "    </tr>\n",
       "    <tr>\n",
       "      <th>4</th>\n",
       "      <td>36.14.16.008.00</td>\n",
       "      <td>Удобрения</td>\n",
       "      <td>Удобрение 49</td>\n",
       "      <td>10985.0</td>\n",
       "      <td>кг</td>\n",
       "      <td>65000.0</td>\n",
       "      <td>2024-10-28</td>\n",
       "      <td>D5D1EADB-D159-4CF8-8C2A-171517ACD403</td>\n",
       "    </tr>\n",
       "  </tbody>\n",
       "</table>\n",
       "</div>"
      ],
      "text/plain": [
       "             field inv_item_type inv_item_name  inv_item_weight inv_item_unit  \\\n",
       "0  36.01.21.025.01     Удобрения  Удобрение 31          15017.6            кг   \n",
       "1  36.14.12.064.00     Удобрения  Удобрение 31           6500.0            м3   \n",
       "2  36.14.16.008.00     Удобрения  Удобрение 49           7865.0            кг   \n",
       "3  36.14.16.008.00     Удобрения  Удобрение 49          10985.0            кг   \n",
       "4  36.14.16.008.00     Удобрения  Удобрение 49          10985.0            кг   \n",
       "\n",
       "   inv_item_dose inv_item_date                               work_id  \n",
       "0          260.0    2024-10-28  E3A7DAEB-D124-4685-ADE1-199818C77361  \n",
       "1           65.0    2024-10-28  0AB8C8D7-04BD-4483-98B2-3E062CDD7E3E  \n",
       "2        65000.0    2024-10-28  00E51F81-0A4F-4983-B068-877A089FFD33  \n",
       "3        65000.0    2024-10-28  150F0150-8061-4CE9-9570-B112CBAD7C51  \n",
       "4        65000.0    2024-10-28  D5D1EADB-D159-4CF8-8C2A-171517ACD403  "
      ]
     },
     "execution_count": 92,
     "metadata": {},
     "output_type": "execute_result"
    }
   ],
   "source": [
    "df_fert.loc[df_fert['inv_item_unit'] == 'т', 'inv_item_dose'] *= 1000\n",
    "df_fert.loc[df_fert['inv_item_unit'] == 'т', 'inv_item_unit'] = 'кг'\n",
    "df_fert.head()"
   ]
  },
  {
   "cell_type": "code",
   "execution_count": 93,
   "metadata": {},
   "outputs": [
    {
     "data": {
      "text/html": [
       "<div>\n",
       "<style scoped>\n",
       "    .dataframe tbody tr th:only-of-type {\n",
       "        vertical-align: middle;\n",
       "    }\n",
       "\n",
       "    .dataframe tbody tr th {\n",
       "        vertical-align: top;\n",
       "    }\n",
       "\n",
       "    .dataframe thead th {\n",
       "        text-align: right;\n",
       "    }\n",
       "</style>\n",
       "<table border=\"1\" class=\"dataframe\">\n",
       "  <thead>\n",
       "    <tr style=\"text-align: right;\">\n",
       "      <th></th>\n",
       "      <th>field</th>\n",
       "      <th>inv_item_type</th>\n",
       "      <th>inv_item_name</th>\n",
       "      <th>inv_item_weight</th>\n",
       "      <th>inv_item_unit</th>\n",
       "      <th>inv_item_dose</th>\n",
       "      <th>inv_item_date</th>\n",
       "      <th>work_id</th>\n",
       "    </tr>\n",
       "  </thead>\n",
       "  <tbody>\n",
       "    <tr>\n",
       "      <th>0</th>\n",
       "      <td>36.01.21.025.01</td>\n",
       "      <td>Удобрения</td>\n",
       "      <td>Удобрение 31</td>\n",
       "      <td>15017.6</td>\n",
       "      <td>кг</td>\n",
       "      <td>260.0</td>\n",
       "      <td>2024-10-28</td>\n",
       "      <td>E3A7DAEB-D124-4685-ADE1-199818C77361</td>\n",
       "    </tr>\n",
       "    <tr>\n",
       "      <th>1</th>\n",
       "      <td>36.14.12.064.00</td>\n",
       "      <td>Удобрения</td>\n",
       "      <td>Удобрение 31</td>\n",
       "      <td>6500.0</td>\n",
       "      <td>л</td>\n",
       "      <td>65000.0</td>\n",
       "      <td>2024-10-28</td>\n",
       "      <td>0AB8C8D7-04BD-4483-98B2-3E062CDD7E3E</td>\n",
       "    </tr>\n",
       "    <tr>\n",
       "      <th>2</th>\n",
       "      <td>36.14.16.008.00</td>\n",
       "      <td>Удобрения</td>\n",
       "      <td>Удобрение 49</td>\n",
       "      <td>7865.0</td>\n",
       "      <td>кг</td>\n",
       "      <td>65000.0</td>\n",
       "      <td>2024-10-28</td>\n",
       "      <td>00E51F81-0A4F-4983-B068-877A089FFD33</td>\n",
       "    </tr>\n",
       "    <tr>\n",
       "      <th>3</th>\n",
       "      <td>36.14.16.008.00</td>\n",
       "      <td>Удобрения</td>\n",
       "      <td>Удобрение 49</td>\n",
       "      <td>10985.0</td>\n",
       "      <td>кг</td>\n",
       "      <td>65000.0</td>\n",
       "      <td>2024-10-28</td>\n",
       "      <td>150F0150-8061-4CE9-9570-B112CBAD7C51</td>\n",
       "    </tr>\n",
       "    <tr>\n",
       "      <th>4</th>\n",
       "      <td>36.14.16.008.00</td>\n",
       "      <td>Удобрения</td>\n",
       "      <td>Удобрение 49</td>\n",
       "      <td>10985.0</td>\n",
       "      <td>кг</td>\n",
       "      <td>65000.0</td>\n",
       "      <td>2024-10-28</td>\n",
       "      <td>D5D1EADB-D159-4CF8-8C2A-171517ACD403</td>\n",
       "    </tr>\n",
       "  </tbody>\n",
       "</table>\n",
       "</div>"
      ],
      "text/plain": [
       "             field inv_item_type inv_item_name  inv_item_weight inv_item_unit  \\\n",
       "0  36.01.21.025.01     Удобрения  Удобрение 31          15017.6            кг   \n",
       "1  36.14.12.064.00     Удобрения  Удобрение 31           6500.0             л   \n",
       "2  36.14.16.008.00     Удобрения  Удобрение 49           7865.0            кг   \n",
       "3  36.14.16.008.00     Удобрения  Удобрение 49          10985.0            кг   \n",
       "4  36.14.16.008.00     Удобрения  Удобрение 49          10985.0            кг   \n",
       "\n",
       "   inv_item_dose inv_item_date                               work_id  \n",
       "0          260.0    2024-10-28  E3A7DAEB-D124-4685-ADE1-199818C77361  \n",
       "1        65000.0    2024-10-28  0AB8C8D7-04BD-4483-98B2-3E062CDD7E3E  \n",
       "2        65000.0    2024-10-28  00E51F81-0A4F-4983-B068-877A089FFD33  \n",
       "3        65000.0    2024-10-28  150F0150-8061-4CE9-9570-B112CBAD7C51  \n",
       "4        65000.0    2024-10-28  D5D1EADB-D159-4CF8-8C2A-171517ACD403  "
      ]
     },
     "execution_count": 93,
     "metadata": {},
     "output_type": "execute_result"
    }
   ],
   "source": [
    "df_fert.loc[df_fert['inv_item_unit'] == 'м3', 'inv_item_dose'] *= 1000\n",
    "df_fert.loc[df_fert['inv_item_unit'] == 'м3', 'inv_item_unit'] = 'л'\n",
    "df_fert.head()"
   ]
  },
  {
   "cell_type": "code",
   "execution_count": 98,
   "metadata": {},
   "outputs": [
    {
     "data": {
      "text/plain": [
       "inv_item_unit\n",
       "кг    38909\n",
       "л      4096\n",
       "шт        1\n",
       "Name: count, dtype: int64"
      ]
     },
     "execution_count": 98,
     "metadata": {},
     "output_type": "execute_result"
    }
   ],
   "source": [
    "df_fert['inv_item_unit'].value_counts()"
   ]
  },
  {
   "cell_type": "code",
   "execution_count": 102,
   "metadata": {},
   "outputs": [
    {
     "data": {
      "text/plain": [
       "inv_item_unit\n",
       "кг    38909\n",
       "л      4096\n",
       "Name: count, dtype: int64"
      ]
     },
     "execution_count": 102,
     "metadata": {},
     "output_type": "execute_result"
    }
   ],
   "source": [
    "r_to_drop = df_fert[df_fert['inv_item_unit'] == 'шт'].index\n",
    "\n",
    "df_fert = df_fert.drop(r_to_drop)\n",
    "\n",
    "df_fert['inv_item_unit'].value_counts()"
   ]
  },
  {
   "cell_type": "markdown",
   "metadata": {},
   "source": [
    "## Добавление сезона"
   ]
  },
  {
   "cell_type": "code",
   "execution_count": 123,
   "metadata": {},
   "outputs": [
    {
     "data": {
      "text/html": [
       "<div>\n",
       "<style scoped>\n",
       "    .dataframe tbody tr th:only-of-type {\n",
       "        vertical-align: middle;\n",
       "    }\n",
       "\n",
       "    .dataframe tbody tr th {\n",
       "        vertical-align: top;\n",
       "    }\n",
       "\n",
       "    .dataframe thead th {\n",
       "        text-align: right;\n",
       "    }\n",
       "</style>\n",
       "<table border=\"1\" class=\"dataframe\">\n",
       "  <thead>\n",
       "    <tr style=\"text-align: right;\">\n",
       "      <th></th>\n",
       "      <th>field</th>\n",
       "      <th>season</th>\n",
       "      <th>work_id</th>\n",
       "    </tr>\n",
       "  </thead>\n",
       "  <tbody>\n",
       "    <tr>\n",
       "      <th>28762</th>\n",
       "      <td>56.28.06.005.02</td>\n",
       "      <td>2023</td>\n",
       "      <td>0000709B-EDB8-4A6F-A2C2-448AD1A70316</td>\n",
       "    </tr>\n",
       "    <tr>\n",
       "      <th>31143</th>\n",
       "      <td>40.23.02.014.01</td>\n",
       "      <td>2023</td>\n",
       "      <td>0000ACB9-08B0-483E-BAFD-C45570C2DA70</td>\n",
       "    </tr>\n",
       "    <tr>\n",
       "      <th>107954</th>\n",
       "      <td>36.14.19.030.00</td>\n",
       "      <td>2024</td>\n",
       "      <td>0000BD48-61E4-4F77-8C53-0CC5535655ED</td>\n",
       "    </tr>\n",
       "    <tr>\n",
       "      <th>144756</th>\n",
       "      <td>56.28.06.014.00</td>\n",
       "      <td>2024</td>\n",
       "      <td>0000D2BE-1620-4C00-88ED-10CA7C60BCCF</td>\n",
       "    </tr>\n",
       "    <tr>\n",
       "      <th>19142</th>\n",
       "      <td>36.14.06.025.00</td>\n",
       "      <td>2023</td>\n",
       "      <td>0000F83C-937B-49B7-AF69-0A573B099D1B</td>\n",
       "    </tr>\n",
       "  </tbody>\n",
       "</table>\n",
       "</div>"
      ],
      "text/plain": [
       "                  field  season                               work_id\n",
       "28762   56.28.06.005.02    2023  0000709B-EDB8-4A6F-A2C2-448AD1A70316\n",
       "31143   40.23.02.014.01    2023  0000ACB9-08B0-483E-BAFD-C45570C2DA70\n",
       "107954  36.14.19.030.00    2024  0000BD48-61E4-4F77-8C53-0CC5535655ED\n",
       "144756  56.28.06.014.00    2024  0000D2BE-1620-4C00-88ED-10CA7C60BCCF\n",
       "19142   36.14.06.025.00    2023  0000F83C-937B-49B7-AF69-0A573B099D1B"
      ]
     },
     "execution_count": 123,
     "metadata": {},
     "output_type": "execute_result"
    }
   ],
   "source": [
    "df_works_tmp = df_works[['field', 'season', 'work_id']].sort_values(by='work_id')\n",
    "df_works_tmp.head(5)"
   ]
  },
  {
   "cell_type": "code",
   "execution_count": 121,
   "metadata": {},
   "outputs": [
    {
     "data": {
      "text/html": [
       "<div>\n",
       "<style scoped>\n",
       "    .dataframe tbody tr th:only-of-type {\n",
       "        vertical-align: middle;\n",
       "    }\n",
       "\n",
       "    .dataframe tbody tr th {\n",
       "        vertical-align: top;\n",
       "    }\n",
       "\n",
       "    .dataframe thead th {\n",
       "        text-align: right;\n",
       "    }\n",
       "</style>\n",
       "<table border=\"1\" class=\"dataframe\">\n",
       "  <thead>\n",
       "    <tr style=\"text-align: right;\">\n",
       "      <th></th>\n",
       "      <th>field</th>\n",
       "      <th>inv_item_name</th>\n",
       "      <th>inv_item_weight</th>\n",
       "      <th>inv_item_unit</th>\n",
       "      <th>work_id</th>\n",
       "    </tr>\n",
       "  </thead>\n",
       "  <tbody>\n",
       "    <tr>\n",
       "      <th>113923</th>\n",
       "      <td>36.14.06.025.00</td>\n",
       "      <td>Удобрение 10</td>\n",
       "      <td>44252.33</td>\n",
       "      <td>кг</td>\n",
       "      <td>0000F83C-937B-49B7-AF69-0A573B099D1B</td>\n",
       "    </tr>\n",
       "    <tr>\n",
       "      <th>143945</th>\n",
       "      <td>47.22.06.036.02</td>\n",
       "      <td>Удобрение 31</td>\n",
       "      <td>10296.00</td>\n",
       "      <td>л</td>\n",
       "      <td>00022E46-3B96-4FD2-A9F2-10FC62AF4D5E</td>\n",
       "    </tr>\n",
       "    <tr>\n",
       "      <th>127023</th>\n",
       "      <td>54.17.12.038.00</td>\n",
       "      <td>Удобрение 49</td>\n",
       "      <td>2293.20</td>\n",
       "      <td>кг</td>\n",
       "      <td>0002E9E7-7E9F-49D3-B189-B4EBD7011E4E</td>\n",
       "    </tr>\n",
       "    <tr>\n",
       "      <th>3667</th>\n",
       "      <td>56.28.06.035.02</td>\n",
       "      <td>Удобрение 57</td>\n",
       "      <td>210085.20</td>\n",
       "      <td>кг</td>\n",
       "      <td>00038C65-2CB9-42C3-B51A-95A2A9081B60</td>\n",
       "    </tr>\n",
       "    <tr>\n",
       "      <th>44122</th>\n",
       "      <td>16.13.12.055.00</td>\n",
       "      <td>Удобрение 57</td>\n",
       "      <td>914.06</td>\n",
       "      <td>кг</td>\n",
       "      <td>0003C1B2-B2A1-47E8-A43A-3B738A33CB9B</td>\n",
       "    </tr>\n",
       "  </tbody>\n",
       "</table>\n",
       "</div>"
      ],
      "text/plain": [
       "                  field inv_item_name  inv_item_weight inv_item_unit  \\\n",
       "113923  36.14.06.025.00  Удобрение 10         44252.33            кг   \n",
       "143945  47.22.06.036.02  Удобрение 31         10296.00             л   \n",
       "127023  54.17.12.038.00  Удобрение 49          2293.20            кг   \n",
       "3667    56.28.06.035.02  Удобрение 57        210085.20            кг   \n",
       "44122   16.13.12.055.00  Удобрение 57           914.06            кг   \n",
       "\n",
       "                                     work_id  \n",
       "113923  0000F83C-937B-49B7-AF69-0A573B099D1B  \n",
       "143945  00022E46-3B96-4FD2-A9F2-10FC62AF4D5E  \n",
       "127023  0002E9E7-7E9F-49D3-B189-B4EBD7011E4E  \n",
       "3667    00038C65-2CB9-42C3-B51A-95A2A9081B60  \n",
       "44122   0003C1B2-B2A1-47E8-A43A-3B738A33CB9B  "
      ]
     },
     "execution_count": 121,
     "metadata": {},
     "output_type": "execute_result"
    }
   ],
   "source": [
    "df_fert = df_fert[['field', 'inv_item_name', 'inv_item_weight', 'inv_item_unit', 'work_id']].sort_values(by='work_id')\n",
    "\n",
    "df_fert.head(5)"
   ]
  },
  {
   "cell_type": "code",
   "execution_count": 124,
   "metadata": {},
   "outputs": [
    {
     "data": {
      "text/plain": [
       "field                  0\n",
       "inv_item_name          0\n",
       "inv_item_weight        0\n",
       "inv_item_unit          0\n",
       "work_id                0\n",
       "season             14722\n",
       "dtype: int64"
      ]
     },
     "execution_count": 124,
     "metadata": {},
     "output_type": "execute_result"
    }
   ],
   "source": [
    "df_fert.merge(df_works_tmp, how='left', on=['field', 'work_id']).isnull().sum()"
   ]
  },
  {
   "cell_type": "code",
   "execution_count": null,
   "metadata": {},
   "outputs": [],
   "source": []
  }
 ],
 "metadata": {
  "kernelspec": {
   "display_name": ".venv",
   "language": "python",
   "name": "python3"
  },
  "language_info": {
   "codemirror_mode": {
    "name": "ipython",
    "version": 3
   },
   "file_extension": ".py",
   "mimetype": "text/x-python",
   "name": "python",
   "nbconvert_exporter": "python",
   "pygments_lexer": "ipython3",
   "version": "3.10.12"
  }
 },
 "nbformat": 4,
 "nbformat_minor": 2
}
