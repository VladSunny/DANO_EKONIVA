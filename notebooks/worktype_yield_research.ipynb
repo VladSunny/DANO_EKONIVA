{
 "cells": [
  {
   "cell_type": "code",
   "execution_count": 10,
   "metadata": {},
   "outputs": [],
   "source": [
    "import pandas as pd"
   ]
  },
  {
   "cell_type": "code",
   "execution_count": 11,
   "metadata": {},
   "outputs": [],
   "source": [
    "df_fields = pd.read_csv('../data/new_fields.csv', delimiter=';', decimal=',', skiprows=[0, 2])\n",
    "df_value = pd.read_csv('../data/new_value.csv', delimiter=';', decimal=',', skiprows=[0, 1], parse_dates=['inv_item_date'], date_format={'inv_item_date': '%d.%m.%Y'})\n",
    "df_works = pd.read_csv('../data/new_works.csv', delimiter=';', decimal=',', skiprows=[0, 1], parse_dates=['start_date', 'end_date'], date_format={'start_date': '%d.%m.%Y', 'end_date': '%d.%m.%Y'})\n",
    "\n",
    "df_works['area'] = df_works['area'].str.replace(',', '.').astype(float)"
   ]
  },
  {
   "cell_type": "code",
   "execution_count": 12,
   "metadata": {},
   "outputs": [
    {
     "data": {
      "text/html": [
       "<div>\n",
       "<style scoped>\n",
       "    .dataframe tbody tr th:only-of-type {\n",
       "        vertical-align: middle;\n",
       "    }\n",
       "\n",
       "    .dataframe tbody tr th {\n",
       "        vertical-align: top;\n",
       "    }\n",
       "\n",
       "    .dataframe thead th {\n",
       "        text-align: right;\n",
       "    }\n",
       "</style>\n",
       "<table border=\"1\" class=\"dataframe\">\n",
       "  <thead>\n",
       "    <tr style=\"text-align: right;\">\n",
       "      <th></th>\n",
       "      <th>work_type</th>\n",
       "      <th>work_subtype</th>\n",
       "      <th>yield_fact</th>\n",
       "    </tr>\n",
       "  </thead>\n",
       "  <tbody>\n",
       "    <tr>\n",
       "      <th>0</th>\n",
       "      <td>Обработка почвы</td>\n",
       "      <td>Боронование</td>\n",
       "      <td>0.0</td>\n",
       "    </tr>\n",
       "    <tr>\n",
       "      <th>1</th>\n",
       "      <td>Обработка почвы</td>\n",
       "      <td>Боронование</td>\n",
       "      <td>0.0</td>\n",
       "    </tr>\n",
       "    <tr>\n",
       "      <th>2</th>\n",
       "      <td>Обработка почвы</td>\n",
       "      <td>Боронование</td>\n",
       "      <td>0.0</td>\n",
       "    </tr>\n",
       "    <tr>\n",
       "      <th>3</th>\n",
       "      <td>Обработка почвы</td>\n",
       "      <td>Боронование</td>\n",
       "      <td>0.0</td>\n",
       "    </tr>\n",
       "    <tr>\n",
       "      <th>4</th>\n",
       "      <td>Обработка почвы</td>\n",
       "      <td>Боронование</td>\n",
       "      <td>0.0</td>\n",
       "    </tr>\n",
       "  </tbody>\n",
       "</table>\n",
       "</div>"
      ],
      "text/plain": [
       "         work_type work_subtype  yield_fact\n",
       "0  Обработка почвы  Боронование         0.0\n",
       "1  Обработка почвы  Боронование         0.0\n",
       "2  Обработка почвы  Боронование         0.0\n",
       "3  Обработка почвы  Боронование         0.0\n",
       "4  Обработка почвы  Боронование         0.0"
      ]
     },
     "execution_count": 12,
     "metadata": {},
     "output_type": "execute_result"
    }
   ],
   "source": [
    "df_works_tmp = df_works[['work_type', 'work_subtype', 'yield_fact']]\n",
    "\n",
    "df_works_tmp.head()"
   ]
  },
  {
   "cell_type": "code",
   "execution_count": 13,
   "metadata": {},
   "outputs": [
    {
     "data": {
      "text/plain": [
       "['Обработка почвы', 'Внесение СЗР', 'Внесение удобрений', 'Сев']"
      ]
     },
     "execution_count": 13,
     "metadata": {},
     "output_type": "execute_result"
    }
   ],
   "source": [
    "work_types = list(df_works_tmp['work_type'].unique())\n",
    "\n",
    "work_types.remove('Уборка')\n",
    "work_types"
   ]
  },
  {
   "cell_type": "code",
   "execution_count": 14,
   "metadata": {},
   "outputs": [],
   "source": [
    "import matplotlib.pyplot as plt"
   ]
  },
  {
   "cell_type": "code",
   "execution_count": 15,
   "metadata": {},
   "outputs": [
    {
     "data": {
      "image/png": "[encoded data removed]",
      "text/plain": [
       "<Figure size 1000x700 with 1 Axes>"
      ]
     },
     "metadata": {},
     "output_type": "display_data"
    }
   ],
   "source": [
    "data = [df_works_tmp[df_works_tmp['work_type'] == i]['yield_fact'] for i in work_types]\n",
    "\n",
    "fig = plt.figure(figsize =(10, 7))\n",
    "ax = fig.add_subplot(111)\n",
    "\n",
    "# Creating axes instance\n",
    "bp = ax.boxplot(data, patch_artist = True,\n",
    "                notch ='True', vert = 0)\n",
    "    \n",
    "# x-axis labels\n",
    "ax.set_yticklabels(work_types)\n",
    "\n",
    "# Removing top axes and right axes\n",
    "# ticks\n",
    "ax.get_xaxis().tick_bottom()\n",
    "ax.get_yaxis().tick_left()\n",
    "    \n",
    "# show plot\n",
    "plt.show()"
   ]
  },
  {
   "cell_type": "code",
   "execution_count": 16,
   "metadata": {},
   "outputs": [
    {
     "data": {
      "text/html": [
       "<div>\n",
       "<style scoped>\n",
       "    .dataframe tbody tr th:only-of-type {\n",
       "        vertical-align: middle;\n",
       "    }\n",
       "\n",
       "    .dataframe tbody tr th {\n",
       "        vertical-align: top;\n",
       "    }\n",
       "\n",
       "    .dataframe thead th {\n",
       "        text-align: right;\n",
       "    }\n",
       "</style>\n",
       "<table border=\"1\" class=\"dataframe\">\n",
       "  <thead>\n",
       "    <tr style=\"text-align: right;\">\n",
       "      <th></th>\n",
       "      <th>work_subtype</th>\n",
       "      <th>yield_fact</th>\n",
       "    </tr>\n",
       "  </thead>\n",
       "  <tbody>\n",
       "    <tr>\n",
       "      <th>5322</th>\n",
       "      <td>Уборка трав</td>\n",
       "      <td>0.29</td>\n",
       "    </tr>\n",
       "    <tr>\n",
       "      <th>5323</th>\n",
       "      <td>Уборка трав</td>\n",
       "      <td>0.29</td>\n",
       "    </tr>\n",
       "    <tr>\n",
       "      <th>5324</th>\n",
       "      <td>Уборка трав</td>\n",
       "      <td>0.20</td>\n",
       "    </tr>\n",
       "    <tr>\n",
       "      <th>22435</th>\n",
       "      <td>Прессование</td>\n",
       "      <td>0.00</td>\n",
       "    </tr>\n",
       "    <tr>\n",
       "      <th>23032</th>\n",
       "      <td>Прессование</td>\n",
       "      <td>0.00</td>\n",
       "    </tr>\n",
       "  </tbody>\n",
       "</table>\n",
       "</div>"
      ],
      "text/plain": [
       "      work_subtype  yield_fact\n",
       "5322   Уборка трав        0.29\n",
       "5323   Уборка трав        0.29\n",
       "5324   Уборка трав        0.20\n",
       "22435  Прессование        0.00\n",
       "23032  Прессование        0.00"
      ]
     },
     "execution_count": 16,
     "metadata": {},
     "output_type": "execute_result"
    }
   ],
   "source": [
    "df_works_tmp = df_works[df_works['work_type'] == 'Уборка'][['work_subtype', 'yield_fact']]\n",
    "\n",
    "df_works_tmp.head()"
   ]
  },
  {
   "cell_type": "code",
   "execution_count": 17,
   "metadata": {},
   "outputs": [
    {
     "data": {
      "text/plain": [
       "['Уборка трав',\n",
       " 'Прессование',\n",
       " 'Сгребание в валки',\n",
       " 'Вывоз',\n",
       " 'Кошение',\n",
       " 'Подбор (корм)',\n",
       " 'Ворошение',\n",
       " 'Уборка силос/карнаж',\n",
       " 'Подбор',\n",
       " 'Заготовка сенажа',\n",
       " 'Подбор и обмолот',\n",
       " 'Прямое комбайнирование',\n",
       " 'Вывоз (тех.культуры)',\n",
       " 'Копка']"
      ]
     },
     "execution_count": 17,
     "metadata": {},
     "output_type": "execute_result"
    }
   ],
   "source": [
    "work_subtypes = list(df_works_tmp['work_subtype'].unique())\n",
    "\n",
    "work_subtypes"
   ]
  },
  {
   "cell_type": "code",
   "execution_count": 18,
   "metadata": {},
   "outputs": [
    {
     "data": {
      "image/png": "[encoded data removed]",
      "text/plain": [
       "<Figure size 1000x700 with 1 Axes>"
      ]
     },
     "metadata": {},
     "output_type": "display_data"
    }
   ],
   "source": [
    "data = [df_works_tmp[df_works_tmp['work_subtype'] == i]['yield_fact'] for i in work_subtypes]\n",
    "\n",
    "fig = plt.figure(figsize =(10, 7))\n",
    "ax = fig.add_subplot(111)\n",
    "\n",
    "# Creating axes instance\n",
    "bp = ax.boxplot(data, patch_artist = True,\n",
    "                notch ='True', vert = 0)\n",
    "    \n",
    "# x-axis labels\n",
    "ax.set_yticklabels(work_subtypes)\n",
    "\n",
    "# Removing top axes and right axes\n",
    "# ticks\n",
    "ax.get_xaxis().tick_bottom()\n",
    "ax.get_yaxis().tick_left()\n",
    "    \n",
    "# show plot\n",
    "plt.show()"
   ]
  },
  {
   "cell_type": "code",
   "execution_count": 20,
   "metadata": {},
   "outputs": [],
   "source": [
    "valid_work_subtypes = ['Прямое комбайнирование', 'Подбор и обмолот', 'Заготовка сенажа', 'Уборка силос/карнаж', 'Подбор (корм)', 'Вывоз', 'Прессование']"
   ]
  },
  {
   "cell_type": "code",
   "execution_count": 25,
   "metadata": {},
   "outputs": [
    {
     "data": {
      "text/html": [
       "<div>\n",
       "<style scoped>\n",
       "    .dataframe tbody tr th:only-of-type {\n",
       "        vertical-align: middle;\n",
       "    }\n",
       "\n",
       "    .dataframe tbody tr th {\n",
       "        vertical-align: top;\n",
       "    }\n",
       "\n",
       "    .dataframe thead th {\n",
       "        text-align: right;\n",
       "    }\n",
       "</style>\n",
       "<table border=\"1\" class=\"dataframe\">\n",
       "  <thead>\n",
       "    <tr style=\"text-align: right;\">\n",
       "      <th></th>\n",
       "      <th>season</th>\n",
       "      <th>field</th>\n",
       "      <th>yield_fact</th>\n",
       "      <th>area</th>\n",
       "      <th>work_subtype</th>\n",
       "    </tr>\n",
       "  </thead>\n",
       "  <tbody>\n",
       "    <tr>\n",
       "      <th>22435</th>\n",
       "      <td>2023</td>\n",
       "      <td>56.28.07.003.00</td>\n",
       "      <td>0.0</td>\n",
       "      <td>40.0</td>\n",
       "      <td>Прессование</td>\n",
       "    </tr>\n",
       "    <tr>\n",
       "      <th>23032</th>\n",
       "      <td>2023</td>\n",
       "      <td>56.28.07.003.00</td>\n",
       "      <td>0.0</td>\n",
       "      <td>41.0</td>\n",
       "      <td>Прессование</td>\n",
       "    </tr>\n",
       "    <tr>\n",
       "      <th>23517</th>\n",
       "      <td>2023</td>\n",
       "      <td>56.28.07.003.00</td>\n",
       "      <td>0.0</td>\n",
       "      <td>40.0</td>\n",
       "      <td>Прессование</td>\n",
       "    </tr>\n",
       "    <tr>\n",
       "      <th>24014</th>\n",
       "      <td>2023</td>\n",
       "      <td>56.28.07.003.00</td>\n",
       "      <td>0.0</td>\n",
       "      <td>6.0</td>\n",
       "      <td>Прессование</td>\n",
       "    </tr>\n",
       "    <tr>\n",
       "      <th>24545</th>\n",
       "      <td>2023</td>\n",
       "      <td>56.28.07.003.00</td>\n",
       "      <td>0.0</td>\n",
       "      <td>3.0</td>\n",
       "      <td>Прессование</td>\n",
       "    </tr>\n",
       "  </tbody>\n",
       "</table>\n",
       "</div>"
      ],
      "text/plain": [
       "       season            field  yield_fact  area work_subtype\n",
       "22435    2023  56.28.07.003.00         0.0  40.0  Прессование\n",
       "23032    2023  56.28.07.003.00         0.0  41.0  Прессование\n",
       "23517    2023  56.28.07.003.00         0.0  40.0  Прессование\n",
       "24014    2023  56.28.07.003.00         0.0   6.0  Прессование\n",
       "24545    2023  56.28.07.003.00         0.0   3.0  Прессование"
      ]
     },
     "execution_count": 25,
     "metadata": {},
     "output_type": "execute_result"
    }
   ],
   "source": [
    "df_yield_fact = df_works.query(f\"work_type == 'Уборка' and work_subtype in {valid_work_subtypes}\")[['season', 'field', 'yield_fact', 'area', 'work_subtype']]\n",
    "# df_yield_fact = df_yield_fact.groupby(by=['field', 'season']).sum().reset_index()\n",
    "\n",
    "df_yield_fact.head()"
   ]
  },
  {
   "cell_type": "code",
   "execution_count": 23,
   "metadata": {},
   "outputs": [
    {
     "data": {
      "text/plain": [
       "work_subtype\n",
       "Прямое комбайнирование    23371\n",
       "Кошение                    8185\n",
       "Вывоз                      7520\n",
       "Уборка силос/карнаж        5577\n",
       "Подбор (корм)              5395\n",
       "Сгребание в валки          3879\n",
       "Прессование                2483\n",
       "Подбор и обмолот            791\n",
       "Подбор                      618\n",
       "Копка                       495\n",
       "Ворошение                   376\n",
       "Вывоз (тех.культуры)        306\n",
       "Заготовка сенажа             98\n",
       "Уборка трав                   3\n",
       "Name: count, dtype: int64"
      ]
     },
     "execution_count": 23,
     "metadata": {},
     "output_type": "execute_result"
    }
   ],
   "source": [
    "df_yield_fact['work_subtype'].value_counts()"
   ]
  },
  {
   "cell_type": "code",
   "execution_count": null,
   "metadata": {},
   "outputs": [],
   "source": []
  }
 ],
 "metadata": {
  "kernelspec": {
   "display_name": "DataAnalysisEnv",
   "language": "python",
   "name": "python3"
  },
  "language_info": {
   "codemirror_mode": {
    "name": "ipython",
    "version": 3
   },
   "file_extension": ".py",
   "mimetype": "text/x-python",
   "name": "python",
   "nbconvert_exporter": "python",
   "pygments_lexer": "ipython3",
   "version": "3.13.0"
  }
 },
 "nbformat": 4,
 "nbformat_minor": 2
}
