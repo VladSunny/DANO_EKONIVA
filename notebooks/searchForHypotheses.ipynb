{
 "cells": [
  {
   "cell_type": "code",
   "execution_count": 95,
   "metadata": {},
   "outputs": [],
   "source": [
    "import pandas as pd"
   ]
  },
  {
   "cell_type": "code",
   "execution_count": 96,
   "metadata": {},
   "outputs": [],
   "source": [
    "df_fields = pd.read_csv('../data/new_fields.csv', delimiter=';', decimal=',', skiprows=[0, 2])\n",
    "df_value = pd.read_csv('../data/new_value.csv', delimiter=';', decimal=',', skiprows=[0, 1], parse_dates=['inv_item_date'], date_format={'inv_item_date': '%d.%m.%Y'})\n",
    "df_works = pd.read_csv('../data/new_works.csv', delimiter=';', decimal=',', skiprows=[0, 1], parse_dates=['start_date', 'end_date'], date_format={'start_date': '%d.%m.%Y', 'end_date': '%d.%m.%Y'})\n",
    "\n",
    "df_works['area'] = df_works['area'].str.replace(',', '.').astype(float)"
   ]
  },
  {
   "cell_type": "code",
   "execution_count": 97,
   "metadata": {},
   "outputs": [
    {
     "data": {
      "text/html": [
       "<div>\n",
       "<style scoped>\n",
       "    .dataframe tbody tr th:only-of-type {\n",
       "        vertical-align: middle;\n",
       "    }\n",
       "\n",
       "    .dataframe tbody tr th {\n",
       "        vertical-align: top;\n",
       "    }\n",
       "\n",
       "    .dataframe thead th {\n",
       "        text-align: right;\n",
       "    }\n",
       "</style>\n",
       "<table border=\"1\" class=\"dataframe\">\n",
       "  <thead>\n",
       "    <tr style=\"text-align: right;\">\n",
       "      <th></th>\n",
       "      <th>field</th>\n",
       "      <th>region</th>\n",
       "      <th>land_type</th>\n",
       "      <th>fertility_score</th>\n",
       "      <th>season</th>\n",
       "      <th>crop</th>\n",
       "      <th>crop_predecessor</th>\n",
       "      <th>crop_yearold</th>\n",
       "      <th>area</th>\n",
       "      <th>hybrid</th>\n",
       "      <th>reproduction</th>\n",
       "      <th>seed_origin</th>\n",
       "      <th>technology</th>\n",
       "      <th>yield_plan</th>\n",
       "      <th>p2o5</th>\n",
       "      <th>k2o</th>\n",
       "      <th>humus</th>\n",
       "      <th>ph</th>\n",
       "      <th>Unnamed: 18</th>\n",
       "    </tr>\n",
       "  </thead>\n",
       "  <tbody>\n",
       "    <tr>\n",
       "      <th>0</th>\n",
       "      <td>22.47.01.001.01</td>\n",
       "      <td>Алтай</td>\n",
       "      <td>пашня</td>\n",
       "      <td>NaN</td>\n",
       "      <td>2023</td>\n",
       "      <td>Оз.пшеница мягкая</td>\n",
       "      <td>Пар; Яр.пшеница мягкая</td>\n",
       "      <td>NaN</td>\n",
       "      <td>306.22</td>\n",
       "      <td>Скипетр</td>\n",
       "      <td>ЭС</td>\n",
       "      <td>Покупные</td>\n",
       "      <td>минимальная</td>\n",
       "      <td>3.8</td>\n",
       "      <td>243.16</td>\n",
       "      <td>226.93</td>\n",
       "      <td>4.46</td>\n",
       "      <td>5.78</td>\n",
       "      <td>NaN</td>\n",
       "    </tr>\n",
       "    <tr>\n",
       "      <th>1</th>\n",
       "      <td>22.47.01.001.02</td>\n",
       "      <td>Алтай</td>\n",
       "      <td>пашня</td>\n",
       "      <td>NaN</td>\n",
       "      <td>2023</td>\n",
       "      <td>Пар</td>\n",
       "      <td>Пар; Яр.пшеница мягкая</td>\n",
       "      <td>NaN</td>\n",
       "      <td>63.16</td>\n",
       "      <td>NaN</td>\n",
       "      <td>NaN</td>\n",
       "      <td>NaN</td>\n",
       "      <td>минимальная</td>\n",
       "      <td>NaN</td>\n",
       "      <td>243.16</td>\n",
       "      <td>226.93</td>\n",
       "      <td>4.46</td>\n",
       "      <td>5.78</td>\n",
       "      <td>NaN</td>\n",
       "    </tr>\n",
       "    <tr>\n",
       "      <th>2</th>\n",
       "      <td>22.47.01.002.00</td>\n",
       "      <td>Алтай</td>\n",
       "      <td>пашня</td>\n",
       "      <td>4.0</td>\n",
       "      <td>2023</td>\n",
       "      <td>Пар</td>\n",
       "      <td>Яр.пшеница мягкая</td>\n",
       "      <td>NaN</td>\n",
       "      <td>485.79</td>\n",
       "      <td>NaN</td>\n",
       "      <td>NaN</td>\n",
       "      <td>NaN</td>\n",
       "      <td>NaN</td>\n",
       "      <td>NaN</td>\n",
       "      <td>219.78</td>\n",
       "      <td>204.60</td>\n",
       "      <td>3.85</td>\n",
       "      <td>5.72</td>\n",
       "      <td>NaN</td>\n",
       "    </tr>\n",
       "    <tr>\n",
       "      <th>3</th>\n",
       "      <td>22.47.01.003.00</td>\n",
       "      <td>Алтай</td>\n",
       "      <td>пашня</td>\n",
       "      <td>4.0</td>\n",
       "      <td>2023</td>\n",
       "      <td>Оз.пшеница мягкая</td>\n",
       "      <td>Пар</td>\n",
       "      <td>NaN</td>\n",
       "      <td>452.25</td>\n",
       "      <td>Скипетр</td>\n",
       "      <td>ЭС</td>\n",
       "      <td>Покупные</td>\n",
       "      <td>минимальная</td>\n",
       "      <td>3.8</td>\n",
       "      <td>205.15</td>\n",
       "      <td>192.28</td>\n",
       "      <td>6.49</td>\n",
       "      <td>5.94</td>\n",
       "      <td>NaN</td>\n",
       "    </tr>\n",
       "    <tr>\n",
       "      <th>4</th>\n",
       "      <td>22.47.01.004.00</td>\n",
       "      <td>Алтай</td>\n",
       "      <td>пашня</td>\n",
       "      <td>3.0</td>\n",
       "      <td>2023</td>\n",
       "      <td>Оз.пшеница мягкая</td>\n",
       "      <td>Пар</td>\n",
       "      <td>NaN</td>\n",
       "      <td>269.64</td>\n",
       "      <td>Скипетр</td>\n",
       "      <td>ЭС</td>\n",
       "      <td>Покупные</td>\n",
       "      <td>минимальная</td>\n",
       "      <td>3.8</td>\n",
       "      <td>183.26</td>\n",
       "      <td>162.69</td>\n",
       "      <td>6.16</td>\n",
       "      <td>5.94</td>\n",
       "      <td>NaN</td>\n",
       "    </tr>\n",
       "  </tbody>\n",
       "</table>\n",
       "</div>"
      ],
      "text/plain": [
       "             field region land_type  fertility_score  season  \\\n",
       "0  22.47.01.001.01  Алтай     пашня              NaN    2023   \n",
       "1  22.47.01.001.02  Алтай     пашня              NaN    2023   \n",
       "2  22.47.01.002.00  Алтай     пашня              4.0    2023   \n",
       "3  22.47.01.003.00  Алтай     пашня              4.0    2023   \n",
       "4  22.47.01.004.00  Алтай     пашня              3.0    2023   \n",
       "\n",
       "                crop        crop_predecessor  crop_yearold    area   hybrid  \\\n",
       "0  Оз.пшеница мягкая  Пар; Яр.пшеница мягкая           NaN  306.22  Скипетр   \n",
       "1                Пар  Пар; Яр.пшеница мягкая           NaN   63.16      NaN   \n",
       "2                Пар       Яр.пшеница мягкая           NaN  485.79      NaN   \n",
       "3  Оз.пшеница мягкая                     Пар           NaN  452.25  Скипетр   \n",
       "4  Оз.пшеница мягкая                     Пар           NaN  269.64  Скипетр   \n",
       "\n",
       "  reproduction seed_origin   technology  yield_plan    p2o5     k2o  humus  \\\n",
       "0           ЭС    Покупные  минимальная         3.8  243.16  226.93   4.46   \n",
       "1          NaN         NaN  минимальная         NaN  243.16  226.93   4.46   \n",
       "2          NaN         NaN          NaN         NaN  219.78  204.60   3.85   \n",
       "3           ЭС    Покупные  минимальная         3.8  205.15  192.28   6.49   \n",
       "4           ЭС    Покупные  минимальная         3.8  183.26  162.69   6.16   \n",
       "\n",
       "     ph  Unnamed: 18  \n",
       "0  5.78          NaN  \n",
       "1  5.78          NaN  \n",
       "2  5.72          NaN  \n",
       "3  5.94          NaN  \n",
       "4  5.94          NaN  "
      ]
     },
     "execution_count": 97,
     "metadata": {},
     "output_type": "execute_result"
    }
   ],
   "source": [
    "df_fields.head()"
   ]
  },
  {
   "cell_type": "code",
   "execution_count": 98,
   "metadata": {},
   "outputs": [
    {
     "data": {
      "text/plain": [
       "season                0\n",
       "field                 0\n",
       "work_type             0\n",
       "work_subtype          0\n",
       "start_date            0\n",
       "end_date           9004\n",
       "area                  0\n",
       "main_tech             0\n",
       "add_tech          48540\n",
       "mech                  0\n",
       "proc_depth       132562\n",
       "prod_purpose     140822\n",
       "prod_weight           0\n",
       "prod_dry_perc    161715\n",
       "prod_humid       151128\n",
       "prod_impur       151128\n",
       "yield_fact            0\n",
       "work_id               0\n",
       "dtype: int64"
      ]
     },
     "execution_count": 98,
     "metadata": {},
     "output_type": "execute_result"
    }
   ],
   "source": [
    "df_works.isnull().sum()"
   ]
  },
  {
   "cell_type": "code",
   "execution_count": 99,
   "metadata": {},
   "outputs": [
    {
     "data": {
      "text/plain": [
       "array(['Боронование', 'Дискование', 'Вспашка', 'Обработка СЗР',\n",
       "       'Культивация', 'Внесение СЗР и удобрений', 'Прикатывание',\n",
       "       'Внесение органических удобрений',\n",
       "       'Внесение жидких органических удобрений',\n",
       "       'Внесение минеральных удобрений', 'Сев с внесением удобрений',\n",
       "       'Глубокорыхление', 'Сев без внесения удобрений', 'Мульчирование',\n",
       "       'Уборка трав', 'Дератизация', 'Прессование', 'Уборка камней',\n",
       "       'Сгребание в валки', 'Вывоз', 'Кошение', 'Подбор (корм)',\n",
       "       'Междурядная обработка без внесения', 'Ворошение',\n",
       "       'Уборка силос/карнаж', 'Подбор', 'Заготовка сенажа',\n",
       "       'Подбор и обмолот', 'Прямое комбайнирование',\n",
       "       'Вывоз (тех.культуры)', 'Копка'], dtype=object)"
      ]
     },
     "execution_count": 99,
     "metadata": {},
     "output_type": "execute_result"
    }
   ],
   "source": [
    "df_works['work_subtype'].unique()"
   ]
  },
  {
   "cell_type": "code",
   "execution_count": 100,
   "metadata": {},
   "outputs": [
    {
     "data": {
      "text/html": [
       "<div>\n",
       "<style scoped>\n",
       "    .dataframe tbody tr th:only-of-type {\n",
       "        vertical-align: middle;\n",
       "    }\n",
       "\n",
       "    .dataframe tbody tr th {\n",
       "        vertical-align: top;\n",
       "    }\n",
       "\n",
       "    .dataframe thead th {\n",
       "        text-align: right;\n",
       "    }\n",
       "</style>\n",
       "<table border=\"1\" class=\"dataframe\">\n",
       "  <thead>\n",
       "    <tr style=\"text-align: right;\">\n",
       "      <th></th>\n",
       "      <th>field</th>\n",
       "      <th>season</th>\n",
       "      <th>yield_fact</th>\n",
       "      <th>area</th>\n",
       "    </tr>\n",
       "  </thead>\n",
       "  <tbody>\n",
       "    <tr>\n",
       "      <th>0</th>\n",
       "      <td>02.09.02.002.01</td>\n",
       "      <td>2023</td>\n",
       "      <td>6.27</td>\n",
       "      <td>120.25</td>\n",
       "    </tr>\n",
       "    <tr>\n",
       "      <th>1</th>\n",
       "      <td>02.09.02.002.01</td>\n",
       "      <td>2024</td>\n",
       "      <td>0.00</td>\n",
       "      <td>325.75</td>\n",
       "    </tr>\n",
       "    <tr>\n",
       "      <th>2</th>\n",
       "      <td>02.09.02.010.00</td>\n",
       "      <td>2024</td>\n",
       "      <td>0.00</td>\n",
       "      <td>68.90</td>\n",
       "    </tr>\n",
       "    <tr>\n",
       "      <th>3</th>\n",
       "      <td>02.09.02.015.00</td>\n",
       "      <td>2023</td>\n",
       "      <td>9.83</td>\n",
       "      <td>36.34</td>\n",
       "    </tr>\n",
       "    <tr>\n",
       "      <th>4</th>\n",
       "      <td>02.09.02.019.00</td>\n",
       "      <td>2023</td>\n",
       "      <td>2.15</td>\n",
       "      <td>101.56</td>\n",
       "    </tr>\n",
       "  </tbody>\n",
       "</table>\n",
       "</div>"
      ],
      "text/plain": [
       "             field  season  yield_fact    area\n",
       "0  02.09.02.002.01    2023        6.27  120.25\n",
       "1  02.09.02.002.01    2024        0.00  325.75\n",
       "2  02.09.02.010.00    2024        0.00   68.90\n",
       "3  02.09.02.015.00    2023        9.83   36.34\n",
       "4  02.09.02.019.00    2023        2.15  101.56"
      ]
     },
     "execution_count": 100,
     "metadata": {},
     "output_type": "execute_result"
    }
   ],
   "source": [
    "# df_yield_fact = df_works[df_works['work_type'] == 'Уборка'  df_works['work_subtype'] == 'Уборка силос/карнаж'][['season', 'field', 'yield_fact']]\n",
    "df_yield_fact = df_works.query(\"work_type == 'Уборка' or 'work_subtype' == 'Уборка силос/карнаж'\")[['season', 'field', 'yield_fact', 'area']]\n",
    "df_yield_fact = df_yield_fact.groupby(by=['field', 'season']).sum().reset_index()\n",
    "\n",
    "df_yield_fact.head()"
   ]
  },
  {
   "cell_type": "code",
   "execution_count": 101,
   "metadata": {},
   "outputs": [
    {
     "data": {
      "text/html": [
       "<div>\n",
       "<style scoped>\n",
       "    .dataframe tbody tr th:only-of-type {\n",
       "        vertical-align: middle;\n",
       "    }\n",
       "\n",
       "    .dataframe tbody tr th {\n",
       "        vertical-align: top;\n",
       "    }\n",
       "\n",
       "    .dataframe thead th {\n",
       "        text-align: right;\n",
       "    }\n",
       "</style>\n",
       "<table border=\"1\" class=\"dataframe\">\n",
       "  <thead>\n",
       "    <tr style=\"text-align: right;\">\n",
       "      <th></th>\n",
       "      <th>season</th>\n",
       "      <th>field</th>\n",
       "      <th>p2o5</th>\n",
       "      <th>k2o</th>\n",
       "      <th>humus</th>\n",
       "      <th>ph</th>\n",
       "      <th>crop</th>\n",
       "      <th>yield_plan</th>\n",
       "    </tr>\n",
       "  </thead>\n",
       "  <tbody>\n",
       "    <tr>\n",
       "      <th>0</th>\n",
       "      <td>2023</td>\n",
       "      <td>22.47.01.001.01</td>\n",
       "      <td>243.16</td>\n",
       "      <td>226.93</td>\n",
       "      <td>4.46</td>\n",
       "      <td>5.78</td>\n",
       "      <td>Оз.пшеница мягкая</td>\n",
       "      <td>3.8</td>\n",
       "    </tr>\n",
       "    <tr>\n",
       "      <th>1</th>\n",
       "      <td>2023</td>\n",
       "      <td>22.47.01.001.02</td>\n",
       "      <td>243.16</td>\n",
       "      <td>226.93</td>\n",
       "      <td>4.46</td>\n",
       "      <td>5.78</td>\n",
       "      <td>Пар</td>\n",
       "      <td>NaN</td>\n",
       "    </tr>\n",
       "    <tr>\n",
       "      <th>2</th>\n",
       "      <td>2023</td>\n",
       "      <td>22.47.01.002.00</td>\n",
       "      <td>219.78</td>\n",
       "      <td>204.60</td>\n",
       "      <td>3.85</td>\n",
       "      <td>5.72</td>\n",
       "      <td>Пар</td>\n",
       "      <td>NaN</td>\n",
       "    </tr>\n",
       "    <tr>\n",
       "      <th>3</th>\n",
       "      <td>2023</td>\n",
       "      <td>22.47.01.003.00</td>\n",
       "      <td>205.15</td>\n",
       "      <td>192.28</td>\n",
       "      <td>6.49</td>\n",
       "      <td>5.94</td>\n",
       "      <td>Оз.пшеница мягкая</td>\n",
       "      <td>3.8</td>\n",
       "    </tr>\n",
       "    <tr>\n",
       "      <th>4</th>\n",
       "      <td>2023</td>\n",
       "      <td>22.47.01.004.00</td>\n",
       "      <td>183.26</td>\n",
       "      <td>162.69</td>\n",
       "      <td>6.16</td>\n",
       "      <td>5.94</td>\n",
       "      <td>Оз.пшеница мягкая</td>\n",
       "      <td>3.8</td>\n",
       "    </tr>\n",
       "  </tbody>\n",
       "</table>\n",
       "</div>"
      ],
      "text/plain": [
       "   season            field    p2o5     k2o  humus    ph               crop  \\\n",
       "0    2023  22.47.01.001.01  243.16  226.93   4.46  5.78  Оз.пшеница мягкая   \n",
       "1    2023  22.47.01.001.02  243.16  226.93   4.46  5.78                Пар   \n",
       "2    2023  22.47.01.002.00  219.78  204.60   3.85  5.72                Пар   \n",
       "3    2023  22.47.01.003.00  205.15  192.28   6.49  5.94  Оз.пшеница мягкая   \n",
       "4    2023  22.47.01.004.00  183.26  162.69   6.16  5.94  Оз.пшеница мягкая   \n",
       "\n",
       "   yield_plan  \n",
       "0         3.8  \n",
       "1         NaN  \n",
       "2         NaN  \n",
       "3         3.8  \n",
       "4         3.8  "
      ]
     },
     "execution_count": 101,
     "metadata": {},
     "output_type": "execute_result"
    }
   ],
   "source": [
    "df_fields_tmp = df_fields[['season', 'field', 'p2o5', 'k2o', 'humus', 'ph', 'crop', 'yield_plan']]\n",
    "df_fields_tmp.head()"
   ]
  },
  {
   "cell_type": "code",
   "execution_count": 102,
   "metadata": {},
   "outputs": [
    {
     "data": {
      "text/html": [
       "<div>\n",
       "<style scoped>\n",
       "    .dataframe tbody tr th:only-of-type {\n",
       "        vertical-align: middle;\n",
       "    }\n",
       "\n",
       "    .dataframe tbody tr th {\n",
       "        vertical-align: top;\n",
       "    }\n",
       "\n",
       "    .dataframe thead th {\n",
       "        text-align: right;\n",
       "    }\n",
       "</style>\n",
       "<table border=\"1\" class=\"dataframe\">\n",
       "  <thead>\n",
       "    <tr style=\"text-align: right;\">\n",
       "      <th></th>\n",
       "      <th>season</th>\n",
       "      <th>field</th>\n",
       "      <th>p2o5</th>\n",
       "      <th>k2o</th>\n",
       "      <th>humus</th>\n",
       "      <th>ph</th>\n",
       "      <th>crop</th>\n",
       "      <th>yield_plan</th>\n",
       "      <th>yield_fact</th>\n",
       "      <th>area</th>\n",
       "    </tr>\n",
       "  </thead>\n",
       "  <tbody>\n",
       "    <tr>\n",
       "      <th>0</th>\n",
       "      <td>2023</td>\n",
       "      <td>22.47.01.001.01</td>\n",
       "      <td>243.16</td>\n",
       "      <td>226.93</td>\n",
       "      <td>4.46</td>\n",
       "      <td>5.78</td>\n",
       "      <td>Оз.пшеница мягкая</td>\n",
       "      <td>3.8</td>\n",
       "      <td>2917.65</td>\n",
       "      <td>306.22</td>\n",
       "    </tr>\n",
       "    <tr>\n",
       "      <th>3</th>\n",
       "      <td>2023</td>\n",
       "      <td>22.47.01.003.00</td>\n",
       "      <td>205.15</td>\n",
       "      <td>192.28</td>\n",
       "      <td>6.49</td>\n",
       "      <td>5.94</td>\n",
       "      <td>Оз.пшеница мягкая</td>\n",
       "      <td>3.8</td>\n",
       "      <td>51.65</td>\n",
       "      <td>635.25</td>\n",
       "    </tr>\n",
       "    <tr>\n",
       "      <th>4</th>\n",
       "      <td>2023</td>\n",
       "      <td>22.47.01.004.00</td>\n",
       "      <td>183.26</td>\n",
       "      <td>162.69</td>\n",
       "      <td>6.16</td>\n",
       "      <td>5.94</td>\n",
       "      <td>Оз.пшеница мягкая</td>\n",
       "      <td>3.8</td>\n",
       "      <td>42.25</td>\n",
       "      <td>539.28</td>\n",
       "    </tr>\n",
       "    <tr>\n",
       "      <th>7</th>\n",
       "      <td>2023</td>\n",
       "      <td>22.47.01.006.02</td>\n",
       "      <td>214.17</td>\n",
       "      <td>215.49</td>\n",
       "      <td>4.40</td>\n",
       "      <td>5.67</td>\n",
       "      <td>Оз.пшеница мягкая</td>\n",
       "      <td>3.8</td>\n",
       "      <td>18.89</td>\n",
       "      <td>63.33</td>\n",
       "    </tr>\n",
       "    <tr>\n",
       "      <th>9</th>\n",
       "      <td>2023</td>\n",
       "      <td>22.47.01.007.02</td>\n",
       "      <td>202.62</td>\n",
       "      <td>188.54</td>\n",
       "      <td>4.84</td>\n",
       "      <td>5.56</td>\n",
       "      <td>Оз.пшеница мягкая</td>\n",
       "      <td>3.8</td>\n",
       "      <td>15.76</td>\n",
       "      <td>85.55</td>\n",
       "    </tr>\n",
       "  </tbody>\n",
       "</table>\n",
       "</div>"
      ],
      "text/plain": [
       "   season            field    p2o5     k2o  humus    ph               crop  \\\n",
       "0    2023  22.47.01.001.01  243.16  226.93   4.46  5.78  Оз.пшеница мягкая   \n",
       "3    2023  22.47.01.003.00  205.15  192.28   6.49  5.94  Оз.пшеница мягкая   \n",
       "4    2023  22.47.01.004.00  183.26  162.69   6.16  5.94  Оз.пшеница мягкая   \n",
       "7    2023  22.47.01.006.02  214.17  215.49   4.40  5.67  Оз.пшеница мягкая   \n",
       "9    2023  22.47.01.007.02  202.62  188.54   4.84  5.56  Оз.пшеница мягкая   \n",
       "\n",
       "   yield_plan  yield_fact    area  \n",
       "0         3.8     2917.65  306.22  \n",
       "3         3.8       51.65  635.25  \n",
       "4         3.8       42.25  539.28  \n",
       "7         3.8       18.89   63.33  \n",
       "9         3.8       15.76   85.55  "
      ]
     },
     "execution_count": 102,
     "metadata": {},
     "output_type": "execute_result"
    }
   ],
   "source": [
    "df = df_fields_tmp.merge(df_yield_fact, how='left', on=['field', 'season'])\n",
    "df = df.dropna()\n",
    "\n",
    "df.head()"
   ]
  },
  {
   "cell_type": "code",
   "execution_count": 103,
   "metadata": {},
   "outputs": [
    {
     "data": {
      "text/plain": [
       "(9344, 10)"
      ]
     },
     "execution_count": 103,
     "metadata": {},
     "output_type": "execute_result"
    }
   ],
   "source": [
    "df.shape"
   ]
  },
  {
   "cell_type": "code",
   "execution_count": 104,
   "metadata": {},
   "outputs": [
    {
     "data": {
      "text/plain": [
       "(8360, 10)"
      ]
     },
     "execution_count": 104,
     "metadata": {},
     "output_type": "execute_result"
    }
   ],
   "source": [
    "df = df[df['yield_fact'] > 0]\n",
    "\n",
    "df.shape"
   ]
  },
  {
   "cell_type": "code",
   "execution_count": 105,
   "metadata": {},
   "outputs": [],
   "source": [
    "import matplotlib.pyplot as plt"
   ]
  },
  {
   "cell_type": "code",
   "execution_count": 106,
   "metadata": {},
   "outputs": [],
   "source": [
    "def remove_outliers_iqr(df, column, k = 1.5):\n",
    "    Q1 = df[column].quantile(0.25)\n",
    "    Q3 = df[column].quantile(0.75)\n",
    "    IQR = Q3 - Q1\n",
    "    lower_bound = Q1 - k * IQR\n",
    "    upper_bound = Q3 + k * IQR\n",
    "    return df[(df[column] >= lower_bound) & (df[column] <= upper_bound)]"
   ]
  },
  {
   "cell_type": "code",
   "execution_count": 107,
   "metadata": {},
   "outputs": [
    {
     "data": {
      "image/png": "[encoded data removed]",
      "text/plain": [
       "<Figure size 1000x600 with 1 Axes>"
      ]
     },
     "metadata": {},
     "output_type": "display_data"
    }
   ],
   "source": [
    "df.boxplot(column=['yield_plan', 'yield_fact'], figsize=(10, 6))\n",
    "\n",
    "plt.show()"
   ]
  },
  {
   "cell_type": "code",
   "execution_count": 115,
   "metadata": {},
   "outputs": [
    {
     "data": {
      "image/png": "[encoded data removed]",
      "text/plain": [
       "<Figure size 1000x600 with 1 Axes>"
      ]
     },
     "metadata": {},
     "output_type": "display_data"
    }
   ],
   "source": [
    "cleaned_df = remove_outliers_iqr(df, 'yield_fact', k=1.5)\n",
    "\n",
    "cleaned_df.boxplot(column=['yield_plan', 'yield_fact'], figsize=(10, 6))\n",
    "\n",
    "plt.show()"
   ]
  },
  {
   "cell_type": "code",
   "execution_count": 116,
   "metadata": {},
   "outputs": [
    {
     "data": {
      "image/png": "[encoded data removed]",
      "text/plain": [
       "<Figure size 1000x600 with 1 Axes>"
      ]
     },
     "metadata": {},
     "output_type": "display_data"
    }
   ],
   "source": [
    "cleaned_df.boxplot(column=['p2o5', 'k2o', 'humus'], figsize=(10, 6))\n",
    "plt.show()"
   ]
  },
  {
   "cell_type": "code",
   "execution_count": 117,
   "metadata": {},
   "outputs": [
    {
     "data": {
      "image/png": "[encoded data removed]",
      "text/plain": [
       "<Figure size 1000x600 with 1 Axes>"
      ]
     },
     "metadata": {},
     "output_type": "display_data"
    }
   ],
   "source": [
    "cleaned_df.boxplot(column='ph', figsize=(10, 6))\n",
    "\n",
    "plt.show()"
   ]
  },
  {
   "cell_type": "code",
   "execution_count": null,
   "metadata": {},
   "outputs": [],
   "source": []
  },
  {
   "cell_type": "code",
   "execution_count": null,
   "metadata": {},
   "outputs": [],
   "source": []
  }
 ],
 "metadata": {
  "kernelspec": {
   "display_name": "DataAnalysisEnv",
   "language": "python",
   "name": "python3"
  },
  "language_info": {
   "codemirror_mode": {
    "name": "ipython",
    "version": 3
   },
   "file_extension": ".py",
   "mimetype": "text/x-python",
   "name": "python",
   "nbconvert_exporter": "python",
   "pygments_lexer": "ipython3",
   "version": "3.13.0"
  }
 },
 "nbformat": 4,
 "nbformat_minor": 2
}
